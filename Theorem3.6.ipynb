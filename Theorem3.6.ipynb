{
 "cells": [
  {
   "cell_type": "code",
   "execution_count": 33,
   "metadata": {
    "collapsed": false
   },
   "outputs": [
   ],
   "source": [
    "from sage.schemes.elliptic_curves.weierstrass_morphism import *\n",
    "S.<a,b,p,l,u,v,c,d,r,s,t,x,y,k,j,z>=QQ[]\n",
    "def E(c,d,b):\n",
    "    A=c^2*d\n",
    "    return EllipticCurve(S.fraction_field(),[A,-A*b,-A^2*b,0,0])\n",
    "def Emin(c,d,b):\n",
    "\treturn EllipticCurve(S.fraction_field(),[c*d,-b*d,-c*d^2*b,0,0])\n",
    "def Fmin(c,d,b):\n",
    "    return E(c,d,b).change_ring(QQ)\n",
    "def vp(n,p):\n",
    "\treturn log(1/Qp(p)(n).abs(),p)\n",
    "def PolyMod(f,n): ##Reduces a polynomial mod n\n",
    "    R = IntegerModRing(n)\n",
    "    S.<a,b,p,l,u,v,c,d,r,s,t,x,y,k,j>=R[]\n",
    "    return S(f)\n",
    "def PolyModFactor(f,p): ## p must be a prime since this uses the fact that F[x] is a UFD\n",
    "\tR=GF(p)   ##Finite field of p elements. A.k.a the ring Z/pZ\n",
    "\tS.<a,b,p,l,u,v,c,d,r,s,t,x,y>=R[];S\n",
    "\treturn factor(S(f))\n",
    "def vals(K):\n",
    "\tprint(\"c4\")\n",
    "\tprint(factor(K.c4()))\n",
    "\tprint(\"c6\")\n",
    "\tprint(factor(K.c6()))\n",
    "\tprint(\"Disc\")\n",
    "\tprint(factor(K.discriminant()))\n",
    "\tprint('a1')\n",
    "\tprint(factor(K.a1()))\n",
    "\tprint('a2')\n",
    "\tprint(factor(K.a2()))\n",
    "\tprint('a3')\n",
    "\tprint(factor(K.a3()))\n",
    "\tprint('a4')\n",
    "\tprint(factor(K.a4()))\n",
    "\tprint('a6')\n",
    "\tprint(factor(K.a6()))"
   ]
  },
  {
   "cell_type": "markdown",
   "metadata": {
    "collapsed": false
   },
   "source": [
    "Let $a=c^2d$ where $d$ is a squarefree integer. The curve E(c,d,b) corresponds to $E_{C_{4}}=E_{C_{4}}(c^2d,b)$ in the paper. Consequently, in the analysis below, we assume that $c,d,b$ are integers with $d$ squarefree and $gcd(c^2d,b)=1$.\n",
    "\n",
    "Below, we verify the Main Theorem in the case of $4$-torsion. That is, Theorem 3.6 of our paper. This verification will require several Weierstrass models which are referred to in our paper as $F_{T,j}$ where $j=1,2,3,4$. we define these models below, and throughout this notebook we will simply write Fj to refer to $F_{T,j}$."
   ]
  },
  {
   "cell_type": "code",
   "execution_count": 15,
   "metadata": {
    "collapsed": false
   },
   "outputs": [
   ],
   "source": [
    "M=c^2*d+16*b\n",
    "F1=E(c,d,b).change_weierstrass_model(c,0,0,c^4*d^4)\n",
    "F2=E(c,d,b).change_weierstrass_model(c,c^4*d^2/(128*l)*(d*M-16*l),-c*d/(128*l)*(c^2*d^2*M+16*l*(M-8*b+4*c)),-c^4*d^2/(256*l)*(c^2*d^2*M-2*c^3*d^2-16*c^2*d*l-32*b*c*d-128*b*l))\n",
    "F3=E(c,d,b).change_weierstrass_model(c,c^4*d^2/64*(d^4*c^2*M^2/(256*l^2)-8),-c*d/16*(16*b+8*c+2*c^2*d+c^2*d^2*M/(8*l)),-c^4*d^2/128*(-4*c^2*d-4*M+c^4*d^5*M^2/(256*l^2)-c*d*M/l))\n",
    "F4=E(c,d,b).change_weierstrass_model(c,c^3,c*b,c^5)"
   ]
  },
  {
   "cell_type": "markdown",
   "metadata": {
    "collapsed": false
   },
   "source": [
    "**Case 1.** Suppose the parameters of $E_T$ satisfy one of the conditions (3.15) for the Neron type III or III$^{*}$."
   ]
  },
  {
   "cell_type": "markdown",
   "metadata": {
    "collapsed": false
   },
   "source": [
    "**Subcase 1a.** Suppose $v_2(a)=2$. In particular, $v_2(c) = 1$ and $v_2(d)=v_2(b)=0$. Next, we consider the Weierstrass model $F4$."
   ]
  },
  {
   "cell_type": "code",
   "execution_count": 22,
   "metadata": {
    "collapsed": false
   },
   "outputs": [
    {
     "name": "stdout",
     "output_type": "stream",
     "text": [
      "c4\n",
      "d^2 * (c^4*d^2 + 16*b*c^2*d + 16*b^2)\n",
      "c6\n",
      "(-1) * d^3 * (c^2*d + 8*b) * (c^4*d^2 + 16*b*c^2*d - 8*b^2)\n",
      "Disc\n",
      "c^2 * b^4 * d^7 * (c^2*d + 16*b)\n",
      "a1\n",
      "d * c\n",
      "a2\n",
      "(-1) * d * b\n",
      "a3\n",
      "c * d^2 * (2*d^2 - b)\n",
      "a4\n",
      "(-1) * c^2 * d^5\n",
      "a6\n",
      "(-1) * c^2 * d^6 * (d^2 - b)\n"
     ]
    }
   ],
   "source": [
    "vals(F1)"
   ]
  },
  {
   "cell_type": "markdown",
   "metadata": {
    "collapsed": false
   },
   "source": [
    "<span style=\"color:blue\">\n",
    "Observe that $\\frac{a^2}{16} + ab + b^2 \\equiv 2 \\mod4 $. This and by inspection, we deduce that\n",
    "$$(v_2(c_4),v_2(c_6),v_2(\\Delta)) = ( 5 , 5, 4).$$\n",
    "By Papadopoulos Table IV, we have that $E_T$ has Neron type II or III. Now observe that\n",
    "$$(v_2(a_1),v_2(a_2),v_2(a_3),v_2(a_4),v_2(a_6))=(1,0,1,2,\\geq3).$$ \n",
    "In particular, Tate's Algorithm runs through Step 4. Thus $E_T$ must have Neron type III since $v_2(a_6)=2$."
   ]
  },
  {
   "cell_type": "markdown",
   "metadata": {
    "collapsed": false
   },
   "source": [
    "**Subcase 1b.** Suppoce $v_2(a)=6,bd \\equiv 3 \\mod 4$. In particular, $v_2(c)=3$. Next, we consider the Weierstrass model $F4$."
   ]
  },
  {
   "cell_type": "code",
   "execution_count": 21,
   "metadata": {
    "collapsed": false
   },
   "outputs": [
    {
     "name": "stdout",
     "output_type": "stream",
     "text": [
      "c4\n",
      "d^2 * (c^4*d^2 + 16*b*c^2*d + 16*b^2)\n",
      "c6\n",
      "(-1) * d^3 * (c^2*d + 8*b) * (c^4*d^2 + 16*b*c^2*d - 8*b^2)\n",
      "Disc\n",
      "c^2 * b^4 * d^7 * (c^2*d + 16*b)\n",
      "a1\n",
      "c*d + 2*b\n",
      "a2\n",
      "(-1) * (b*c*d + b^2 + b*d - 3*c)\n",
      "a3\n",
      "(-1) * c * (b*d^2 - c*d - 2*c)\n",
      "a4\n",
      "c * (b^2*d^2 - b*c*d - c^2*d - 2*b*c - 2*b*d + 3*c)\n",
      "a6\n",
      "c^2 * (b*c*d^2 - c^2*d - c^2 - b*d + c)\n"
     ]
    }
   ],
   "source": [
    "vals(F4)"
   ]
  },
  {
   "cell_type": "markdown",
   "metadata": {
    "collapsed": false
   },
   "source": [
    "<span style=\"color:blue\">\n",
    "By inspection,\n",
    "$$(v_2(c_4),v_2(c_6),v_2(\\Delta)) = ( 4 , 6, 10).$$\n",
    "By Papadopoulos Table IV, we have that $E_T$ has Neron type I$_n^{*}$ or III$^{*}$. Now observe that\n",
    "$$a_2 = 3c -bd -b^2-bcd \\equiv -bd - 1 \\mod 4 = 0 \\mod 4.$$\n",
    "$$(v_2(a_1),v_2(a_2),v_2(a_3),v_2(a_4),v_2(a_6))=(1,\\geq2,3,3,6).$$ \n",
    "In particular, Tate's Algorithm runs through Step 8. Thus $E_T$ must have Neron type III$^{*}$."
   ]
  },
  {
   "cell_type": "markdown",
   "metadata": {
    "collapsed": false
   },
   "source": [
    "**Case 2.** Suppose $v_2(a+16b)=5$. In particular, $v_2(a)=4$ and thus, $v_2(c)=2$ and $v_2(b)=v_2(d)=0$. Set $a + 16b = 8l^2k$ where $l=2$ and $c=4j$ for some integers $k,j$. In particular, $k,j$ are odd and $v_2(a+8b) = 3$. Next, we consider the Weierstrass model $F2$. The computation box below verifies that\n",
    "$$a_1=-2d(2d^2j^2k + dj^2 + 2k) \\equiv 2d^2j^2 \\mod 4 = 2 \\mod 4$$\n",
    "$$a_2=-d(4d^5k^2j^4 + 4d^4kj^4 + 8d^3k^2j^2 + d^3j^4 - 2d^2kj^2 + 4dk^2 + dj^2 + 2k) \\equiv -d(d^3j^4 + dj^2 ) \\mod 4 = 2 \\mod 4$$\n",
    "$$a_3=4d^3kj^2 \\equiv 4 \\mod 8$$\n",
    "$$a_4=4d^3kj^2(5d^3kj^2 - 2) \\equiv 4 \\mod 8$$\n",
    "$$a_6=4d^4kj^2(2d^5k^2j^4 - d^4kj^4 - 2d^3k^2j^2 - 5d^2kj^2 + 2dj^2 + 4k) \\equiv 0 \\mod 16.$$\n",
    "For the last congruence, note that\n",
    "$$\\frac{a_6}{4d^4kt^2} \\equiv 2k + 2d \\mod 4 = 0 \\mod4.$$\n",
    "In particular,\n",
    "$$(v_2(a_1),v_2(a_2),v_2(a_3),v_2(a_4),v_2(a_6))= (1, 1, 2, 2, \\geq4).$$\n",
    "Consequently, Tate's Algorithm proceeds to Step 6. Now observe that\n",
    "$$P(t)=t^3+a_{2,1}t^2+a_{4,2}t+a_{6,3} \\equiv t(t^2 + t + 1) \\mod 2$$\n",
    "Hence $E_T$ has Neron type I$_{0}^{*}$ with $c_2=2$. Lastly, we note that $v_2(\\Delta)=9$ which gives that $f_2=5$."
   ]
  },
  {
   "cell_type": "code",
   "execution_count": 41,
   "metadata": {
    "collapsed": false
   },
   "outputs": [
    {
     "name": "stdout",
     "output_type": "stream",
     "text": [
      "0\n",
      "0\n",
      "0\n",
      "0\n",
      "0\n",
      "Expressions of the Weierstrass coefficients with the substitutions c=4j, l=2 where  j,k,d are odd\n",
      "-2*(2*d^2*j^2*k + d*j^2 + 2*k)*d\n",
      "-(4*d^5*j^4*k^2 + 4*d^4*j^4*k + d^3*j^4 + 8*d^3*j^2*k^2 - 2*d^2*j^2*k + d*j^2 + 4*d*k^2 + 2*k)*d\n",
      "4*d^3*j^2*k\n",
      "4*(5*d^3*j^2*k - 2)*d^3*j^2*k\n",
      "4*(2*d^5*j^4*k^2 - d^4*j^4*k - 2*d^3*j^2*k^2 - 5*d^2*j^2*k + 2*d*j^2 + 4*k)*d^4*j^2*k\n"
     ]
    }
   ],
   "source": [
    "a21(c,d,l,k)=(-1/8) * d * (c^2*d^2*l*k + c^2*d + 8*l^2*k)\n",
    "a22(c,d,l,k)=(-1/256) * d * (c^4*d^5*l^2*k^2 + 2*c^4*d^4*l*k + 16*c^2*d^3*l^3*k^2 + c^4*d^3 + 16*c^2*d^2*l^2*k + 64*d*l^4*k^2 - 48*c^2*d^2*l*k + 16*c^2*d + 128*l^2*k)\n",
    "a23(c,d,l,k)=(1/8) * k * l * c^2 * d^3\n",
    "a24(c,d,l,k)=(1/256) * k * l^2 * c^2 * d^3 * (5*c^2*d^3*k - 32)\n",
    "a26(c,d,l,k)=(-1/4096) * k * l^2 * c^2 * d^4 * (-c^4*d^5*l*k^2 + c^4*d^4*k + 8*c^2*d^3*l^2*k^2 + 32*c^2*d^2*l*k + 16*c^2*d^2*k - 32*c^2*d - 256*l^2*k)\n",
    "## The code below verifies that these coefficients agree with those of our curve F2:\n",
    "print(expand(a21(c,d,l,(c^2*d+16*b)/(8*l^2))-F2.a1()))\n",
    "print(expand(a22(c,d,l,(c^2*d+16*b)/(8*l^2))-F2.a2()))\n",
    "print(expand(a23(c,d,l,(c^2*d+16*b)/(8*l^2))-F2.a3()))\n",
    "print(expand(a24(c,d,l,(c^2*d+16*b)/(8*l^2))-F2.a4()))\n",
    "print(expand(a26(c,d,l,(c^2*d+16*b)/(8*l^2))-F2.a6()))\n",
    "print('Expressions of the Weierstrass coefficients with the substitutions c=4j, l=2 where  j,k,d are odd')\n",
    "print(a21(4*j,d,2,k))  # c=4j, l=2. Note that j,k,d are odd.\n",
    "print(a22(4*j,d,2,k))\n",
    "print(a23(4*j,d,2,k))\n",
    "print(a24(4*j,d,2,k))\n",
    "print(a26(4*j,d,2,k))"
   ]
  },
  {
   "cell_type": "markdown",
   "metadata": {
    "collapsed": false
   },
   "source": [
    "**Case 3.** Suppose the parameters of $E_T$ satisfy one of the conditions (3.15) for the Neron type I$_n^{*}$ where $n>0$."
   ]
  },
  {
   "cell_type": "markdown",
   "metadata": {
    "collapsed": false
   },
   "source": [
    "**Subcase 3a.** Let $p$ be a prime and $n=v_p(a)$ is odd. In particular, $v_p(d)=1$ and $v_p(c)=\\frac{n-1}{2}$. Next, we consider the Weierstrass model $F1$."
   ]
  },
  {
   "cell_type": "code",
   "execution_count": 27,
   "metadata": {
    "collapsed": false
   },
   "outputs": [
    {
     "name": "stdout",
     "output_type": "stream",
     "text": [
      "c4\n",
      "d^2 * (c^4*d^2 + 16*b*c^2*d + 16*b^2)\n",
      "c6\n",
      "(-1) * d^3 * (c^2*d + 8*b) * (c^4*d^2 + 16*b*c^2*d - 8*b^2)\n",
      "Disc\n",
      "c^2 * b^4 * d^7 * (c^2*d + 16*b)\n",
      "a1\n",
      "d * c\n",
      "a2\n",
      "(-1) * d * b\n",
      "a3\n",
      "c * d^2 * (2*d^2 - b)\n",
      "a4\n",
      "(-1) * c^2 * d^5\n",
      "a6\n",
      "(-1) * c^2 * d^6 * (d^2 - b)\n"
     ]
    }
   ],
   "source": [
    "vals(F1)"
   ]
  },
  {
   "cell_type": "markdown",
   "metadata": {
    "collapsed": false
   },
   "source": [
    "<span style=\"color:blue\">\n",
    "By inspection,\n",
    "$$(v_p(c_4),v_p(c_6),v_p(\\Delta))= \\left\\{ \\begin{array}{cl}(2,3,6+v_p(a)) & \\text{if }p\\geq3   \\\\ (4,6,8)  & \\text{if }v_2(a)=1  \\\\ (6,\\geq10,12)  & \\text{if }v_2(a)=3 \\\\ (6,9,10+v_p(a))  & \\text{if }v_2(a)\\geq 5.\\end{array}\\right.$$\n",
    "By Papadopoulos Tables I, II, and IV, we observe that the Neron Type I$_{n}^{*}$ with $n=v_p(a)$ is possibility for each prime $p$. Now observe that\n",
    "$$(v_p(a_1),v_p(a_2),v_p(a_3),v_p(a_4),v_p(a_6)) = (\\geq1,1, \\frac{n+3}{2},n+4,n+5).$$\n",
    "By Lemma 2.1, we have that the Neron Type I$_{n}^{*}$ with $c_p=4$. Lastly, $f_p= v_p(\\Delta) - 4 - v_p(a)$."
   ]
  },
  {
   "cell_type": "markdown",
   "metadata": {
    "collapsed": false
   },
   "source": [
    "**Subcase 3b.** Suppose $n = v_2(a) - 4 \\geq 2$ is even with $bd \\equiv 1 \\mod 4$. In particular, $v_2(a) \\geq 6$ is even and thus $v_2(c) \\geq 3$. Note that $ v_2(c) = \\frac{n+4}{2}$. Next, we consider the Weierstrass model $F4$."
   ]
  },
  {
   "cell_type": "code",
   "execution_count": 28,
   "metadata": {
    "collapsed": false
   },
   "outputs": [
    {
     "name": "stdout",
     "output_type": "stream",
     "text": [
      "c4\n",
      "d^2 * (c^4*d^2 + 16*b*c^2*d + 16*b^2)\n",
      "c6\n",
      "(-1) * d^3 * (c^2*d + 8*b) * (c^4*d^2 + 16*b*c^2*d - 8*b^2)\n",
      "Disc\n",
      "c^2 * b^4 * d^7 * (c^2*d + 16*b)\n",
      "a1\n",
      "c*d + 2*b\n",
      "a2\n",
      "(-1) * (b*c*d + b^2 + b*d - 3*c)\n",
      "a3\n",
      "(-1) * c * (b*d^2 - c*d - 2*c)\n",
      "a4\n",
      "c * (b^2*d^2 - b*c*d - c^2*d - 2*b*c - 2*b*d + 3*c)\n",
      "a6\n",
      "c^2 * (b*c*d^2 - c^2*d - c^2 - b*d + c)\n"
     ]
    }
   ],
   "source": [
    "vals(F4)"
   ]
  },
  {
   "cell_type": "markdown",
   "metadata": {
    "collapsed": false
   },
   "source": [
    "<span style=\"color:blue\">\n",
    "By inspection,\n",
    "$$(v_2(c_4),v_2(c_4),v_2(\\Delta)) = (4, 6, v_p(a) + 4).$$\n",
    "By Papadopoulos Table IV, we observe that the Neron Type I$_{n}^{*}$ with $n=v_2(a)-4$ is possibility. Now observe that\n",
    "$$a2=3c -bd -b^2-bcd \\equiv -bd -b^2 \\mod 4 = 2 \\mod 4.$$\n",
    "By this and inspection, we deduce that\n",
    "$$(v_2(a_1),v_2(a_2),v_2(a_3),v_2(a_4),v_2(a_6)) = (1, 1, v_2(c), v_2(c), 2v_2(c)) = (1,1, \\frac{n+4}{2},\\frac{n+4}{2},n+4).$$\n",
    "By Lemma 2.1, we have that the Neron Type I$_{n}^{*}$ with $n=v_2(a)-4$ and $c_2=4$. Moreover, $f_2=4$."
   ]
  },
  {
   "cell_type": "markdown",
   "metadata": {
    "collapsed": false
   },
   "source": [
    "**Subcase 3c.** Suppose $n = v_2(a+16b) - 4 \\geq 3$ is odd. In particular, $v_2(a+16b) \\geq 5$ is odd and $v_2(a) = 4$. Therefore $v_2(c)=2$ and $v_2(d)=v_2(b)=0$. Next, set $l=2^{(v_2(a+16b)-3)/2}$. Hence $v_2(l) \\geq 2$. Note that $l$ is chosen so that $a+16b = 8l^2k$ where $k$ is odd. Thus $l^2 = \\frac{a+16b}{8k}$ which shows that $2v_2(l) = v_2(a+16b) - 3$ and $v_2(l) = \\frac{v_2(a+16b)-3}{2}$\n",
    "\n",
    "Next, we consider the Weierstrass model $F2$. To this end, set $c = 4j$ for $j$ odd and we note that by assumption $l = 4z$ for some integer $z$. Note that $n=3$ if and only if $z$ is odd. Moreover, $n = v_2(a+16b) - 4$ implies that $n = 3 + 2v_2(4z) - 4 = 2v_2(4z) - 1$ which is equivalent to $v_2(4z) = \\frac{n+1}{2}$. Thus $v_2(z) = \\frac{n+1}{2} - 2$.\n",
    "\n",
    "The computation box below verifies that\n",
    "$$a_1=-2d(4d^2j^2kz + dj^2 + 8kz^2) \\equiv 2 \\mod 4$$\n",
    "$$a_2=-d(16d^5j^4k^2z^2 + 8d^4j^4kz + 64d^3j^2k^2z^3 + d^3j^4 + 16d^2j^2kz^2 + 64dk^2z^4 - 12d^2j^2kz + dj^2 + 8kz^2)\\equiv -d(d^3j^4 + dj^2 ) \\mod 4 = 2 \\mod 4$$\n",
    "$$a_3=8d^3j^2kz$$\n",
    "$$a_4=16d^3j^2kz^2(5d^3j^2k - 2)$$\n",
    "$$a_6=16d^4j^2kz^2(4d^5j^4k^2z - d^4j^4k - 8d^3j^2k^2z^2 - 8d^2j^2kz - d^2j^2k + 2dj^2 + 16kz^2).$$\n",
    "\n",
    "Consequently,\n",
    "$$(v_2(a_1),v_2(a_2),v_2(a_3),v_2(a_4)) = (1,1, 3 + v_2(z), 4 + 2v_2(z) ) = (1, 1,  \\frac{n+3}{2}, n+1 )$$\n",
    "\n",
    "It remains to compute the valuation of $a_6$. To this end, observe that \n",
    "$$ 4d^5j^4k^2z - d^4j^4k - 8d^3j^2k^2z^2 - 8d^2j^2kz - d^2j^2k + 2dj^2 + 16kz^2 \\equiv 4dz + 2(d-k) \\mod 8 = \\left\\{ \\begin{array}{cl}0 \\equiv 8 & \\text{if (i)}z\\text{ is odd and }dk \\equiv 3 \\mod 4\\text{ or } (ii) z\\text{ is even and }dk \\equiv 1 \\mod4   \\\\ 4 \\equiv 8  & \\text{if (i)}z\\text{ is odd and }dk \\equiv 1 \\mod 4\\text{ or } (ii) z\\text{ is even and }dk \\equiv 3 \\mod4.\\end{array}\\right.$$\n",
    "\n",
    "Since $k=\\frac{a+16b}{8l^2}=\\frac{a+16b}{2^{n+4}}$, we deduce that\n",
    "$$v_2(a_6)=\\left\\{ \\begin{array}{cl}\\geq n+4 & \\text{if (i)}n=3\\text{ and }d(a+16b)\\equiv 3\\cdot2^7 \\mod 2^9 \\text{ or } (ii) n\\geq4\\text{ and }\\equiv 2^{n+4} \\mod 2^{n+6}   \\\\ n+3  & \\text{if (i)}n=3\\text{ and }d(a+16b)\\equiv 2^7 \\mod 2^9 \\text{ or } (ii) n\\geq4\\text{ and }\\equiv 3\\cdot2^{n+4} \\mod 2^{n+6}.\\end{array}\\right.$$\n",
    "\n",
    "By Lemma 2.1, we conclude that $E_T$ has Neron type I$_n^{*}$ at $2$ with\n",
    "$$c_2=\\left\\{ \\begin{array}{cl}4 & \\text{if (i)}n=3\\text{ and }d(a+16b)\\equiv 3\\cdot2^7 \\mod 2^9 \\text{ or } (ii) n\\geq4\\text{ and }\\equiv 2^{n+4} \\mod 2^{n+6}   \\\\ 2  & \\text{if (i)}n=3\\text{ and }d(a+16b)\\equiv 2^7 \\mod 2^9 \\text{ or } (ii) n\\geq4\\text{ and }\\equiv 3\\cdot2^{n+4} \\mod 2^{n+6}.\\end{array}\\right.$$"
   ]
  },
  {
   "cell_type": "code",
   "execution_count": 42,
   "metadata": {
    "collapsed": false
   },
   "outputs": [
    {
     "name": "stdout",
     "output_type": "stream",
     "text": [
      "0\n",
      "0\n",
      "0\n",
      "0\n",
      "0\n",
      "Expressions of the Weierstrass coefficients with the substitutions c=4j and l =4z\n",
      "-2*(4*d^2*j^2*k*z + d*j^2 + 8*k*z^2)*d\n",
      "-(16*d^5*j^4*k^2*z^2 + 8*d^4*j^4*k*z + 64*d^3*j^2*k^2*z^3 + d^3*j^4 + 16*d^2*j^2*k*z^2 + 64*d*k^2*z^4 - 12*d^2*j^2*k*z + d*j^2 + 8*k*z^2)*d\n",
      "8*d^3*j^2*k*z\n",
      "16*(5*d^3*j^2*k - 2)*d^3*j^2*k*z^2\n",
      "16*(4*d^5*j^4*k^2*z - d^4*j^4*k - 8*d^3*j^2*k^2*z^2 - 8*d^2*j^2*k*z - d^2*j^2*k + 2*d*j^2 + 16*k*z^2)*d^4*j^2*k*z^2\n"
     ]
    }
   ],
   "source": [
    "a21(c,d,l,k)=(-1/8) * d * (c^2*d^2*l*k + c^2*d + 8*l^2*k)\n",
    "a22(c,d,l,k)=(-1/256) * d * (c^4*d^5*l^2*k^2 + 2*c^4*d^4*l*k + 16*c^2*d^3*l^3*k^2 + c^4*d^3 + 16*c^2*d^2*l^2*k + 64*d*l^4*k^2 - 48*c^2*d^2*l*k + 16*c^2*d + 128*l^2*k)\n",
    "a23(c,d,l,k)=(1/8) * k * l * c^2 * d^3\n",
    "a24(c,d,l,k)=(1/256) * k * l^2 * c^2 * d^3 * (5*c^2*d^3*k - 32)\n",
    "a26(c,d,l,k)=(-1/4096) * k * l^2 * c^2 * d^4 * (-c^4*d^5*l*k^2 + c^4*d^4*k + 8*c^2*d^3*l^2*k^2 + 32*c^2*d^2*l*k + 16*c^2*d^2*k - 32*c^2*d - 256*l^2*k)\n",
    "## The code below verifies that these coefficients agree with those of our curve F2:\n",
    "print(expand(a21(c,d,l,(c^2*d+16*b)/(8*l^2))-F2.a1()))\n",
    "print(expand(a22(c,d,l,(c^2*d+16*b)/(8*l^2))-F2.a2()))\n",
    "print(expand(a23(c,d,l,(c^2*d+16*b)/(8*l^2))-F2.a3()))\n",
    "print(expand(a24(c,d,l,(c^2*d+16*b)/(8*l^2))-F2.a4()))\n",
    "print(expand(a26(c,d,l,(c^2*d+16*b)/(8*l^2))-F2.a6()))\n",
    "print('Expressions of the Weierstrass coefficients with the substitutions c=4j and l =4z')\n",
    "print(a21(4*j,d,4*z,k))\n",
    "print(a22(4*j,d,4*z,k))\n",
    "print(a23(4*j,d,4*z,k))\n",
    "print(a24(4*j,d,4*z,k))\n",
    "print(a26(4*j,d,4*z,k))"
   ]
  },
  {
   "cell_type": "markdown",
   "metadata": {
    "collapsed": false
   },
   "source": [
    "**Subcase 3d.**\n",
    "<span style=\"color:blue\">\n",
    " Suppose $n = v_2(a+16b) - 4 \\geq 2$ is even. In particular, $v_2(a+16b) \\geq 6$ is even and $v_2(a) = 4$. This implies $v_2(c)=2$ and $v_2(d)=v_2(b)=0$. Set $l=2^{(v2(a+16b)-2)/2}$. We note that $l$ is chosen to be a power of $2$ such that $a+16b = 16l^2k$ with $k$ odd. Thus $l^2 = \\frac{a+16b}{16k}$ which implies that $2v_2(l) = v_2(a+16b) - 4$. Thus $$v_2(l) = v_2(a+16b)/2 - 2.$$\n",
    "Next, we consider the Weierstrass model $F3$. To this end, set $a = 4j$ for $j$ odd and we note that by assumption $l = 2z$ for some integer $z$. Moreover, $n = v_2(a+16b) - 4$ implies that $n = 2v_2(l)$. Thus $\\frac{n}{2} = v_2(l)$ and so $v_2(z) = \\frac{n-2}{2}$.\n",
    "The computation box below verifies that\n",
    "$$a_1=-2d(4d^2j^2kz + dj^2 + 4kz^2) \\equiv 2 \\mod 4$$\n",
    "$$a_2=d(32d^5j^4k^2z^2 - 8d^4j^4kz - 32d^3j^2k^2z^3 - d^3j^4 - 8d^2j^2kz^2 - 16dk^2z^4 - dj^2 - 4kz^2) \\equiv 2 \\mod 4$$\n",
    "$$a_3=8d^3j^2kz$$\n",
    "$$a_4=8d^3j^2kz(96d^9j^6k^3z^3 - 4d^5j^4kz - 16d^4j^2k^2z^3 + 4d^3j^2kz + d^2j^2 + 4dkz^2 - 2z)$$\n",
    "$$a_6=16d^4j^2kz^2(256d^{14}j^{10}k^5z^4 - 16d^{10}j^8k^3z^2 - 64d^9j^6k^4z^4 - 16d^5j^4k^2z^2 - d^2j^2k + dj^2 + 4kz^2).$$\n",
    "Consequently,\n",
    "$$(v_2(a_1),v_2(a_2),v_2(a_3),v_2(a_4)) = (1,1, 3 +v_2(z), 3 + v_2(z) )= (1,1,\\frac{n+4}{2},\\frac{n+4}{2}) $$\n",
    "It remains to compute the valuation of $a_6$. To this end, observe that\n",
    "$$256d^{14}j^{10}k^5z^4 - 16d^{10}j^8k^3z^2 - 64d^9j^6k^4z^4 - 16d^5j^4k^2z^2 - d^2j^2k + dj^2 + 4kz^2 \\equiv d- k \\mod 4.$$\n",
    "Since $v_2(16d^4j^2kz^2)=4+2v_2(z)=n+2$, we conclude that\n",
    "$$v_2(a_6)=\\left\\{ \\begin{array}{cl}\\geq n+4 & \\text{if } dk\\equiv 1 \\mod 4  \\\\ n+3  & \\text{if }dk \\equiv 3 \\mod 4.\\end{array}\\right.$$\n",
    "By Lemma 2.1, we conclude that $E_T$ has Neron type I$_n^{*}$ at $2$ with\n",
    "$$c_2=\\left\\{ \\begin{array}{cl} 2 & \\text{if } d(a+16b)\\equiv 3\\cdot2^{n+4} \\mod 2^{n+6}  \\\\ 4  & \\text{if }d(a+16b)\\equiv 2^{n+4} \\mod 2^{n+6}.\\end{array}\\right.$$\n",
    "Observe that in the above, we used the fact that $k=\\frac{a+16b}{16l^2}=\\frac{a+16b}{2^{n+4}}$."
   ]
  },
  {
   "cell_type": "code",
   "execution_count": 40,
   "metadata": {
    "collapsed": false
   },
   "outputs": [
    {
     "name": "stdout",
     "output_type": "stream",
     "text": [
      "0\n",
      "0\n",
      "0\n",
      "0\n",
      "0\n",
      "Expressions of the Weierstrass coefficients with the substitutions c=4j and l =2z\n",
      "-2*(4*d^2*j^2*k*z + d*j^2 + 4*k*z^2)*d\n",
      "(32*d^5*j^4*k^2*z^2 - 8*d^4*j^4*k*z - 32*d^3*j^2*k^2*z^3 - d^3*j^4 - 8*d^2*j^2*k*z^2 - 16*d*k^2*z^4 - d*j^2 - 4*k*z^2)*d\n",
      "8*d^3*j^2*k*z\n",
      "8*(96*d^9*j^6*k^3*z^3 - 4*d^5*j^4*k*z - 16*d^4*j^2*k^2*z^3 + 4*d^3*j^2*k*z + d^2*j^2 + 4*d*k*z^2 - 2*z)*d^3*j^2*k*z\n",
      "16*(256*d^14*j^10*k^5*z^4 - 16*d^10*j^8*k^3*z^2 - 64*d^9*j^6*k^4*z^4 - 16*d^5*j^4*k^2*z^2 - d^2*j^2*k + d*j^2 + 4*k*z^2)*d^4*j^2*k*z^2\n"
     ]
    }
   ],
   "source": [
    "a31(c,d,l,k)=(-1/8) * d * (2*c^2*d^2*l*k + c^2*d + 16*l^2*k)\n",
    "a32(c,d,l,k)=(-1/256) * d * (-8*c^4*d^5*l^2*k^2 + 4*c^4*d^4*l*k + 64*c^2*d^3*l^3*k^2 + c^4*d^3 + 32*c^2*d^2*l^2*k + 256*d*l^4*k^2 + 16*c^2*d + 256*l^2*k)\n",
    "a33(c,d,l,k)=(1/4) * k * l * c^2 * d^3\n",
    "a34(c,d,l,k)=(1/4096) * k * l * c^2 * d^3 * (3*c^6*d^9*l^3*k^3 - 8*c^4*d^5*l*k - 128*c^2*d^4*l^3*k^2 + 128*c^2*d^3*l*k + 64*c^2*d^2 + 1024*d*l^2*k - 1024*l)\n",
    "a36(c,d,l,k)=(1/262144) * k * l^2 * c^2 * d^4 * (c^10*d^14*l^4*k^5 - 4*c^8*d^10*l^2*k^3 - 64*c^6*d^9*l^4*k^4 - 1024*c^4*d^5*l^2*k^2 - 4096*c^2*d^2*k + 4096*c^2*d + 65536*l^2*k)\n",
    "## The code below verifies that these coefficients agree with those of our curve F3:\n",
    "print(expand(a31(c,d,l,(c^2*d+16*b)/(16*l^2))-F3.a1()))\n",
    "print(expand(a32(c,d,l,(c^2*d+16*b)/(16*l^2))-F3.a2()))\n",
    "print(expand(a33(c,d,l,(c^2*d+16*b)/(16*l^2))-F3.a3()))\n",
    "print(expand(a34(c,d,l,(c^2*d+16*b)/(16*l^2))-F3.a4()))\n",
    "print(expand(a36(c,d,l,(c^2*d+16*b)/(16*l^2))-F3.a6()))\n",
    "print('Expressions of the Weierstrass coefficients with the substitutions c=4j and l =2z')\n",
    "print(a31(4*j,d,2*z,k))\n",
    "print(a32(4*j,d,2*z,k))\n",
    "print(a33(4*j,d,2*z,k))\n",
    "print(a34(4*j,d,2*z,k))\n",
    "print(a36(4*j,d,2*z,k))"
   ]
  },
  {
   "cell_type": "code",
   "execution_count": 0,
   "metadata": {
    "collapsed": false
   },
   "outputs": [
   ],
   "source": [
   ]
  }
 ],
 "metadata": {
  "kernelspec": {
   "display_name": "SageMath 9.1",
   "language": "sagemath",
   "metadata": {
    "cocalc": {
     "description": "Open-source mathematical software system",
     "priority": 10,
     "url": "https://www.sagemath.org/"
    }
   },
   "name": "sage-9.1",
   "resource_dir": "/ext/jupyter/kernels/sage-9.1"
  },
  "language_info": {
   "codemirror_mode": {
    "name": "ipython",
    "version": 3
   },
   "file_extension": ".py",
   "mimetype": "text/x-python",
   "name": "python",
   "nbconvert_exporter": "python",
   "pygments_lexer": "ipython3",
   "version": "3.7.3"
  }
 },
 "nbformat": 4,
 "nbformat_minor": 4
}