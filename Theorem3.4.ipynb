{
 "cells": [
  {
   "cell_type": "code",
   "execution_count": 30,
   "metadata": {
    "collapsed": false
   },
   "outputs": [
   ],
   "source": [
    "from sage.schemes.elliptic_curves.weierstrass_morphism import *\n",
    "S.<a,b,p,l,u,v,c,d,r,s,t,k,x,y,e>=QQ[]\n",
    "def Ej(a):\n",
    "\treturn EllipticCurve(S.fraction_field(),[0,0,a,0,0])\n",
    "def vp(n,p):\n",
    "    try:\n",
    "        log(1/Qp(p)(n).abs(),p)\n",
    "    except ZeroDivisionError:\n",
    "            return 'inf'\n",
    "    else:\n",
    "        return log(1/Qp(p)(n).abs(),p)\n",
    "def PolyMod(f,n):\n",
    "    R = IntegerModRing(n)\n",
    "    S.<a,b,p,l,u,v,c,d,r,s,t,x,y,e>=R[]\n",
    "    return S(f)\n",
    "def vals(G):\n",
    "\tprint('a1')\n",
    "\tprint(factor(G.a1()))\n",
    "\tprint('a2')\n",
    "\tprint(factor(G.a2()))\n",
    "\tprint('a3')\n",
    "\tprint(factor(G.a3()))\n",
    "\tprint('a4')\n",
    "\tprint(factor(G.a4()))\n",
    "\tprint('a6')\n",
    "\tprint(factor(G.a6()))\n",
    "\tprint('b6')\n",
    "\tprint(factor(G.b6()))\n",
    "\tprint('b8')\n",
    "\tprint(factor(G.b8()))"
   ]
  },
  {
   "cell_type": "markdown",
   "metadata": {
    "collapsed": false
   },
   "source": [
    "The curve $E_{C_{3}}^0(a)$ in the paper. Below, we verify Theorem 3.4. This curve has $j$-invariant $0$ and by assumption a is a cubefree integer."
   ]
  },
  {
   "cell_type": "code",
   "execution_count": 36,
   "metadata": {
    "collapsed": false
   },
   "outputs": [
    {
     "name": "stdout",
     "output_type": "stream",
     "text": [
      "c6\n",
      "(-216) * a^2\n",
      "disc\n",
      "(-27) * a^4\n",
      "additional condition\n",
      "64*a^4 + 2\n"
     ]
    }
   ],
   "source": [
    "print('c6')\n",
    "print(factor(Ej(a).c6()))\n",
    "print('disc')\n",
    "print(factor(Ej(a).discriminant()))\n",
    "print('additional condition')\n",
    "print((Ej(a).c6()/27)^2+2)"
   ]
  },
  {
   "cell_type": "markdown",
   "metadata": {
    "collapsed": false
   },
   "source": [
    "<span style=\"color:blue\">\n",
    "The invariant associated to $E_{C_{3}}^0(a)$ are $(v_p(c_4),v_p(c_6), v_p(\\Delta))=(0,3*v_p(6) + 2v_p(a), 3v_p(3) + 4v_p(a))$.\n",
    "For $p = 3$, $v_p(a) = 0$, we have the following :\n",
    "$$(v_p(c_4),v_p(c_6), v_p(\\Delta))=(\\infty, 3, 3)$$\n",
    "which implies the Nèron type is III or II using Papadopoulos. Next we verify the addtional condition\n",
    "$$(\\frac{c_{6}}{27})^2-\\frac{c_{4}}{3}+2=64a^4+2 \\equiv \\left\\{\n",
    "\\begin{array}\n",
    "[c]{ll}%\n",
    "3,6\\ \\mod 9 & \\text{if }a\\equiv\\pm1,\\pm4\\ \\mod 9,\\\\\n",
    "0\\ \\mod 9 & \\text{if }a\\equiv\\pm2\\ \\mod 9.\n",
    "\\end{array}\n",
    "\\right.$$"
   ]
  },
  {
   "cell_type": "markdown",
   "metadata": {
    "collapsed": false
   },
   "source": [
    "Consider the case $v_{p}\\!\\left(  a\\right)  =1,2$, in this case we consider the following change in variables, this F_T in the paper."
   ]
  },
  {
   "cell_type": "code",
   "execution_count": 21,
   "metadata": {
    "collapsed": false
   },
   "outputs": [
    {
     "name": "stdout",
     "output_type": "stream",
     "text": [
      "a1\n",
      "(2) * a^2\n",
      "a2\n",
      "(-1) * a * (a^3 - 3)\n",
      "a3\n",
      "a * (2*a + 1)\n",
      "a4\n",
      "(-1) * (a - 1) * (2*a + 3) * a^2\n",
      "a6\n",
      "(-1) * a^4\n",
      "b6\n",
      "(4*a + 1) * a^2\n",
      "b8\n",
      "(3) * (a + 1) * a^3\n"
     ]
    }
   ],
   "source": [
    "K=Ej(a).change_weierstrass_model(1,a,a^2,a^2)\n",
    "vals(K)"
   ]
  },
  {
   "cell_type": "markdown",
   "metadata": {
    "collapsed": false
   },
   "source": [
    "<span style=\"color:blue\">\n",
    "By inspection, for the above conditions we get\n",
    "$$(v_p(a_1),v_p(a_2),v_p(a_3),v_p(a_4),v_p(a_6), v_p(b_6), v_p(b_8))=(v_p(2) + 2v_2(a),v_p(a) + v_p(a^3-3),v_p(a),2v_p(a),4v_p(a),2v_p(a), 2v_p(a))=\\left(  \\geq2,\\geq v_{p}\\!\\left(  a\\right)\n",
    ",v_{p}\\!\\left(  a\\right)  ,\\geq2v_{p}\\!\\left(  a\\right)  ,4v_{p}\\!\\left(\n",
    "a\\right)  \\right).$$\n",
    "(i) Suppose $v_{p}\\!\\left(  a\\right)  =1$. We observe that \n",
    "$\\left(v_{p}\\!\\left(  b_{6}\\right)  ,v_{p}\\!\\left(  b_{8}\\right)  \\right)  =\\left(\n",
    "2,\\geq3\\right)$. In this case, $E_{T}$ has Nèron\n",
    "type IV at $p$. The Tamagawa number $c_{p}=3$ follows since $$t^{2}+a_{3,1}t-a_{6,2}\\equiv t\\left(\n",
    "t+a_{3,1}\\right)  \\ \\operatorname{mod}p.$$\n",
    "(ii) Suppose $v_{p}\\!\\left(  a\\right)  =2$. We observe that \n",
    "$$t^{3}+a_{2,1}t^{2}%\n",
    "+a_{4,2}t+a_{6,3}\\equiv t^{3}\\ \\operatorname{mod}p.$$\n",
    "In this case, $E_{T}$ has Nèron\n",
    "type $\\rm{IV}^*$ at $p$. The Tamagawa number $c_{p}=3$ since $$t^{2}+a_{3,2}t-a_{6,4}\\equiv t\\left(\n",
    "t+a_{3,2}\\right)  \\ \\operatorname{mod}p$$\n",
    "has distinct roots in $\\mathbb{F}\n",
    "_{p}$.\n"
   ]
  },
  {
   "cell_type": "code",
   "execution_count": 0,
   "metadata": {
    "collapsed": false
   },
   "outputs": [
   ],
   "source": [
   ]
  }
 ],
 "metadata": {
  "kernelspec": {
   "display_name": "SageMath 9.1",
   "language": "sagemath",
   "metadata": {
    "cocalc": {
     "description": "Open-source mathematical software system",
     "priority": 10,
     "url": "https://www.sagemath.org/"
    }
   },
   "name": "sage-9.1",
   "resource_dir": "/ext/jupyter/kernels/sage-9.1"
  },
  "language_info": {
   "codemirror_mode": {
    "name": "ipython",
    "version": 3
   },
   "file_extension": ".py",
   "mimetype": "text/x-python",
   "name": "python",
   "nbconvert_exporter": "python",
   "pygments_lexer": "ipython3",
   "version": "3.7.3"
  }
 },
 "nbformat": 4,
 "nbformat_minor": 4
}