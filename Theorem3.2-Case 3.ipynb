{
 "cells": [
  {
   "cell_type": "code",
   "execution_count": 2,
   "metadata": {
    "collapsed": false
   },
   "outputs": [
   ],
   "source": [
    "from sage.schemes.elliptic_curves.weierstrass_morphism import *\n",
    "S.<a,b,p,l,u,v,c,d,r,s,t,x,y,k,j>=QQ[]\n",
    "def E(a,b,d):\n",
    "\tA=a\n",
    "\n",
    "\tB=b^2*d\n",
    "\treturn EllipticCurve(S.fraction_field(),[0,2*A,0,A^2-B,0])\n",
    "def F(a,b,d):\n",
    "    return E(a,b,d).change_ring(QQ)\n",
    "def vp(n,p):\n",
    "\treturn log(1/Qp(p)(n).abs(),p)\n",
    "def PolyMod(f,n): ##Reduces a polynomial mod n\n",
    "    R = IntegerModRing(n)\n",
    "    S.<a,b,p,l,u,v,c,d,r,s,t,x,y>=R[]\n",
    "    return S(f)\n",
    "def PolyModFactor(f,p): ## p must be a prime since this uses the fact that F[x] is a UFD\n",
    "\tR=GF(p)   ##Finite field of p elements. A.k.a the ring Z/pZ\n",
    "\tS.<a,b,p,l,u,v,c,d,r,s,t,x,y>=R[];S\n",
    "\treturn factor(S(f))\n",
    "def Em1(a,b,d):\n",
    "\treturn E(a,b,d).change_weierstrass_model(2,0,2,0)\n",
    "def Fm1(a,b,d):\n",
    "    return Em1(a,b,d).change_ring(QQ)\n",
    "def Tateo(n,p):\n",
    "\tv=Integer((n+3)/2)\n",
    "\treturn ['a3',vp(p^v,2),'a6',vp(p^(2*v),2)]\n",
    "def Tatee(n,p):\n",
    "\tv=Integer((n+2)/2)\n",
    "\treturn ['a4',vp(p^(v+1),2),'a6',vp(p^(2*v+1),2)]\n",
    "def vals(G):\n",
    "\tprint(\"c4\")\n",
    "\tprint(factor(G.c4()))\n",
    "\tprint(\"c6\")\n",
    "\tprint(factor(G.c6()))\n",
    "\tprint(\"Disc\")\n",
    "\tprint(factor(G.discriminant()))\n",
    "\tprint('a1')\n",
    "\tprint(factor(G.a1()))\n",
    "\tprint('a2')\n",
    "\tprint(factor(G.a2()))\n",
    "\tprint('a3')\n",
    "\tprint(factor(G.a3()))\n",
    "\tprint('a4')\n",
    "\tprint(factor(G.a4()))\n",
    "\tprint('a6')\n",
    "\tprint(factor(G.a6()))"
   ]
  },
  {
   "cell_type": "markdown",
   "metadata": {
    "collapsed": false
   },
   "source": [
    "**Case 3.** In this notebook, we continue the verification of the various admissible change of variables found in Theorem 3.2. We start by listing the Weierstrass models $F_{T,j}$ where $j=4,5,6,\\ldots, 22$. Here, we will simply denote these models by $Fj$."
   ]
  },
  {
   "cell_type": "code",
   "execution_count": 4,
   "metadata": {
    "collapsed": false
   },
   "outputs": [
   ],
   "source": [
    "F4=E(a,b,d).change_weierstrass_model(1, -a, 1, 2*d)\n",
    "F5=E(a,b,d).change_weierstrass_model(1,16*(b^2*d-a^2),2,8*(b^2*d-a^2))\n",
    "F6=E(a,b,d).change_weierstrass_model(2,(b^2*d-a^2)/8,2,(b^2*d-a^2)/4)\n",
    "F7=E(a,b,d).change_weierstrass_model(1,d^2-a,2*d,2*d)\n",
    "F8=E(a,b,d).change_weierstrass_model(1,b^2/2,b*d,b^4)\n",
    "F9=E(a,b,d).change_weierstrass_model(1,-a+(b^2*d*a)/2,-b*d-a,b)\n",
    "F10=E(a,b,d).change_weierstrass_model(1, 3/2*b^2, b, b^3 + b^2)\n",
    "F11=E(a,b,d).change_weierstrass_model(1,b^2/2,b,b^4+b^2)\n",
    "F12=E(a,b,d).change_weierstrass_model(1, a + 2, 3*a^2 + 12*a + 12, 4)\n",
    "F13=E(a,b,d).change_weierstrass_model(1,a,2,4*b)\n",
    "F14=E(a,b,d).change_weierstrass_model(1, a, 2, 4*b - 16*d + 8)\n",
    "F15=E(a,b,d).change_weierstrass_model(1,-a,4,2*b)\n",
    "F16=E(a,b,d).change_weierstrass_model(1, 1/4*a*b*d - a - b, 4, a*b*d - 2*b)\n",
    "F17=E(a,b,d).change_weierstrass_model(1,b^2-a,b*d-a,b)\n",
    "F18=E(a,b,d).change_weierstrass_model(1,-a+(b*d*a)/2,-b*d-a,b)\n",
    "F19=E(a,b,d).change_weierstrass_model(1,-a+a*b*d/2,-b*d-a,b*(d-1))\n",
    "F20=E(a,b,d).change_weierstrass_model(1,-a+b*a*d,-b*d-a,2*b)\n",
    "F21=E(a,b,d).change_weierstrass_model(1,-a+b/2*a*d,-b*d-a,2*b)\n",
    "F22=E(a,b,d).change_weierstrass_model(2,1/2048*(b^2*d - a^2)^2 , 2,3/1024*(b^2*d - a^2)^2)"
   ]
  },
  {
   "cell_type": "markdown",
   "metadata": {
    "collapsed": false
   },
   "source": [
    "**Instructions on Notation Used Below.** We now proceed by cases to verify the valuations appearing in (3.3). To this end, we will use the label Case nx where n refers to the entry in the first column and the letter x corresponds to the j-th row of n where x is the j-th letter in the alphabet. For instance, Case 3b corresponds to the row the second row in the $n=3$ section. That is, the row whose first entry is $F_{T,11}$."
   ]
  },
  {
   "cell_type": "markdown",
   "metadata": {
    "collapsed": false
   },
   "source": [
    "**Case 1a.**\n",
    "Suppose $v_2(b)=1, a,d \\equiv 1 \\mod 4$. This corresponds to the Weierstrass model $F4$. Below, are its Weierstrass coefficients and discriminant and we continue with an analysis of these quantities to establish the claimed values in (3.3)."
   ]
  },
  {
   "cell_type": "code",
   "execution_count": 6,
   "metadata": {
    "collapsed": false
   },
   "outputs": [
    {
     "name": "stdout",
     "output_type": "stream",
     "text": [
      "c4\n",
      "(16) * (3*b^2*d + a^2)\n",
      "c6\n",
      "(-64) * a * (9*b^2*d - a^2)\n",
      "Disc\n",
      "(64) * d * b^2 * (b^2*d - a^2)^2\n",
      "a1\n",
      "2\n",
      "a2\n",
      "(-1) * (a + 1)\n",
      "a3\n",
      "(4) * d\n",
      "a4\n",
      "(-1) * d * (b^2 + 4)\n",
      "a6\n",
      "(-1) * d * (-a*b^2 + 4*d)\n"
     ]
    }
   ],
   "source": [
    "vals(F4)"
   ]
  },
  {
   "cell_type": "markdown",
   "metadata": {
    "collapsed": false
   },
   "source": [
    "<span style=\"color:blue\">\n",
    "Under the assumptions given, we have that\n",
    "$$(v_2(a_1),v_2(a_2),v_2(a_3),v_2(a_4),v_2(a_6),v_2(\\Delta))=(1,1,2,\\geq3,\\geq 4, 8).$$\n",
    "For $v_2(a_6)$, observe that $\\frac{a_6}{-4d}= \\frac{-ab^2}{4}+d \\equiv -1 +1 \\mod 4 = 0 \\mod 4$."
   ]
  },
  {
   "cell_type": "markdown",
   "metadata": {
    "collapsed": false
   },
   "source": [
    "**Case 1b.**\n",
    "Suppose $v_2(b^2d-a^2)=6, a\\equiv 2 \\mod 8$. Then $v_2(b)=1$ and $d \\equiv 1 \\mod 8$. This corresponds to the Weierstrass model $F6$. Below, are its Weierstrass coefficients and discriminant and we continue with an analysis of these quantities to establish the claimed values in (3.3)."
   ]
  },
  {
   "cell_type": "code",
   "execution_count": 7,
   "metadata": {
    "collapsed": false
   },
   "outputs": [
    {
     "name": "stdout",
     "output_type": "stream",
     "text": [
      "c4\n",
      "3*b^2*d + a^2\n",
      "c6\n",
      "(-1) * a * (9*b^2*d - a^2)\n",
      "Disc\n",
      "(1/64) * d * b^2 * (b^2*d - a^2)^2\n",
      "a1\n",
      "2\n",
      "a2\n",
      "(1/32) * (3*b^2*d - 3*a^2 + 16*a - 32)\n",
      "a3\n",
      "(1/16) * (b^2*d - a^2)\n",
      "a4\n",
      "(1/1024) * (b^2*d - a^2) * (3*b^2*d - 3*a^2 + 32*a - 128)\n",
      "a6\n",
      "(1/32768) * (b^2*d - a^2 + 16*a - 96) * (b^2*d - a^2)^2\n"
     ]
    }
   ],
   "source": [
    "vals(F6)"
   ]
  },
  {
   "cell_type": "markdown",
   "metadata": {
    "collapsed": false
   },
   "source": [
    "<span style=\"color:blue\">\n",
    "Under the assumptions given, we have that\n",
    "$$(v_2(a_1),v_2(a_3),v_2(\\Delta))=(1,2,8).$$\n",
    "Now observe that:\n",
    "$$a_2 = \\frac{3(b^2d-a^2)}{32}+\\frac{a}{2} - 1 \\equiv 2 + 1 - 1 \\mod 4 = 2 \\mod 4.$$\n",
    "In particular, $v_2(a_2)=1$.\n",
    "Next,\n",
    "$$a_4 = \\frac{b^2d - a^2}{64} (\\frac{3b^2d - 3a^2}{16} + 2a - 8).$$\n",
    "Since $\\frac{3b^2d - 3a^2}{16} + 2a - 8 \\equiv 4 + 2\\cdot2 \\mod 8 = 0 \\mod 8$, we conclude that $v_2(a_4) \\geq3$.\n",
    "Next, note that $$a_6= \\frac{(b^2d - a^2)^2}{4096} \\frac{1}{8}(b^2d - a^2 + 16a - 96).$$ Since\n",
    "$\\frac{b^2d - a^2}{8} + 2a - 12 \\equiv 8 + 4 -12 \\mod 16 = 0 \\mod 16$, we conclude that $v_2(a_6)\\geq 4.$\n",
    "In particular, $v_2(a_6) = 4$ if and only if $\\frac{b^2d - a^2}{8} + 2a - 12 \\equiv 16 \\mod 32$. This is equivalent to $b^2d - a^2 + 16a - 96 \\equiv 128 \\mod 256$. In particular, $v_2(a_6) \\geq5$ if and only if $b^2d - a^2 + 16a \\equiv 96 \\mod 256$.\n",
    "The claimed Tamagawa number now follows since $$t^2 + a_{3,2}t+a_{6,4} \\equiv t^2 + t + a_{6,4} \\mod 2.$$"
   ]
  },
  {
   "cell_type": "markdown",
   "metadata": {
    "collapsed": false
   },
   "source": [
    "**Case 2a.**\n",
    "Suppose $v_2(b^2d-a^2)=7, a\\equiv 6 \\mod8$. Then $v_2(b)=1$ and $d\\equiv 1 \\mod 8$. This corresponds to the Weierstrass model $F6$. Below, are its Weierstrass coefficients and discriminant and we continue with an analysis of these quantities to establish the claimed values in (3.3)."
   ]
  },
  {
   "cell_type": "code",
   "execution_count": 8,
   "metadata": {
    "collapsed": false
   },
   "outputs": [
    {
     "name": "stdout",
     "output_type": "stream",
     "text": [
      "c4\n",
      "3*b^2*d + a^2\n",
      "c6\n",
      "(-1) * a * (9*b^2*d - a^2)\n",
      "Disc\n",
      "(1/64) * d * b^2 * (b^2*d - a^2)^2\n",
      "a1\n",
      "2\n",
      "a2\n",
      "(1/32) * (3*b^2*d - 3*a^2 + 16*a - 32)\n",
      "a3\n",
      "(1/16) * (b^2*d - a^2)\n",
      "a4\n",
      "(1/1024) * (b^2*d - a^2) * (3*b^2*d - 3*a^2 + 32*a - 128)\n",
      "a6\n",
      "(1/32768) * (b^2*d - a^2 + 16*a - 96) * (b^2*d - a^2)^2\n"
     ]
    }
   ],
   "source": [
    "vals(F6)"
   ]
  },
  {
   "cell_type": "markdown",
   "metadata": {
    "collapsed": false
   },
   "source": [
    "<span style=\"color:blue\">\n",
    "Under the assumptions given, we have that\n",
    "$$(v_2(a_1),v_2(a_3),v_2(\\Delta))=(1,3,10).$$\n",
    "Now observe that:\n",
    "$$a_2 = \\frac{3(b^2d-a^2)}{32}+\\frac{a}{2} - 1 \\equiv 0 + 3 - 1 \\mod 4 = 2 \\mod 4.$$\n",
    "In particular, $v_2(a_2)=1$.\n",
    "Next,\n",
    "$$a_4 = \\frac{b^2d - a^2}{128} (\\frac{3b^2d - 3a^2}{8} + 4a - 16).$$\n",
    "Since $\\frac{3b^2d - 3a^2}{16} + 4a - 16\\equiv 0 + 8 - 0 \\mod 8 = 8 \\mod 16$, we conclude that $v_2(a_4)= 3$.\n",
    "Next, note that $$a_6= \\frac{(b^2d - a^2)^2}{16384} \\frac{1}{2}(b^2d - a^2 + 16a - 96),$$ since $$\\frac{b^2d - a^2}{2} + 8a - 48 \\equiv 0 + 48 - 48 \\mod 64 = 0 \\mod 64, \\text{ we conclude that } v_2(a_6)\\geq 6.$$\n",
    "In particular, $c_2=4$ since $$a_{2,1}t^2+a_{4,3}+a_{6,5} \\equiv t(t+1) \\mod 2.$$"
   ]
  },
  {
   "cell_type": "markdown",
   "metadata": {
    "collapsed": false
   },
   "source": [
    "**Case 2b.**\n",
    "Suppose $v_2(b)=0, v_2(b^2d-a^2)=3$. Then $v_2(a)=0$ and $d\\equiv 1 \\mod 8$. This corresponds to the Weierstrass model $F5$. Below, are its Weierstrass coefficients and discriminant and we continue with an analysis of these quantities to establish the claimed values in (3.3)."
   ]
  },
  {
   "cell_type": "code",
   "execution_count": 9,
   "metadata": {
    "collapsed": false
   },
   "outputs": [
    {
     "name": "stdout",
     "output_type": "stream",
     "text": [
      "c4\n",
      "(16) * (3*b^2*d + a^2)\n",
      "c6\n",
      "(-64) * a * (9*b^2*d - a^2)\n",
      "Disc\n",
      "(64) * d * b^2 * (b^2*d - a^2)^2\n",
      "a1\n",
      "2^2\n",
      "a2\n",
      "(2) * (24*b^2*d - 24*a^2 + a - 2)\n",
      "a3\n",
      "(16) * (b^2*d - a^2)\n",
      "a4\n",
      "(b^2*d - a^2) * (768*b^2*d - 768*a^2 + 64*a - 33)\n",
      "a6\n",
      "(16) * (256*b^2*d - 256*a^2 + 32*a - 5) * (b^2*d - a^2)^2\n"
     ]
    }
   ],
   "source": [
    "vals(F5)"
   ]
  },
  {
   "cell_type": "markdown",
   "metadata": {
    "collapsed": false
   },
   "source": [
    "<span style=\"color:blue\">\n",
    "    Under the assumptions given, we have that\n",
    "$$(v_2(a_1),v_2(a_2),v_2(a_3),v_2(a_4),v_2(a_6),v_2(\\Delta))=(2,1,7,3,10,12).$$"
   ]
  },
  {
   "cell_type": "markdown",
   "metadata": {
    "collapsed": false
   },
   "source": [
    "**Case 2c.**\n",
    "Suppose $v_2(b^2d-a^2)=2, v_2(a)=v_2(b)=1$. Then $v_2(d)=1$ since $b^2d-a^2 \\equiv 4d-4 \\mod8$. This corresponds to the Weierstrass model $F7$. Below, are its Weierstrass coefficients and discriminant and we continue with an analysis of these quantities to establish the claimed values in (3.3)."
   ]
  },
  {
   "cell_type": "code",
   "execution_count": 10,
   "metadata": {
    "collapsed": false
   },
   "outputs": [
    {
     "name": "stdout",
     "output_type": "stream",
     "text": [
      "c4\n",
      "(16) * (3*b^2*d + a^2)\n",
      "c6\n",
      "(-64) * a * (9*b^2*d - a^2)\n",
      "Disc\n",
      "(64) * d * b^2 * (b^2*d - a^2)^2\n",
      "a1\n",
      "(4) * d\n",
      "a2\n",
      "(-1) * (d^2 + a)\n",
      "a3\n",
      "(4) * d\n",
      "a4\n",
      "d * (3*d^3 - b^2 - 2*a*d - 8*d)\n",
      "a6\n",
      "d * (d^5 - b^2*d^2 - a*d^3 + a*b^2 - 4*d)\n"
     ]
    }
   ],
   "source": [
    "vals(F7)"
   ]
  },
  {
   "cell_type": "markdown",
   "metadata": {
    "collapsed": false
   },
   "source": [
    "<span style=\"color:blue\">\n",
    "Under the assumptions given, we have that\n",
    "$$(v_2(a_1),v_2(a_2),v_2(a_3),v_2(a_4),v_2(a_6),v_2(\\Delta))=(3,1,3,3,\\geq5,13).$$\n",
    "For $a_6$, note that  $d^5 - b^2d^2 - ad^3 + ab^2 - 4d \\equiv 0 - 0 - 0 + 8 - 8 \\mod16 = 0 \\mod 16 $. Since $v_2(d) =1$, we conclude that $v_2(a_6)\\geq5$.\n",
    "Moreover, $$d^5 - b^2d^2 - ad^3 + ab^2 - 4d \\equiv 0 - 16 - 16 + ab^2 - 4d \\mod32 = ab^2 - 4d \\mod 32 $$ \n",
    "    since $$\\frac{ab^2}{4}-d \\equiv a - d \\mod 8.$$\n",
    "we have that $v_2(a_6)=5$ if and only if $a-d \\equiv 4 \\mod 8$ and $v_2(a_6)\\geq6$ if and only if $a-d \\equiv 0 \\mod 8$. The claimed Tamagawa number now follows since\n",
    "$$a_{2,1}t^2+a_{4,3}+a_{6,5} \\equiv t^2 + t + a_{6,5} \\mod 2.$$"
   ]
  },
  {
   "cell_type": "markdown",
   "metadata": {
    "collapsed": false
   },
   "source": [
    "**Case 2d.**\n",
    "Suppose $v_2(b)=1, v_2(a)>1, d\\equiv 1 \\mod 4$. This corresponds to the Weierstrass model $F8$. Below, are its Weierstrass coefficients and discriminant and we continue with an analysis of these quantities to establish the claimed values in (3.3)."
   ]
  },
  {
   "cell_type": "code",
   "execution_count": 11,
   "metadata": {
    "collapsed": false
   },
   "outputs": [
    {
     "name": "stdout",
     "output_type": "stream",
     "text": [
      "c4\n",
      "(16) * (3*b^2*d + a^2)\n",
      "c6\n",
      "(-64) * a * (9*b^2*d - a^2)\n",
      "Disc\n",
      "(64) * d * b^2 * (b^2*d - a^2)^2\n",
      "a1\n",
      "(2) * d * b\n",
      "a2\n",
      "(-1/2) * (2*b^2*d^2 - 3*b^2 - 4*a)\n",
      "a3\n",
      "(2) * b^4\n",
      "a4\n",
      "(-1/4) * (8*b^5*d - 3*b^4 - 8*a*b^2 + 4*b^2*d - 4*a^2)\n",
      "a6\n",
      "(-1/8) * b^2 * (8*b^6 - b^4 - 4*a*b^2 + 4*b^2*d - 4*a^2)\n"
     ]
    }
   ],
   "source": [
    "vals(F8)"
   ]
  },
  {
   "cell_type": "markdown",
   "metadata": {
    "collapsed": false
   },
   "source": [
    "<span style=\"color:blue\">\n",
    "Under the assumptions given, we have that\n",
    "$$(v_2(a_1),v_2(a_2),v_2(a_3),v_2(\\Delta))=(2,1,5,12).$$\n",
    "Now observe that $$-a_4=2b^5d - \\frac{3b^4}{4} - 2ab^2 + b^2d - 4a^2 \\equiv 0 - 12 - 0 + b^2*d - 0 \\mod 16 = 8 \\mod 16.$$\n",
    "Thus $v_2(a_4)=3$. To compute the $2$-adic valuation of $a_6$, let  $a_6$, let $a=4k, b=2j$ where $k,j$ are integers with $j$ odd. Then\n",
    "$$ a_6 = \\frac{b^2}{-4} (4b^6 -\\frac{b^4}{2} - 2ab^2 +2b^2d -2a^2)=\\frac{b^2}{-4}(256j^6-8j^4 - 32j^2k + 8dj^2 - 32k^2)=-2b^2(32j^6-j^4 - 4j^2k + dj^2 - 4k^2).$$\n",
    "Now observe that\n",
    "$$32j^6-j^4 - 4j^2k + dj^2 - 4k^2 \\equiv 0 - 1 -4k +d -4k^2 \\mod8 = d - 1 \\mod 8.$$\n",
    "Therefore $v_2(a_6)\\geq5$ with equality if and only if $d \\equiv 5 \\mod 8$. In particular, $v_2(a_6)\\geq6$ if $d\\equiv 1 \\mod 8$. The claimed Tamagawa number now follows since\n",
    "$$a_{2,1}t^2+a_{4,3}+a_{6,5} \\equiv t^2 + t + a_{6,5} \\mod 2.$$"
   ]
  },
  {
   "cell_type": "markdown",
   "metadata": {
    "collapsed": false
   },
   "source": [
    "**Case 2e.**\n",
    "Suppose $v_2(b)=2, v_2(d)=0, a\\equiv 1 \\mod 4$. This corresponds to the Weierstrass model $F9$. Below, are its Weierstrass coefficients and discriminant and we continue with an analysis of these quantities to establish the claimed values in (3.3)."
   ]
  },
  {
   "cell_type": "code",
   "execution_count": 12,
   "metadata": {
    "collapsed": false
   },
   "outputs": [
    {
     "name": "stdout",
     "output_type": "stream",
     "text": [
      "c4\n",
      "(16) * (3*b^2*d + a^2)\n",
      "c6\n",
      "(-64) * a * (9*b^2*d - a^2)\n",
      "Disc\n",
      "(64) * d * b^2 * (b^2*d - a^2)^2\n",
      "a1\n",
      "(-2) * (b*d + a)\n",
      "a2\n",
      "(-1/2) * (-3*a*b^2*d + 2*b^2*d^2 + 4*a*b*d + 2*a^2 + 2*a)\n",
      "a3\n",
      "(2) * b\n",
      "a4\n",
      "(1/4) * b * (3*a^2*b^3*d^2 - 4*a^2*b*d + 4*b*d + 8*a)\n",
      "a6\n",
      "(1/8) * b^2 * (a^3*b^4*d^3 - 2*a^3*b^2*d^2 - 4*a*b^2*d^2 + 8*a*d - 8)\n"
     ]
    }
   ],
   "source": [
    "vals(F9)"
   ]
  },
  {
   "cell_type": "markdown",
   "metadata": {
    "collapsed": false
   },
   "source": [
    "<span style=\"color:blue\">\n",
    "Under the assumptions given, we have that\n",
    "$$(v_2(a_1),v_2(a_3),v_2(a_4),v_2(\\Delta))=(1,3,3,10).$$\n",
    "Note that $v_2(a_2)=1$ since $-a_2 \\equiv a^2 + a \\mod 4 = 2 \\mod 4$.\n",
    "For $a_6$ note that, $$\\frac{a_6}{b^2}=\\frac{a^3b^4d^3}{8} - \\frac{a^3b^2d^2}{4} - \\frac{ab^2d^2}{2} + ad - 1 \\equiv 0 - 0 - 0 + d - 1 \\mod 4.$$\n",
    "Since $v_2(b^2)=4$, we conclude that $v_2(a_6)\\geq 5$. Moreover, equality occurs if and only if $d \\equiv 3 \\mod 4$.\n",
    "The claimed Tamagawa number now follows since\n",
    "$$a_{2,1}t^2+a_{4,3}+a_{6,5} \\equiv t^2 + t + a_{6,5} \\mod 2.$$"
   ]
  },
  {
   "cell_type": "markdown",
   "metadata": {
    "collapsed": false
   },
   "source": [
    "**Case 3a.**\n",
    "Suppose $v_2(b)=1, v_2(a)>1, d \\equiv 3 \\mod8$. This corresponds to the Weierstrass model $F10$. Below, are its Weierstrass coefficients and discriminant and we continue with an analysis of these quantities to establish the claimed values in (3.3)."
   ]
  },
  {
   "cell_type": "code",
   "execution_count": 13,
   "metadata": {
    "collapsed": false
   },
   "outputs": [
    {
     "name": "stdout",
     "output_type": "stream",
     "text": [
      "c4\n",
      "(16) * (3*b^2*d + a^2)\n",
      "c6\n",
      "(-64) * a * (9*b^2*d - a^2)\n",
      "Disc\n",
      "(64) * d * b^2 * (b^2*d - a^2)^2\n",
      "a1\n",
      "(2) * b\n",
      "a2\n",
      "(1/2) * (7*b^2 + 4*a)\n",
      "a3\n",
      "(2) * (b + 1) * b^2\n",
      "a4\n",
      "(-1/4) * (-19*b^4 - 24*a*b^2 + 8*b^3 + 4*b^2*d - 4*a^2)\n",
      "a6\n",
      "(-1/8) * b^2 * (-19*b^4 - 36*a*b^2 + 16*b^3 + 12*b^2*d - 12*a^2 + 8*b^2)\n"
     ]
    }
   ],
   "source": [
    "vals(F10)"
   ]
  },
  {
   "cell_type": "markdown",
   "metadata": {
    "collapsed": false
   },
   "source": [
    "<span style=\"color:blue\">\n",
    "Under the assumptions given, we have that\n",
    "$$(v_2(a_1),v_2(a_2),v_2(a_3),v_2(\\Delta))=(2,1,3,12).$$\n",
    "Now observe that\n",
    "$$a_4=\\frac{19b^4}{4} + 6ab^2 - 2b^3 - b^2d +a^2 \\equiv 12 + 0 + 0 - 12 + 0 \\mod 16=0\\mod16. $$\n",
    "Here we used the fact that $\\frac{19b^4}{4}, b^2d\\equiv12 \\mod 16$ under the given assumptions. Consequently, $v_2(a_4)\\geq4$.\n",
    "For $a_6$, let $a=4k$ and $b=2j$ for some integers $j,k$ with $j$ odd. Then\n",
    "$$\\frac{a_6}{b^2} = 2(19j^4 + 36kj^2 -3j^2*d+12k^2-2j^2-8j^3). $$\n",
    "This equality is verified in the next computation block. Since $j$ is odd, we have that $4j^2\\equiv4 \\mod 16$. Consequently,\n",
    "$$\\frac{a_6}{2b^2} \\equiv 3 +4 k -3j^2d+12k^2+14+9 \\mod 16 = 9+ 4k(1+3k) - 3j^2d \\mod 16.$$\n",
    "Since $j$ is odd and $d\\equiv 3 \\mod8$ we have that $j^2d\\equiv3,11\\mod16$. We now proceed by cases corresponding to $k\\mod4$."
   ]
  },
  {
   "cell_type": "markdown",
   "metadata": {
    "collapsed": false
   },
   "source": [
    "**Subcase 1.** \n",
    "<span style=\"color:blue\">\n",
    "Suppose $k\\equiv 0,1\\mod 4$. Then $4k(1+3k) \\equiv 0 \\mod16$ and thus\n",
    "$$\\frac{a_6}{2b^2} = 9 - 3j^2d \\mod 16.$$\n",
    "In particular, $\\frac{a_6}{2b^2}\\equiv 0 \\mod 16$ if $j^2d\\equiv3\\mod16$ and $\\frac{a_6}{2b^2}\\equiv8 \\mod 16$ if $j^2d\\equiv11\\mod16$. In sum, if $a\\equiv 0,4 \\mod16$, then\n",
    "$$v_2(a_6) =\\left\\{ \\begin{array}{cl}\\geq7 & \\text{if }b^2d\\equiv 12 \\mod64  \\\\ 6 & \\text{if } b^2d\\equiv44\\mod64 .\\end{array}\\right. $$"
   ]
  },
  {
   "cell_type": "markdown",
   "metadata": {
    "collapsed": false
   },
   "source": [
    "**Subcase 2.** \n",
    "<span style=\"color:blue\">\n",
    "Suppose $k\\equiv2,3\\mod 4$. Then $4k(1+3k) \\equiv 8 \\mod16$ and thus\n",
    "$$\\frac{a_6}{2b^2} = 1 - 3j^2d \\mod 16.$$\n",
    "In particular, $\\frac{a_6}{2b^2}\\equiv 8 \\mod 16$ if $j^2d\\equiv3\\mod16$ and $\\frac{a_6}{2b^2}\\equiv0 \\mod 16$ if $j^2d\\equiv11\\mod16$. In sum, if $a\\equiv 8,12 \\mod16$, then\n",
    "$$v_2(a_6) =\\left\\{ \\begin{array}{cl}\\geq7 & \\text{if }b^2d\\equiv 44 \\mod64  \\\\ 6 & \\text{if } b^2d\\equiv12\\mod64 .\\end{array}\\right. $$\n",
    "The claimed Tamagawa number now follows since $$t^2 + a_{3,3}t-a_{6,6} \\equiv t^2 + t + a_{6,6} \\mod 2.$$"
   ]
  },
  {
   "cell_type": "code",
   "execution_count": 10,
   "metadata": {
    "collapsed": false
   },
   "outputs": [
    {
     "data": {
      "text/plain": [
       "0"
      ]
     },
     "execution_count": 10,
     "metadata": {
     },
     "output_type": "execute_result"
    }
   ],
   "source": [
    "f(j,k)=2*(19*j^4 + 36*k*j^2 -3*j^2*d+12*k^2-2*j^2-8*j^3)\n",
    "print(f(b/2,a/4)- K.a6()/b^2)"
   ]
  },
  {
   "cell_type": "markdown",
   "metadata": {
    "collapsed": false
   },
   "source": [
    "**Case 3b.**\n",
    "Suppose $v_2(b)=1, v_2(a)>1, d \\equiv 7 \\mod 8$. This corresponds to the Weierstrass model $F11$. Below, are its Weierstrass coefficients and discriminant and we continue with an analysis of these quantities to establish the claimed values in (3.3)."
   ]
  },
  {
   "cell_type": "code",
   "execution_count": 14,
   "metadata": {
    "collapsed": false
   },
   "outputs": [
    {
     "name": "stdout",
     "output_type": "stream",
     "text": [
      "c4\n",
      "(16) * (3*b^2*d + a^2)\n",
      "c6\n",
      "(-64) * a * (9*b^2*d - a^2)\n",
      "Disc\n",
      "(64) * d * b^2 * (b^2*d - a^2)^2\n",
      "a1\n",
      "(2) * b\n",
      "a2\n",
      "(1/2) * (b^2 + 4*a)\n",
      "a3\n",
      "(2) * b^2 * (b^2 + 1)\n",
      "a4\n",
      "(-1/4) * (8*b^5 - 3*b^4 - 8*a*b^2 + 8*b^3 + 4*b^2*d - 4*a^2)\n",
      "a6\n",
      "(-1/8) * b^2 * (8*b^6 + 15*b^4 - 4*a*b^2 + 4*b^2*d - 4*a^2 + 8*b^2)\n"
     ]
    }
   ],
   "source": [
    "vals(F11)"
   ]
  },
  {
   "cell_type": "markdown",
   "metadata": {
    "collapsed": false
   },
   "source": [
    "<span style=\"color:blue\">\n",
    "Under the assumptions given, we have that\n",
    "$$(v_2(a_1),v_2(a_2),v_2(a_3),v_2(\\Delta))=(2,1,3,12).$$\n",
    "For $a_4,a_6$, let $a=4k$ and $b=2j$ for some integers $j,k$ with $j$ odd. Then\n",
    "$$a_4=-4dj^2 - 16j^3 + 12j^4 - 64j^5 + 32j^2k + 16k^2 \\equiv 12j^4 -4dj^2 \\mod 16 = 0 \\mod16.$$\n",
    "The first equality is verified in the next computation block. For the last congruence, observe that under the given assumptions $12j^4 -4dj^2 = 0 \\mod16$.\n",
    "The next computation block verifies that $\\frac{a_6}{b^2}=-2(2j^2 + dj^2 + 15j^4 + 32j^6 - 4j^2k - 4k^2)$. Next, observe that $(2j^2, j^4,4j^2) \\equiv (2,1,4) \\mod 16$. Therefore\n",
    "$$\\frac{a_6}{-2b^2} \\equiv 2 + dj^2 + 15 + 0 - 4k - 4k^2 \\mod16 = 1 +dj^2 -4k(1+k)\\mod16. $$\n",
    "Since $j$ is odd and $d\\equiv 7 \\mod8$ we have that $j^2d\\equiv7,15\\mod16$. We now proceed by cases corresponding to $k\\mod4$."
   ]
  },
  {
   "cell_type": "markdown",
   "metadata": {
    "collapsed": false
   },
   "source": [
    "**Subcase 1.**\n",
    "<span style=\"color:blue\">\n",
    "Suppose $k\\equiv 0,3\\mod 4$. Then $4k(1+k) \\equiv 0 \\mod16$ and thus\n",
    "$$\\frac{a_6}{-2b^2} = 1+ j^2d \\mod 16.$$\n",
    "In particular, $\\frac{a_6}{-2b^2}\\equiv 0 \\mod 16$ if $j^2d\\equiv15\\mod16$ and $\\frac{a_6}{-2b^2}\\equiv8 \\mod 16$ if $j^2d\\equiv7\\mod16$. In sum, if $a\\equiv 0,12 \\mod16$, then\n",
    "$$v_2(a_6) =\\left\\{ \\begin{array}{cl}\\geq7 & \\text{if }b^2d\\equiv 60 \\mod64  \\\\ 6 & \\text{if } b^2d\\equiv28\\mod64 .\\end{array}\\right. $$"
   ]
  },
  {
   "cell_type": "markdown",
   "metadata": {
    "collapsed": false
   },
   "source": [
    "**Subcase 2.**\n",
    "<span style=\"color:blue\">\n",
    "Suppose $k\\equiv1,2\\mod 4$. Then $4k(1+k) \\equiv 8 \\mod16$ and thus\n",
    "$$\\frac{a_6}{-2b^2} = 9 +j^2d \\mod 16.$$\n",
    "In particular, $\\frac{a_6}{-2b^2}\\equiv 8 \\mod 16$ if $j^2d\\equiv15\\mod16$ and $\\frac{a_6}{-2b^2}\\equiv0 \\mod 16$ if $j^2d\\equiv7\\mod16$. In sum, if $a\\equiv 4,8 \\mod16$, then\n",
    "$$v_2(a_6) =\\left\\{ \\begin{array}{cl}\\geq7 & \\text{if }b^2d\\equiv 28 \\mod64  \\\\ 6 & \\text{if } b^2d\\equiv60\\mod64 .\\end{array}\\right. $$\n",
    "The claimed Tamagawa number now follows since $$t^2 + a_{3,3}t-a_{6,6} \\equiv t^2 + t + a_{6,6} \\mod 2.$$"
   ]
  },
  {
   "cell_type": "code",
   "execution_count": 15,
   "metadata": {
    "collapsed": false
   },
   "outputs": [
    {
     "name": "stdout",
     "output_type": "stream",
     "text": [
      "0\n",
      "0\n"
     ]
    }
   ],
   "source": [
    "f(j,k)=-4*d*j^2 - 16*j^3 + 12*j^4 - 64*j^5 + 32*j^2*k + 16*k^2\n",
    "print(f(b/2,a/4)-K.a4())\n",
    "g(j,k)=-2*(2*j^2 + d*j^2 + 15*j^4 + 32*j^6 - 4*j^2*k - 4*k^2)\n",
    "print(g(b/2,a/4)-K.a6()/b^2)"
   ]
  },
  {
   "cell_type": "markdown",
   "metadata": {
    "collapsed": false
   },
   "source": [
    "**Case 3c.**\n",
    "Suppose $v_2(b)=2, v_2(d) =1, a \\equiv 1 \\mod 4$. This corresponds to the Weierstrass model $F12$. Below, are its Weierstrass coefficients and discriminant and we continue with an analysis of these quantities to establish the claimed values in (3.3)."
   ]
  },
  {
   "cell_type": "code",
   "execution_count": 15,
   "metadata": {
    "collapsed": false
   },
   "outputs": [
    {
     "name": "stdout",
     "output_type": "stream",
     "text": [
      "c4\n",
      "(16) * (3*b^2*d + a^2)\n",
      "c6\n",
      "(-64) * a * (9*b^2*d - a^2)\n",
      "Disc\n",
      "(64) * d * b^2 * (b^2*d - a^2)^2\n",
      "a1\n",
      "(6) * (a + 2)^2\n",
      "a2\n",
      "(-1) * (9*a^4 + 72*a^3 + 216*a^2 + 283*a + 138)\n",
      "a3\n",
      "2^3\n",
      "a4\n",
      "(-1) * (b^2*d + 16*a^2 + 76*a + 84)\n",
      "a6\n",
      "(-1) * (a*b^2*d - 4*a^3 + 2*b^2*d - 16*a^2 - 20*a + 8)\n"
     ]
    }
   ],
   "source": [
    "vals(F12)"
   ]
  },
  {
   "cell_type": "markdown",
   "metadata": {
    "collapsed": false
   },
   "source": [
    "<span style=\"color:blue\">\n",
    "Under the assumptions given, we have that\n",
    "$$(v_2(a_1),v_2(a_2),v_2(a_3),v_2(\\Delta))=(1,1,3,11).$$\n",
    "For $a_2$, obserrve that $a_2\\equiv 2 +a +3a^4 \\mod 4 = 2 \\mod 4$.\n",
    "For $a_4,a_6$, we let $a=1+4k,b=4+8l,d=2j$ for some integers $k,l,j$ with $j$ odd. Then the next computation box verifies that\n",
    "$a_4 = -16(11 + 2j + 27k + 16k^2 + 8jl + 8jl^2)$. Thus $v_2(a_4)\\geq4$.\n",
    "The next computation box verifies that\n",
    "$$a_6=32(1 - 3j + 8k - 4jk + 14k^2 + 8k^3 - 12jl - 16jkl -  12jl^2 - 16jkl^2).$$\n",
    "In particular, $\\frac{a_6}{32} \\equiv 1 +j +2k^2 \\mod4$. Note that this is $0 \\mod 4$ iff (i) $j \\equiv 1 \\mod 4$ and $k$ is odd or (ii) $j\\equiv 3 \\mod 4$ and $k$ is even. This is equivalent to (i) $d \\equiv 2 \\mod 8$ and $a \\equiv 5 \\mod 8$ or (ii) $d \\equiv 6 \\mod 8$ and $a \\equiv 1 \\mod 8$.\n",
    "The claimed Tamagawa number now follows since $$t^2 + a_{3,3}t-a_{6,6} \\equiv t^2 + t + a_{6,6} \\mod 2.$$"
   ]
  },
  {
   "cell_type": "code",
   "execution_count": 19,
   "metadata": {
    "collapsed": false
   },
   "outputs": [
    {
     "name": "stdout",
     "output_type": "stream",
     "text": [
      "0\n",
      "0\n"
     ]
    }
   ],
   "source": [
    "f(j,k,l)=-16*(11 + 2*j + 27*k + 16*k^2 + 8*j*l + 8*j*l^2)\n",
    "print(expand(f(d/2,(a-1)/4,(b-4)/8)-K.a4()))\n",
    "g(j,k,l)=32*(1 - 3*j + 8*k - 4*j*k + 14*k^2 + 8*k^3 - 12*j*l - 16*j*k*l -  12*j*l^2 - 16*j*k*l^2)\n",
    "print(expand(g(d/2,(a-1)/4,(b-4)/8)-K.a6()))"
   ]
  },
  {
   "cell_type": "markdown",
   "metadata": {
    "collapsed": false
   },
   "source": [
    "**Case 4a.**\n",
    "Suppose $v_2(b)=2, v_2(a) =1, d\\equiv 1 \\mod 4$. This corresponds to the Weierstrass model $F13$. Below, are its Weierstrass coefficients and discriminant and we continue with an analysis of these quantities to establish the claimed values in (3.3)."
   ]
  },
  {
   "cell_type": "code",
   "execution_count": 16,
   "metadata": {
    "collapsed": false
   },
   "outputs": [
    {
     "name": "stdout",
     "output_type": "stream",
     "text": [
      "c4\n",
      "(16) * (3*b^2*d + a^2)\n",
      "c6\n",
      "(-64) * a * (9*b^2*d - a^2)\n",
      "Disc\n",
      "(64) * d * b^2 * (b^2*d - a^2)^2\n",
      "a1\n",
      "2^2\n",
      "a2\n",
      "5*a - 4\n",
      "a3\n",
      "(8) * b\n",
      "a4\n",
      "(-1) * (b^2*d - 8*a^2 + 16*b)\n",
      "a6\n",
      "(-1) * (a*b^2*d - 4*a^3 + 16*b^2)\n"
     ]
    }
   ],
   "source": [
    "vals(F13)"
   ]
  },
  {
   "cell_type": "markdown",
   "metadata": {
    "collapsed": false
   },
   "source": [
    "<span style=\"color:blue\">\n",
    "Under the assumptions given, we have that\n",
    "$$(v_2(a_1),v_2(a_2),v_2(a_3),v_2(a_4),v_2(\\Delta))=(2,1,5,4,14).$$\n",
    "Next, let $a = 2k$ and $b = 4j$ with $k,j$ odd. The next computation box verifies that\n",
    "$$\\frac{a6}{-32} = 8j^2 + dj^2k - k^3 \\equiv k(d - 1) \\mod 8.$$\n",
    "In particular,\n",
    "$$v_2(a_6) =\\left\\{ \\begin{array}{cl}\\geq8 & \\text{if }d\\equiv 1 \\mod8  \\\\ 7 & \\text{if } d\\equiv5\\mod8 .\\end{array}\\right. $$\n",
    "It follows that the Neron type is $I_4^*$. The claimed Tamagawa number now follows since\n",
    "$$a_{2,1}t^2+a_{4,4}+a_{6,7} \\equiv t^2 + t + a_{6,7} \\mod 2.$$"
   ]
  },
  {
   "cell_type": "code",
   "execution_count": 22,
   "metadata": {
    "collapsed": false
   },
   "outputs": [
    {
     "name": "stdout",
     "output_type": "stream",
     "text": [
      "0\n"
     ]
    }
   ],
   "source": [
    "f(k,j) = 8*j^2 + d*j^2*k - k^3\n",
    "print(expand(f(a/2,b/4)-K.a6()/(-32)))"
   ]
  },
  {
   "cell_type": "markdown",
   "metadata": {
    "collapsed": false
   },
   "source": [
    "**Case 4b.**\n",
    "Suppose $v_2(b)=2, v_2(a)=1, d\\equiv 3 \\mod 4$. This corresponds to the Weierstrass model $F14$. Below, are its Weierstrass coefficients and discriminant and we continue with an analysis of these quantities to establish the claimed values in (3.3)."
   ]
  },
  {
   "cell_type": "code",
   "execution_count": 17,
   "metadata": {
    "collapsed": false
   },
   "outputs": [
    {
     "name": "stdout",
     "output_type": "stream",
     "text": [
      "c4\n",
      "(16) * (3*b^2*d + a^2)\n",
      "c6\n",
      "(-64) * a * (9*b^2*d - a^2)\n",
      "Disc\n",
      "(64) * d * b^2 * (b^2*d - a^2)^2\n",
      "a1\n",
      "2^2\n",
      "a2\n",
      "5*a - 4\n",
      "a3\n",
      "(-8) * (-b + 4*d - 2)\n",
      "a4\n",
      "(-1) * (b^2*d - 8*a^2 + 16*b - 64*d + 32)\n",
      "a6\n",
      "(-1) * (a*b^2*d - 4*a^3 + 16*b^2 - 128*b*d + 256*d^2 + 64*b - 256*d + 64)\n"
     ]
    }
   ],
   "source": [
    "vals(F14)"
   ]
  },
  {
   "cell_type": "markdown",
   "metadata": {
    "collapsed": false
   },
   "source": [
    "<span style=\"color:blue\">\n",
    "Under the assumptions given, we have that\n",
    "$$(v_2(a_1),v_2(a_2),v_2(a_3),v_2(a_4),v_2(\\Delta))=(2,1,4,4,14).$$\n",
    "Now let let $a = 2k$ and $b =4j$ for some odd integers $j,k$. Then the computation box below shows that\n",
    "$$\\frac{a_6}{-32}=2 - 8d + 8d^2 + 8j - 16dj + 8j^2 + dj^2k - k^3 \\equiv 2 + k(d-1) \\mod 8.$$ \n",
    "In particular,\n",
    "$$v_2(a_6) =\\left\\{ \\begin{array}{cl}\\geq8 & \\text{if }(i) d \\equiv 3 \\mod 8, a \\equiv 6 \\mod 8\\text{ or } (ii) d \\equiv 7 \\mod 8, a \\equiv 2 \\mod 8  \\\\ 7 & \\text{if }(i) d \\equiv 3 \\mod 8, a \\equiv 2 \\mod 8\\text{ or } (ii) d \\equiv 7 \\mod 8,  a \\equiv 6 \\mod 8 .\\end{array}\\right. $$\n",
    "It follows that the Neron type is $I_4^*$. The claimed Tamagawa number now follows since\n",
    "$$a_{2,1}t^2+a_{4,4}+a_{6,7} \\equiv t^2 + t + a_{6,7} \\mod 2.$$"
   ]
  },
  {
   "cell_type": "code",
   "execution_count": 26,
   "metadata": {
    "collapsed": false
   },
   "outputs": [
    {
     "name": "stdout",
     "output_type": "stream",
     "text": [
      "0\n"
     ]
    }
   ],
   "source": [
    "f(j,k)=2 - 8*d + 8*d^2 + 8*j - 16*d*j + 8*j^2 + d*j^2*k - k^3\n",
    "print(expand(f(b/4,a/2)-K.a6()/-32))"
   ]
  },
  {
   "cell_type": "markdown",
   "metadata": {
    "collapsed": false
   },
   "source": [
    "**Case 5a.**\n",
    "Suppose $v_2(b)=2, ad \\equiv 4 \\mod 16$. Note that this implies that $v_2(a)=v_2(d)=1$. This corresponds to the Weierstrass model $F15$. Below, are its Weierstrass coefficients and discriminant and we continue with an analysis of these quantities to establish the claimed values in (3.3)."
   ]
  },
  {
   "cell_type": "code",
   "execution_count": 18,
   "metadata": {
    "collapsed": false
   },
   "outputs": [
    {
     "name": "stdout",
     "output_type": "stream",
     "text": [
      "c4\n",
      "(16) * (3*b^2*d + a^2)\n",
      "c6\n",
      "(-64) * a * (9*b^2*d - a^2)\n",
      "Disc\n",
      "(64) * d * b^2 * (b^2*d - a^2)^2\n",
      "a1\n",
      "2^3\n",
      "a2\n",
      "(-1) * (a + 16)\n",
      "a3\n",
      "(4) * b\n",
      "a4\n",
      "(-1) * b * (b*d + 16)\n",
      "a6\n",
      "b^2 * (a*d - 4)\n"
     ]
    }
   ],
   "source": [
    "vals(F15)"
   ]
  },
  {
   "cell_type": "markdown",
   "metadata": {
    "collapsed": false
   },
   "source": [
    "<span style=\"color:blue\">\n",
    "Under the assumptions given, we have that\n",
    "$$(v_2(a_1),v_2(a_2),v_2(a_3),v_2(a_4),v_2(a_6),v_2(\\Delta))=(3,1,4,5,\\geq8,15).$$\n",
    "Moreover,\n",
    "$$v_2(a_6) =\\left\\{ \\begin{array}{cl}\\geq9 & \\text{if } ad \\equiv 4 \\mod 32  \\\\ 8 & \\text{if }ad \\equiv 20 \\mod 32.\\end{array}\\right. $$\n",
    "It follows that the Neron type is $I_5^*$. The claimed Tamagawa number now follows since\n",
    "$$t^2+a_{3,4}+a_{6,8} \\equiv t^2 + t + a_{6,8} \\mod 2.$$"
   ]
  },
  {
   "cell_type": "markdown",
   "metadata": {
    "collapsed": false
   },
   "source": [
    "**Case 5b.**\n",
    "Suppose $v_2(b)=2,ad\\equiv 12 \\mod 16$. Note that this implies that $v_2(a)=v_2(d)=1$. This corresponds to the Weierstrass model $F16$. Below, are its Weierstrass coefficients and discriminant and we continue with an analysis of these quantities to establish the claimed values in (3.3)."
   ]
  },
  {
   "cell_type": "code",
   "execution_count": 19,
   "metadata": {
    "collapsed": false
   },
   "outputs": [
    {
     "name": "stdout",
     "output_type": "stream",
     "text": [
      "c4\n",
      "(16) * (3*b^2*d + a^2)\n",
      "c6\n",
      "(-64) * a * (9*b^2*d - a^2)\n",
      "Disc\n",
      "(64) * d * b^2 * (b^2*d - a^2)^2\n",
      "a1\n",
      "2^3\n",
      "a2\n",
      "(1/4) * (3*a*b*d - 4*a - 12*b - 64)\n",
      "a3\n",
      "(2) * b * (a*d - 2)\n",
      "a4\n",
      "(1/16) * b * (3*a^2*b*d^2 - 8*a^2*d - 24*a*b*d - 128*a*d - 16*b*d + 32*a + 48*b + 256)\n",
      "a6\n",
      "(1/64) * b^2 * (a*d - 4) * (a^2*b*d^2 - 4*a^2*d - 8*a*b*d - 64*a*d - 16*b*d + 16*a + 16*b + 64)\n"
     ]
    }
   ],
   "source": [
    "vals(F16)"
   ]
  },
  {
   "cell_type": "markdown",
   "metadata": {
    "collapsed": false
   },
   "source": [
    "<span style=\"color:blue\">\n",
    "Under the assumptions given, we have that\n",
    "$$(v_2(a_1),v_2(a_2),v_2(a_3),v_2(\\Delta))=(3,1,4,15).$$\n",
    "For $a_4,a_6$, let $a=2k, b=4j,$ and $d=2l$ for some odd integers k,j,l. Note that $ ad\\equiv 12 \\mod 16$ is equivalent to $kl \\equiv 3 \\mod4$. The computation box below verifies that\n",
    "$$\\frac{a_4}{4b}=4 + 3j + k - 2jl - 8kl - 6jkl - k^2l + 3jk^2l^2 \\equiv 0 + 3j + k +2 +0 +2 - l + 3j \\mod 4 = 2 +k-l \\mod 4.$$\n",
    "Since $kl \\equiv 3 \\mod4$ is equivalent to $2 +k-l \\equiv 0 \\mod4$, we conclude that $v_2(a_4)\\geq 6$.\n",
    "The computation box below verifies that\n",
    "$$\\frac{2a_6}{b^2  (ad - 4)}=2 + 2j + k - 4jl - 8kl - 4jkl - k^2l + 2jk^2l^2 \\equiv 2 + 2j + k + 4 + 0 + 4 - l + 2j \\mod 8 = 6 + k - l \\mod 8.$$\n",
    "Now observe that $6+k-l\\equiv 0 \\mod8$ iff (i) $k\\equiv 3 \\mod 4,kl\\equiv 3 \\mod 8$ or (ii) $k\\equiv 1 \\mod 4,kl\\equiv 7 \\mod 8$.\n",
    "Since $v_2(b^2  (ad - 4)) =7$, we conclude that\n",
    "$$v_2(a_6) =\\left\\{ \\begin{array}{cl}\\geq9 & \\text{if } (i) a\\equiv 6 \\mod 8,ad\\equiv 12 \\mod 32\\text{ or }(ii) a\\equiv 2 \\mod 8,ad\\equiv 28 \\mod 32  \\\\ 8 & \\text{if }(i) a\\equiv 6 \\mod 8,ad\\equiv28 \\mod 32\\text{ or }(ii) a\\equiv 2 \\mod 8,ad\\equiv 12 \\mod 32 .\\end{array}\\right. $$\n",
    "It follows that the Neron type is $I_5^*$. The claimed Tamagawa number now follows since\n",
    "$$t^2+a_{3,4}+a_{6,8} \\equiv t^2 + t + a_{6,8} \\mod 2.$$"
   ]
  },
  {
   "cell_type": "code",
   "execution_count": 31,
   "metadata": {
    "collapsed": false
   },
   "outputs": [
    {
     "name": "stdout",
     "output_type": "stream",
     "text": [
      "0\n",
      "0\n"
     ]
    }
   ],
   "source": [
    "f(k,j,l)=(4 + 3*j + k - 2*j*l - 8*k*l - 6*j*k*l - k^2*l + 3*j*k^2*l^2)\n",
    "print(expand(f(a/2,b/4,d/2)-K.a4()/(4*b)))\n",
    "g(k,j,l)=2 + 2*j + k - 4*j*l - 8*k*l - 4*j*k*l - k^2*l + 2*j*k^2*l^2\n",
    "print(expand(g(a/2,b/4,d/2)-2*K.a6()/(b^2 * (a*d - 4))))"
   ]
  },
  {
   "cell_type": "markdown",
   "metadata": {
    "collapsed": false
   },
   "source": [
    "**Case na.**\n",
    "Suppose $n=2v_2(b)-2 \\geq4, a \\equiv 1 \\mod 4, v_2(d)=0$. In particular, $n$ is always even and $v_2(b) = \\frac{n+2}{2}\\geq3$. This corresponds to the Weierstrass model $F17$. Below, are its Weierstrass coefficients and discriminant and we continue with an analysis of these quantities to establish the claimed values in (3.3)."
   ]
  },
  {
   "cell_type": "code",
   "execution_count": 20,
   "metadata": {
    "collapsed": false
   },
   "outputs": [
    {
     "name": "stdout",
     "output_type": "stream",
     "text": [
      "c4\n",
      "(16) * (3*b^2*d + a^2)\n",
      "c6\n",
      "(-64) * a * (9*b^2*d - a^2)\n",
      "Disc\n",
      "(64) * d * b^2 * (b^2*d - a^2)^2\n",
      "a1\n",
      "(2) * (b*d - a)\n",
      "a2\n",
      "(-1) * (b^2*d^2 - 2*a*b*d + a^2 - 3*b^2 + a)\n",
      "a3\n",
      "(2) * b\n",
      "a4\n",
      "(-1) * b * (-3*b^3 + 2*a*b + 3*b*d - 2*a)\n",
      "a6\n",
      "(-1) * b^2 * (-b^4 + a*b^2 + b^2*d - a*d + 1)\n"
     ]
    }
   ],
   "source": [
    "vals(F17)"
   ]
  },
  {
   "cell_type": "markdown",
   "metadata": {
    "collapsed": false
   },
   "source": [
    "<span style=\"color:blue\">\n",
    "Note that $1+v_2(b) =\\frac{n+4}{2}$ and $2v_2(b)+1 = n+3$ Under the assumptions given, we have that\n",
    "$$(v_2(a_1),v_2(a_2),v_2(a_3),v_2(a_4),v_2(a_6),v_2(\\Delta))=(1,1,\\frac{n+4}{2},\\frac{n+4}{2},\\geq n+3, n+8).$$\n",
    "For $a_2$, observe that $a_2 \\equiv -a^2 -a \\mod4 = 2 \\mod 4$.\n",
    "Now observe that $\\frac{a_6}{-b^2} \\equiv 1 -ad \\mod 4 = 1 -d \\mod 4$. Therefore,\n",
    "$$v_2(a_6) =\\left\\{ \\begin{array}{cl}\\geq n+4 & \\text{if }d\\equiv 1 \\mod4  \\\\ n+3 & \\text{if } d\\equiv3\\mod4 .\\end{array}\\right. $$\n",
    "It follows that the Neron type is $I_n^*$. The claimed Tamagawa number now follows since\n",
    "$$a_{2,1}t^2+a_{4,\\frac{n+4}{2}}+a_{6,n+3} \\equiv t^2 + t + a_{6,n+3} \\mod 2.$$\n"
   ]
  },
  {
   "cell_type": "markdown",
   "metadata": {
    "collapsed": false
   },
   "source": [
    "**Case nb.**\n",
    "Suppose $n=2v_2(b)-1 \\geq5, a \\equiv 1 \\mod 4, v_2(d)=1$. In particular, $n$ is odd and $v_2(b) =\\frac{n+1}{2}\\geq 3$. This corresponds to the Weierstrass model $F18$. Below, are its Weierstrass coefficients and discriminant and we continue with an analysis of these quantities to establish the claimed values in (3.3)."
   ]
  },
  {
   "cell_type": "code",
   "execution_count": 21,
   "metadata": {
    "collapsed": false
   },
   "outputs": [
    {
     "name": "stdout",
     "output_type": "stream",
     "text": [
      "c4\n",
      "(16) * (3*b^2*d + a^2)\n",
      "c6\n",
      "(-64) * a * (9*b^2*d - a^2)\n",
      "Disc\n",
      "(64) * d * b^2 * (b^2*d - a^2)^2\n",
      "a1\n",
      "(-2) * (b*d + a)\n",
      "a2\n",
      "(-1/2) * (2*b^2*d^2 + a*b*d + 2*a^2 + 2*a)\n",
      "a3\n",
      "(2) * b\n",
      "a4\n",
      "(1/4) * b * (3*a^2*b*d^2 - 4*a^2*d + 4*b*d + 8*a)\n",
      "a6\n",
      "(1/8) * b^2 * (a^3*b*d^3 - 2*a^3*d^2 - 4*a*b*d^2 + 8*a*d - 8)\n"
     ]
    }
   ],
   "source": [
    "vals(F18)"
   ]
  },
  {
   "cell_type": "markdown",
   "metadata": {
    "collapsed": false
   },
   "source": [
    "<span style=\"color:blue\">\n",
    "Under the assumptions given, we have that $\\frac{n+3}{2} = v_2(b) + 1$ and $n+1=2v_2(b)$. Thus,\n",
    "$$(v_2(a_1),v_2(a_2),v_2(a_3),v_2(a_4),v_2(\\Delta))=(1,1,\\frac{n+3}{2},\\geq \\frac{n+5}{2},n+8).$$\n",
    "For $a_2$, observe that \n",
    "$$a_2=-b^2d^2 - \\frac{abd}{2} -a^2 - a \\equiv -1 -1 \\mod 2 = 2 \\mod 4.$$\n",
    "Similarly,\n",
    "$$\\frac{a_4}{b} = \\frac{3a^2bd^2}{4} - a^2d + bd + 2a \\equiv 0 + 2 + 0 + 2 \\mod 4 = 0 \\mod 4.$$\n",
    "Therefore $v_2(a_4)\\geq v_2(b) + 2$.\n",
    "Lastly,\n",
    "$$\\frac{a_6}{b^2} = \\frac{a^3bd^3}{8} - \\frac{a^3d^2}{4} - \\frac{abd^2}{2} + ad - 1 \\equiv 0 - a + 0 + ad - 1 \\mod 8 = a(d-1) - 1.$$\n",
    "Therefore,\n",
    "$$v_2(a_6) =\\left\\{ \\begin{array}{cl}\\geq n+4 & \\text{if }(i) d \\equiv 2 \\mod 8,a \\equiv 1 \\mod 8\\text{ or }(ii) d \\equiv 6 \\mod 8,a \\equiv 5 \\mod 8  \\\\ n+3 & \\text{if }(i) d \\equiv 2 \\mod 8,a \\equiv 5 \\mod 8\\text{ or }(ii) d \\equiv 6 \\mod 8,a \\equiv 1 \\mod 8 .\\end{array}\\right. $$\n",
    "It follows that the Neron type is $I_n^*$. The claimed Tamagawa number now follows since\n",
    "$$t^2+a_{3,\\frac{n+3}{2}}+a_{6,n+3} \\equiv t^2 + t + a_{6,n+3} \\mod 2.$$\n"
   ]
  },
  {
   "cell_type": "markdown",
   "metadata": {
    "collapsed": false
   },
   "source": [
    "**Case nc.**\n",
    "Suppose $n=2v_2(b)\\geq6, a\\equiv 2 \\mod 4, v_2(d) = 0$. This corresponds to the Weierstrass model $F19$. Below, are its Weierstrass coefficients and discriminant and we continue with an analysis of these quantities to establish the claimed values in (3.3)."
   ]
  },
  {
   "cell_type": "code",
   "execution_count": 22,
   "metadata": {
    "collapsed": false
   },
   "outputs": [
    {
     "name": "stdout",
     "output_type": "stream",
     "text": [
      "c4\n",
      "(16) * (3*b^2*d + a^2)\n",
      "c6\n",
      "(-64) * a * (9*b^2*d - a^2)\n",
      "Disc\n",
      "(64) * d * b^2 * (b^2*d - a^2)^2\n",
      "a1\n",
      "(-2) * (b*d + a)\n",
      "a2\n",
      "(-1/2) * (2*b^2*d^2 + a*b*d + 2*a^2 + 2*a)\n",
      "a3\n",
      "(2) * (d - 1) * b\n",
      "a4\n",
      "(1/4) * b * (3*a^2*b*d^2 - 4*a^2*d + 8*b*d^2 + 8*a*d - 12*b*d - 8*a)\n",
      "a6\n",
      "(1/8) * b^2 * (a^3*b*d^3 - 2*a^3*d^2 - 4*a*b*d^2 + 8*a*d - 8*d^2 + 16*d - 8)\n"
     ]
    }
   ],
   "source": [
    "vals(F19)"
   ]
  },
  {
   "cell_type": "markdown",
   "metadata": {
    "collapsed": false
   },
   "source": [
    "<span style=\"color:blue\">\n",
    "Under the assumptions given, we have that $n + 3 = 2v_2(b) + 3, \\frac{n+3}{2} = \\frac{2v_2(b) + 3}{2}$,  and $\\frac{n+4}{2} = v_2(b) + 2$. Also,\n",
    "$$(v_2(a_1),v_2(a_2),v_2(a_3),v_2(a_4),v_2(\\Delta))=(1,1,\\geq \\frac{n+4}{2},\\frac{n+4}{2},n+10).$$\n",
    "For $a_6$, let $a = 2k$ and $b = 8j$ with $k$ an odd integer. Then the computation box below verifies that\n",
    "$$\\frac{a_6}{b^2}=8d^2jk(-1 + dk^2) -ad(\\frac{a^2d}{4}-1)-(d-1)^2 \\equiv -ad(\\frac{a^2d}{4}-1)-(d-1)^2 \\mod 16.$$\n",
    "The congruence follows since $-1 + dk^2$ is even.\n",
    "Via Mathematica, we verify that $\\frac{a_6}{b^2}\\mod 16$ is either $0,8 \\mod 16$. In fact, the Mathematica code:\n",
    "$$Table[{Mod[a,8], Mod[d, 8], Mod[-a*d*(a^2*d/4 - 1) - (d - 1)^2, 16]}, {a, 2, 16, 4}, {d, 1, 16, 2}]$$\n",
    "$$outputs: {2, 1, 0}, {2, 3, 0}, {6, 7, 0}, {6, 1, 0},{2, 5, 8}, {2, 7, 8}, {6, 3, 8}, {6, 5, 8}$$\n",
    "Which is equivalent to saying that $\\frac{a_6}{b^2} \\equiv  0 \\mod 16$ iff (i) $a = 2 \\mod 8,d \\equiv 1,3 \\mod 8$ or (ii) $a \\equiv 6 \\mod 8, d \\equiv 1, 7 \\mod 8$.\n",
    "Therefore,\n",
    "$$v_2(a_6) =\\left\\{ \\begin{array}{cl}\\geq n+4 & \\text{if }(i) a = 2 \\mod 8,d \\equiv 1,3 \\mod 8\\text{ or }(ii) a \\equiv 6 \\mod 8, d \\equiv 1, 7 \\mod 8  \\\\ n+3 & \\text{if }(i) a = 2 \\mod 8,d \\equiv 5,7 \\mod 8\\text{ or }(ii) a \\equiv 6 \\mod 8, d \\equiv 3, 5 \\mod 8  .\\end{array}\\right. $$\n",
    "It follows that the Neron type is $I_n^*$. The claimed Tamagawa number now follows since\n",
    "$$a_{2,1}t^2+a_{4,\\frac{n+4}{2}}+a_{6,n+3} \\equiv t^2 + t + a_{6,n+3} \\mod 2.$$\n"
   ]
  },
  {
   "cell_type": "code",
   "execution_count": 40,
   "metadata": {
    "collapsed": false
   },
   "outputs": [
    {
     "name": "stdout",
     "output_type": "stream",
     "text": [
      "0\n"
     ]
    }
   ],
   "source": [
    "f(k,j)=8*d^2*j*k*(-1 + d*k^2) -a*d*(a^2*d/4-1)-(d-1)^2\n",
    "print(expand(f(a/2,b/8)-K.a6()/b^2))"
   ]
  },
  {
   "cell_type": "markdown",
   "metadata": {
    "collapsed": false
   },
   "source": [
    "**Case nd.**\n",
    "Suppose $n=2v_2(b)+1 \\geq 7, a \\equiv 2 \\mod 4, ad \\equiv 4 \\mod 16$. This corresponds to the Weierstrass model $F20$. Below, are its Weierstrass coefficients and discriminant and we continue with an analysis of these quantities to establish the claimed values in (3.3)."
   ]
  },
  {
   "cell_type": "code",
   "execution_count": 23,
   "metadata": {
    "collapsed": false
   },
   "outputs": [
    {
     "name": "stdout",
     "output_type": "stream",
     "text": [
      "c4\n",
      "(16) * (3*b^2*d + a^2)\n",
      "c6\n",
      "(-64) * a * (9*b^2*d - a^2)\n",
      "Disc\n",
      "(64) * d * b^2 * (b^2*d - a^2)^2\n",
      "a1\n",
      "(-2) * (b*d + a)\n",
      "a2\n",
      "(-1) * (b^2*d^2 - a*b*d + a^2 + a)\n",
      "a3\n",
      "(4) * b\n",
      "a4\n",
      "b * (3*a^2*b*d^2 - 2*a^2*d + 3*b*d + 4*a)\n",
      "a6\n",
      "b^2 * (a^3*b*d^3 - a^3*d^2 - a*b*d^2 + a*d - 4)\n"
     ]
    }
   ],
   "source": [
    "vals(F20)"
   ]
  },
  {
   "cell_type": "markdown",
   "metadata": {
    "collapsed": false
   },
   "source": [
    "<span style=\"color:blue\">\n",
    "Under the assumptions given, we have that $n + 3 = 2v_2(b) + 4,\\frac{n + 3}{2} = v_2(b) + 2, \\frac{n + 4}{2} = \\frac{2v_2(b) + 5}{2}$. Therefore\n",
    "$$(v_2(a_1),v_2(a_2),v_2(a_3),v_2(a_4),v_2(\\Delta))=(2, 1, \\frac{n + 3}{2}, >\\frac{n + 4}{2},n+10).$$\n",
    "Now observe that\n",
    "$$\\frac{a_6}{b^2} \\equiv ad - 4 \\mod 32.$$\n",
    "Therefore,\n",
    "$$v_2(a_6) =\\left\\{ \\begin{array}{cl}\\geq n+4 & \\text{if }ad \\equiv 4 \\mod 32  \\\\ n+3 & \\text{if }ad \\equiv 20 \\mod 32.\\end{array}\\right. $$\n",
    "It follows that the Neron type is $I_n^*$. The claimed Tamagawa number now follows since\n",
    "$$t^2+a_{3,\\frac{n+3}{2}}+a_{6,n+3} \\equiv t^2 + t + a_{6,n+3} \\mod 2.$$"
   ]
  },
  {
   "cell_type": "markdown",
   "metadata": {
    "collapsed": false
   },
   "source": [
    "**Case ne.**\n",
    "Suppose $n=2v_2(b)+1 \\geq 7, a \\equiv 2 \\mod 4, ad \\equiv 12 \\mod 16$. This corresponds to the Weierstrass model $F21$. Below, are its Weierstrass coefficients and discriminant and we continue with an analysis of these quantities to establish the claimed values in (3.3)."
   ]
  },
  {
   "cell_type": "code",
   "execution_count": 24,
   "metadata": {
    "collapsed": false
   },
   "outputs": [
    {
     "name": "stdout",
     "output_type": "stream",
     "text": [
      "c4\n",
      "(16) * (3*b^2*d + a^2)\n",
      "c6\n",
      "(-64) * a * (9*b^2*d - a^2)\n",
      "Disc\n",
      "(64) * d * b^2 * (b^2*d - a^2)^2\n",
      "a1\n",
      "(-2) * (b*d + a)\n",
      "a2\n",
      "(-1/2) * (2*b^2*d^2 + a*b*d + 2*a^2 + 2*a)\n",
      "a3\n",
      "(4) * b\n",
      "a4\n",
      "(1/4) * b * (3*a^2*b*d^2 - 4*a^2*d + 12*b*d + 16*a)\n",
      "a6\n",
      "(1/8) * b^2 * (a^3*b*d^3 - 2*a^3*d^2 - 4*a*b*d^2 + 8*a*d - 32)\n"
     ]
    }
   ],
   "source": [
    "vals(F21)"
   ]
  },
  {
   "cell_type": "markdown",
   "metadata": {
    "collapsed": false
   },
   "source": [
    "<span style=\"color:blue\">\n",
    "Under the assumptions given, we have that $n + 3 = 2v_2(b) + 4,\\frac{n + 3}{2} = v_2(b) + 2, \\frac{n + 4}{2} = \\frac{2v_2(b) + 5}{2}$. Therefore\n",
    "$$(v_2(a_1),v_2(a_2),v_2(a_3),v_2(a_4),v_2(\\Delta))=(2, 1, \\frac{n + 3}{2}, >\\frac{n + 4}{2},n+10).$$\n",
    "Now observe that\n",
    "$$\\frac{a_6}{b^2} \\equiv  \\frac{- a^3d^2}{4}+ ad - 4 \\mod 32 = 4(\\frac{-a^3d^2}{16}+\\frac{ad}{4} - 1) \\mod 32.$$\n",
    "Next, we note that $\\frac{a^2d^2}{16} \\equiv 1 \\mod 8$ since $\\frac{a^2d^2}{16}$ is an odd square. Consequently,\n",
    "$$\\frac{a_6}{4b^2} \\equiv  -a+\\frac{ad}{4} - 1 \\mod 8.$$\n",
    "Since $ad \\equiv 12 \\mod 16$, we have that $\\frac{ad}{4}$ is either $3$ or $7$ modulo $8$. Set $k=\\frac{ad}{4}$, and observe the the following Mathematica code:\n",
    "$$\\text{Table}[{Mod[a, 8], Mod[k, 8], Mod[-a + k - 1, 8]}, {a, 2, 8, 4}, {k, 3, 8, 4}]$$\n",
    "$$\\text{outputs:}\\ {2, 3, 0}, {2, 7, 4}, {6, 3, 4}, {6, 7, 0}$$\n",
    "Therefore,\n",
    "$$v_2(a_6) =\\left\\{ \\begin{array}{cl}\\geq n+4 & \\text{if }(i)a \\equiv 2 \\mod 8, ad \\equiv 12 \\mod 32\\text{ or }(ii)a \\equiv 6 \\mod 8, ad \\equiv 28 \\mod 32   \\\\ n+3 & \\text{if }(i)a \\equiv 2 \\mod 8, ad \\equiv 28 \\mod 32\\text{ or }(ii)a \\equiv 6 \\mod 8, ad \\equiv 12 \\mod 32.\\end{array}\\right. $$\n",
    "\n",
    "It follows that the Neron type is $I_n^*$. The claimed Tamagawa number now follows since\n",
    "\n",
    "$$t^2+a_{3,\\frac{n+3}{2}}+a_{6,n+3} \\equiv t^2 + t + a_{6,n+3} \\mod 2.$$"
   ]
  },
  {
   "cell_type": "markdown",
   "metadata": {
    "collapsed": false
   },
   "source": [
    "**Case nf.**\n",
    "Suppose $n = 2v_2(b^2d-a^2) \\geq 4, v_2(b) = 0$. In particular, $a$ is odd. This corresponds to the Weierstrass model $F5$. Below, are its Weierstrass coefficients and discriminant and we continue with an analysis of these quantities to establish the claimed values in (3.3)."
   ]
  },
  {
   "cell_type": "code",
   "execution_count": 25,
   "metadata": {
    "collapsed": false
   },
   "outputs": [
    {
     "name": "stdout",
     "output_type": "stream",
     "text": [
      "c4\n",
      "(16) * (3*b^2*d + a^2)\n",
      "c6\n",
      "(-64) * a * (9*b^2*d - a^2)\n",
      "Disc\n",
      "(64) * d * b^2 * (b^2*d - a^2)^2\n",
      "a1\n",
      "2^2\n",
      "a2\n",
      "(2) * (24*b^2*d - 24*a^2 + a - 2)\n",
      "a3\n",
      "(16) * (b^2*d - a^2)\n",
      "a4\n",
      "(b^2*d - a^2) * (768*b^2*d - 768*a^2 + 64*a - 33)\n",
      "a6\n",
      "(16) * (256*b^2*d - 256*a^2 + 32*a - 5) * (b^2*d - a^2)^2\n"
     ]
    }
   ],
   "source": [
    "vals(F5)"
   ]
  },
  {
   "cell_type": "markdown",
   "metadata": {
    "collapsed": false
   },
   "source": [
    "<span style=\"color:blue\">\n",
    "Under the assumptions given, we have that $n+3 = 2v_2(b^2d-a^2) - 1 , \\frac{n+3}{2} = v_2(b^2d-a^2) - \\frac{1}{2}$,  and $\\frac{n+4}{2}= v_2(b^2d-a^2) $. Thus\n",
    "$$(v_2(a_1),v_2(a_2),v_2(a_3),v_2(a_4),v_2(a_6),v_2(\\Delta))=(2, 1, > \\frac{n+3}{2},\\frac{n+4}{2}, n+8, n+10).$$\n",
    "It follows that the Neron type is $I_n^*$. The claimed Tamagawa number now follows since\n",
    "$$a_{2,1}t^2+a_{4,\\frac{n+4}{2}}+a_{6,n+3} \\equiv t( t+1) \\mod 2.$$"
   ]
  },
  {
   "cell_type": "markdown",
   "metadata": {
    "collapsed": false
   },
   "source": [
    "**Case ng.**\n",
    "Suppose $n = 2v_2(b^2d-a^2)- 12 \\geq 4, a \\equiv 6 \\mod 8$. This corresponds to the Weierstrass model $F22$. Below, are its Weierstrass coefficients and discriminant and we continue with an analysis of these quantities to establish the claimed values in (3.3)."
   ]
  },
  {
   "cell_type": "code",
   "execution_count": 26,
   "metadata": {
    "collapsed": false
   },
   "outputs": [
    {
     "name": "stdout",
     "output_type": "stream",
     "text": [
      "c4\n",
      "3*b^2*d + a^2\n",
      "c6\n",
      "(-1) * a * (9*b^2*d - a^2)\n",
      "Disc\n",
      "(1/64) * d * b^2 * (b^2*d - a^2)^2\n",
      "a1\n",
      "2\n",
      "a2\n",
      "(1/8192) * (3*b^4*d^2 - 6*a^2*b^2*d + 3*a^4 + 4096*a - 8192)\n",
      "a3\n",
      "(3/4096) * (b^2*d - a^2)^2\n",
      "a4\n",
      "(1/67108864) * (b^2*d - a^2) * (3*b^6*d^3 - 9*a^2*b^4*d^2 + 9*a^4*b^2*d - 3*a^6 + 8192*a*b^2*d - 8192*a^3 - 49152*b^2*d + 49152*a^2 - 4194304)\n",
      "a6\n",
      "(1/549755813888) * (b^2*d - a^2)^3 * (b^6*d^3 - 3*a^2*b^4*d^2 + 3*a^4*b^2*d - a^6 + 4096*a*b^2*d - 4096*a^3 - 73728*b^2*d + 73728*a^2 - 4194304)\n"
     ]
    }
   ],
   "source": [
    "vals(F22)"
   ]
  },
  {
   "cell_type": "markdown",
   "metadata": {
    "collapsed": false
   },
   "source": [
    "<span style=\"color:blue\">\n",
    "Under the assumptions given, we have that $n+3 = 2v_2(b^2d-a^2) - 9  , \\frac{n+3}{2} = v_2(b^2d-a^2) - \\frac{9}{2}$ ,  and $\\frac{n+4}{2} = v_2(b^2d-a^2) - 4$. Hence\n",
    "$$(v_2(a_1),v_2(a_3),v_2(\\Delta))=(1,n,n+8).$$\n",
    "Let $l=b^2d-a^2$. Then the computation box below verifies the following equalities:\n",
    "$$a_2 = \\frac{3l^2}{2^{14}}+\\frac{a}{2} - 1$$\n",
    "$$\\frac{16a_4}{b^2d-a^2} = \\frac{3l^3}{2^{22}} +\\frac{al}{2^9} -\\frac{3l}{2^8} - 1$$\n",
    "$$\\frac{1024a_6}{(b^2d-a^2)^2} = \\frac{l^4}{2^{29}} +\\frac{al^2}{2^{17}} -\\frac{9l^2}{2^{16}} -\\frac{l}{2^7}.$$\n",
    "Since $v_2(l)\\geq 8$, we have that $\\frac{l^k}{2^{8k}}$ is an integer for each nonnegative integer $k$. We now consider $a_2, a_4,$ and $a_6$ separately. \n",
    "Note that $a_2 \\equiv \\frac{a}{2} - 1 \\mod 4 = 2 \\mod 4$ since $a \\equiv 6 \\mod 8$. Thus $v_2(a_2) = 1$.\n",
    "For $a_4$, observe that\n",
    "$$\\frac{16a_4}{b^2d-a^2} \\equiv \\left\\{ \\begin{array}{cl}0+1 + 1 + 1 \\mod 2 = 1 \\mod 2 & \\text{if }v_2(l)=8  \\\\ 0+0+0+1 \\mod2 = 1 \\mod 2 & \\text{if }v_2(l) \\geq 9.\\end{array}\\right. $$\n",
    "Consequently, $$\\frac{16a_4}{b^2d-a^2} \\text{ is odd which implies that } v_2(a_4) = v_2(b^2d-a^2) - 4 = \\frac{n+4}{2}.$$\n",
    "Similarly,\n",
    "$$\\frac{1024a_6}{(b^2d-a^2)^2} \\equiv \\left\\{ \\begin{array}{cl}0+\\frac{a}{2}-1+2 \\mod 4 = 0 \\mod 4 & \\text{if }v_2(l)=8  \\\\0+0+0+0  \\mod4 = 0 \\mod 4 & \\text{if }v_2(l) \\geq 9.\\end{array}\\right. $$\n",
    "Consequently, $10 + v_2(a_6) -2v_2(b^2d-a^2) \\geq 2$. This is equivalent to $v_2(a_6) \\geq 2v_2(b^2d-a^2) - 8 = n+4$.\n",
    "It follows that the Neron type is $I_n^*$. The claimed Tamagawa number now follows since\n",
    "$$a_{2,1}t^2+a_{4,\\frac{n+4}{2}}+a_{6,n+3} \\equiv t( t+1) \\mod 2.$$"
   ]
  },
  {
   "cell_type": "code",
   "execution_count": 51,
   "metadata": {
    "collapsed": false
   },
   "outputs": [
    {
     "name": "stdout",
     "output_type": "stream",
     "text": [
      "0\n",
      "0\n",
      "0\n"
     ]
    }
   ],
   "source": [
    "f(l)=3*(l)^2/8192 + a/2 - 1\n",
    "print(expand(f(b^2*d-a^2)-K.a2()))\n",
    "g(l)= 3*(l)^3/2^22 + a*(l)/2^9 - 3*(l)/2^8 - 1\n",
    "print(expand(g(b^2*d-a^2)-16*K.a4()/(b^2*d-a^2)))\n",
    "h(l)=l^4/2^29 + a * l^2/2^17 - 9 *l^2/2^16 - 1/2^7*l\n",
    "print(expand(h(b^2*d-a^2)-1024*K.a6()/(b^2*d-a^2)^2))"
   ]
  },
  {
   "cell_type": "code",
   "execution_count": 0,
   "metadata": {
    "collapsed": false
   },
   "outputs": [
   ],
   "source": [
   ]
  }
 ],
 "metadata": {
  "kernelspec": {
   "display_name": "SageMath 9.1",
   "language": "sagemath",
   "metadata": {
    "cocalc": {
     "description": "Open-source mathematical software system",
     "priority": 10,
     "url": "https://www.sagemath.org/"
    }
   },
   "name": "sage-9.1",
   "resource_dir": "/ext/jupyter/kernels/sage-9.1"
  },
  "language_info": {
   "codemirror_mode": {
    "name": "ipython",
    "version": 3
   },
   "file_extension": ".py",
   "mimetype": "text/x-python",
   "name": "python",
   "nbconvert_exporter": "python",
   "pygments_lexer": "ipython3",
   "version": "3.7.3"
  }
 },
 "nbformat": 4,
 "nbformat_minor": 4
}