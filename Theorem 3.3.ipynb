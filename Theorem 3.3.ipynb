{
 "cells": [
  {
   "cell_type": "code",
   "execution_count": 2,
   "metadata": {
    "collapsed": false
   },
   "outputs": [
   ],
   "source": [
    "from sage.schemes.elliptic_curves.weierstrass_morphism import *\n",
    "S.<a,b,p,l,u,v,c,d,r,s,t,x,y,k,j>=QQ[]\n",
    "def E(a,b,d):\n",
    "\tA=a\n",
    "\tB=b^2*d\n",
    "\treturn EllipticCurve(S.fraction_field(),[0,2*A,0,A^2-B,0])\n",
    "def F(a,b,d):\n",
    "    return E(a,b,d).change_ring(QQ)\n",
    "def vp(n,p):\n",
    "\treturn log(1/Qp(p)(n).abs(),p)\n",
    "def PolyMod(f,n): ##Reduces a polynomial mod n\n",
    "    R = IntegerModRing(n)\n",
    "    S.<a,b,p,l,u,v,c,d,r,s,t,x,y,k,j>=R[]\n",
    "    return S(f)\n",
    "def PolyModFactor(f,p): ## p must be a prime since this uses the fact that F[x] is a UFD\n",
    "\tR=GF(p)   ##Finite field of p elements. A.k.a the ring Z/pZ\n",
    "\tS.<a,b,p,l,u,v,c,d,r,s,t,x,y>=R[];S\n",
    "\treturn factor(S(f))\n",
    "def vals(G):\n",
    "\tprint(\"c4\")\n",
    "\tprint(factor(G.c4()))\n",
    "\tprint(\"c6\")\n",
    "\tprint(factor(G.c6()))\n",
    "\tprint(\"Disc\")\n",
    "\tprint(factor(G.discriminant()))\n",
    "\tprint('a1')\n",
    "\tprint(factor(G.a1()))\n",
    "\tprint('a2')\n",
    "\tprint(factor(G.a2()))\n",
    "\tprint('a3')\n",
    "\tprint(factor(G.a3()))\n",
    "\tprint('a4')\n",
    "\tprint(factor(G.a4()))\n",
    "\tprint('a6')\n",
    "\tprint(factor(G.a6()))"
   ]
  },
  {
   "cell_type": "markdown",
   "metadata": {
    "collapsed": false
   },
   "source": [
    "The curve E(a,b,d) corresponds to $E_{C_{2}}=E_{C_{2}}(a,b,d)$ in the paper. Consequently, in the analysis below, we assume that $a,b,d$ are integers with $b\\neq0, d\\neq1$, and both of $gcd(a,b)$ and $d$ are squarefree. \n",
    "    \n",
    "Below, we verify the Main Theorem in the case of $2$-torsion without full $2$-torsion and the additional requirement that $E_{C_{2}}$ has additive reduction at $p\\geq3$."
   ]
  },
  {
   "cell_type": "code",
   "execution_count": 3,
   "metadata": {
    "collapsed": false
   },
   "outputs": [
    {
     "name": "stdout",
     "output_type": "stream",
     "text": [
      "(16) * (3*b^2*d + a^2)\n",
      "(-64) * a * (9*b^2*d - a^2)\n",
      "(64) * d * b^2 * (b^2*d - a^2)^2\n"
     ]
    }
   ],
   "source": [
    "'c4'\n",
    "print(factor(E(a,b,d).c4()))\n",
    "'c6'\n",
    "print(factor(E(a,b,d).c6()))\n",
    "'disc'\n",
    "print(factor(E(a,b,d).discriminant()))"
   ]
  },
  {
   "cell_type": "markdown",
   "metadata": {
    "collapsed": false
   },
   "source": [
    "Next, we consider the subcases found in the article. This requires us to consider three different Weierstrass models: $F_{T,j}$ where $j=23,24,25,26$. We define these models below and refer to them here as $Fj$:"
   ]
  },
  {
   "cell_type": "code",
   "execution_count": 5,
   "metadata": {
    "collapsed": false
   },
   "outputs": [
   ],
   "source": [
    "F23=E(a,b,d).change_weierstrass_model(1,9,3,9)\n",
    "F24=E(a,b,d).change_weierstrass_model(1,3*b^2*d+a^2,(3*b^2*d+a^2)/p,(3*b^2*d+a^2)*p)\n",
    "F25=E(a,b,d).change_weierstrass_model(1,-a,a,a*b^2)\n",
    "F26=E(a,b,d).change_weierstrass_model(1,b^2*d-a^2,(b^2*d-a^2)/p,(b^2*d-a^2)*p)"
   ]
  },
  {
   "cell_type": "markdown",
   "metadata": {
    "collapsed": false
   },
   "source": [
    "<span style=\"color:blue\">\n",
    "We start by verifying the valuations given at the start of Theorem 3.3.\n",
    "Suppose $p\\geq5,v_p(a)\\geq1,v_p(b)=0,v_p(d)=1$. Then by inspection,\n",
    "$$v_p(c_4),v_p(c_6),v_p(\\Delta) = (1, v_p(a) +1, 3) = (1,\\geq2, 3).$$ By Papadopoulos Table I, we have that $E_T$ has Neron type III.\n",
    "Suppose $p=3,v_3(a)=1,v_3(b)=0,v_3(d)=1$. Then by inspection,\n",
    "$$v_p(c_4),v_p(c_6),v_p(\\Delta) = (v_p(3b^2+a^2),3,3) = (\\geq2,3,3).$$ By Papadopoulos Table II, we have that $E_T$ has Neron type II or III. Next, let $a=3k$ and $d=3l$ witj $k,l$ not divisible by $3$. Then as verified in the computation box below, we attain:\n",
    "$$(\\frac{c_6}{27})^2-\\frac{c_4}{3}+2 = 36864b^4k^2l^2 - 24576b^2k^4l + 4096k^6 - 48b^2l - 48k^2 + 2$$\n",
    "$$\\equiv 3(b^2k^4l+2b^2l+2k^2)+k^6+2 \\mod 9$$\n",
    "$$ = 0 \\mod 9.$$\n",
    "For the last equality, we note that $k^6+2\\equiv 3 \\mod 9$ and thus\n",
    "$$(\\frac{c_6}{27})^2-\\frac{c_4}{3}+2 \\equiv 3(b^2k^4l+2b^2l+2k^2 + 1) \\mod 9.$$\n",
    "The claim now follows since\n",
    "$$b^2k^4l+2b^2l+2k^2 + 1 \\equiv l + 2l + 2 + 1 \\mod 9 = 0 \\mod 9.$$"
   ]
  },
  {
   "cell_type": "code",
   "execution_count": 15,
   "metadata": {
    "collapsed": false
   },
   "outputs": [
    {
     "name": "stdout",
     "output_type": "stream",
     "text": [
      "0\n",
      "3*b^2*l*k^4 + k^6 + 6*b^2*l + 6*k^2 + 2\n"
     ]
    }
   ],
   "source": [
    "f(k,l)=36864*b^4*k^2*l^2 - 24576*b^2*k^4*l + 4096*k^6 - 48*b^2*l - 48*k^2 + 2\n",
    "print(expand((E(a,b,d).c6()/27)^2 - E(a,b,d).c4()/3 +2-f(a/3,d/3)))\n",
    "print(PolyMod(f(k,l),9))"
   ]
  },
  {
   "cell_type": "markdown",
   "metadata": {
    "collapsed": false
   },
   "source": [
    "<span style=\"color:blue\">\n",
    "Suppose $p=3,v_3(a)>1,v_3(b)=0,v_3(d)=1$. Then by inspection,\n",
    "$$v_p(c_4),v_p(c_6),v_p(\\Delta) = (2,v_p(a)+3,3)=(2,\\geq5,3).$$ By Papadopoulos Table II, $E_T$ has Neron type III at $3$.\n",
    "Next, suppose $p\\geq5,v_p(a)\\geq2,v_p(b)=v_p(d)=1$. Then by inspection,\n",
    "$$v_p(c_4),v_p(c_6),v_p(\\Delta) = (3,v_p(a)+3,9)=(3,\\geq5,9).$$ By Papadopoulos Table I, $E_T$ has Neron type III$^{*}$ at $p$.\n",
    "Next, suppose $p=3,v_3(a)=2,v_3(b)=v_3(d)=1$. Then by inspection,\n",
    "$$v_3(c_4),v_3(c_6),v_3(\\Delta) = (v_3(3b^2d+a^2),6,9)=(\\geq4,6,9).$$ By Papadopoulos Table II, we have that $E_T$ has Neron type III$^{*}$ or IV$^{*}$. Next, let $a=9k,b=3j,d=3l$ where $k,j,l$ are integers not divisible by $3$. Now observe that\n",
    "$$(\\frac{c_6}{729})^2 -\\frac{c_4}{27}+2 \\equiv 3(lk^4j^2+2lj^2+2k^2)+k^6+2 \\mod 9 = 6+k^6+2 \\mod9 = 0 \\mod 9. $$\n",
    "For the last equality, we note that $k^6+2\\equiv 3 \\mod 9$ and thus\n",
    "$$(\\frac{c_6}{729})^2 -\\frac{c_4}{27}+2 \\equiv 0 \\mod 9,$$\n",
    "and hence $E_T$ has Neron Type III$^{*}$ at $3$."
   ]
  },
  {
   "cell_type": "code",
   "execution_count": 23,
   "metadata": {
    "collapsed": false
   },
   "outputs": [
    {
     "name": "stdout",
     "output_type": "stream",
     "text": [
      "0\n",
      "3*l*k^4*j^2 + k^6 + 6*l*j^2 + 6*k^2 + 2\n"
     ]
    }
   ],
   "source": [
    "f(k,j,l)=36864*l^2*k^2*j^4 - 24576*l*k^4*j^2 + 4096*k^6 - 48*l*j^2 - 48*k^2 + 2\n",
    "print(expand((E(a,b,d).c6()/729)^2 - E(a,b,d).c4()/27 +2)-f(a/9,b/3,d/3))\n",
    "print(PolyMod(f(k,j,l),9))"
   ]
  },
  {
   "cell_type": "markdown",
   "metadata": {
    "collapsed": false
   },
   "source": [
    "<span style=\"color:blue\">\n",
    "Next, suppose $p=3,v_3(a)>2,v_3(b)=v_3(d)=1$. Then by inspection,\n",
    "$$v_p(c_4),v_p(c_6),v_p(\\Delta) = (4,v_p(a)+5,9)=(4,\\geq8,9.$$\n",
    "By Papadopoulos Table II, we have that $E_T$ has Neron type III$^*$ at $3$."
   ]
  },
  {
   "cell_type": "markdown",
   "metadata": {
    "collapsed": false
   },
   "source": [
    "We now proceed by checking the cases in Theorem 3.3.\n",
    "\n",
    "**Case 1.** Suppose the parameters of $a,b,d$ of $E_T$ satisfy one of the conditions appearing in (3.7) for the Neron type I$^{*}_{0}.$ We treat each of these cases separately below."
   ]
  },
  {
   "cell_type": "markdown",
   "metadata": {
    "collapsed": false
   },
   "source": [
    "**Subcase 1a.** Suppose $p=3,v_3(a)=v_3(b)=1,v_3(d)=0,v_3(b^2d-a^2)=2.$ Next, consider the Weierstrass model $F_{23}$. Observe that we have the following valuations on the Weierstrass coefficients."
   ]
  },
  {
   "cell_type": "code",
   "execution_count": 4,
   "metadata": {
    "collapsed": false
   },
   "outputs": [
    {
     "name": "stdout",
     "output_type": "stream",
     "text": [
      "c4\n",
      "(16) * (3*b^2*d + a^2)\n",
      "c6\n",
      "(-64) * a * (9*b^2*d - a^2)\n",
      "Disc\n",
      "(64) * d * b^2 * (b^2*d - a^2)^2\n",
      "a1\n",
      "2 * 3\n",
      "a2\n",
      "(2) * (a + 9)\n",
      "a3\n",
      "2 * 3^2\n",
      "a4\n",
      "(-1) * (b^2*d - a^2 - 36*a - 189)\n",
      "a6\n",
      "(-9) * (b^2*d - a^2 - 18*a - 72)\n"
     ]
    }
   ],
   "source": [
    "vals(F23)"
   ]
  },
  {
   "cell_type": "markdown",
   "metadata": {
    "collapsed": false
   },
   "source": [
    "<span style=\"color:blue\">\n",
    "In particular, we have that\n",
    "$$(v_3(a_1),v_3(a_2),v_3(a_3)) = (1, 1, 2).$$\n",
    "Now observe that $-a_4=b^2d-a^2 - 9(4a+21)$ and $-a_6=9((b^2d-a^2)-9(2a+8))$. Since $v_3(b^2d-a^2)=2$ and $v_3(a)=1$, we deduce that $v_3(a_4)=2$ and $v_3(a_6)\\geq4.$ Consequently, Tate's Algorithm proceeds through Step 6. Now observe that\n",
    "$$P(t)=t^3+a_{2,1}t^2+a_{4,2}t+a_{6,3} \\equiv t^3 + \\frac{2(a+9)}{3}t^2-(\\frac{b^2d-a^2}{9}-4a-21)t \\mod3 = t(t^2 +\\frac{2a}{3}t-\\frac{b^2d-a^2}{9}) \\mod 3 = t(t^2 +\\frac{2a}{3}t+2) \\mod 3.$$\n",
    "For the last equality, we note that  $\\frac{b^2d-a^2}{9}\\equiv d - 1 \\mod 3$. Since $v_3(b^2d-a^2)=2$ and $d$ is not divisible by $3$, we conclude that $d\\equiv 2 \\mod3$. Thus $-\\frac{b^2d-a^2}{9}\\equiv2 \\mod 3$. Since $P(t)$ has distinct roots, we have by Tate's Algorithm that the Neron type at $3$ is I$^{*}_0$. For the $c_3$, observe that $t^2 +\\frac{2a}{3}t+2$ does not split in $\\mathbb{F}_3$ Hence $c_3=2$."
   ]
  },
  {
   "cell_type": "markdown",
   "metadata": {
    "collapsed": false
   },
   "source": [
    "**Subcase 1b.** Suppose $p\\geq5,v_p(a)=v_p(b)=1,v_p(d)=0,v_p(b^2d-a^2)=2.$ Next, consider the Weierstrass model $F_{24}$. Observe that we have the following valuations on the Weierstrass coefficients."
   ]
  },
  {
   "cell_type": "code",
   "execution_count": 5,
   "metadata": {
    "collapsed": false
   },
   "outputs": [
    {
     "name": "stdout",
     "output_type": "stream",
     "text": [
      "c4\n",
      "(16) * (3*b^2*d + a^2)\n",
      "c6\n",
      "(-64) * a * (9*b^2*d - a^2)\n",
      "Disc\n",
      "(64) * d * b^2 * (b^2*d - a^2)^2\n",
      "a1\n",
      "(2) * p^-1 * (3*b^2*d + a^2)\n",
      "a2\n",
      "(-1) * p^-2 * (9*b^4*d^2 + 6*a^2*b^2*d - 9*b^2*p^2*d + a^4 - 3*a^2*p^2 - 2*a*p^2)\n",
      "a3\n",
      "(2) * p * (3*b^2*d + a^2)\n",
      "a4\n",
      "9*b^4*d^2 + 6*a^2*b^2*d + a^4 + 12*a*b^2*d + 4*a^3 - b^2*d + a^2\n",
      "a6\n",
      "(3*b^2*d + a^2) * (9*b^4*d^2 + 6*a^2*b^2*d - 3*b^2*p^2*d + a^4 - a^2*p^2 + 6*a*b^2*d + 2*a^3 - b^2*d + a^2)\n"
     ]
    }
   ],
   "source": [
    "vals(F24)"
   ]
  },
  {
   "cell_type": "markdown",
   "metadata": {
    "collapsed": false
   },
   "source": [
    "<span style=\"color:blue\">\n",
    "In particular,\n",
    "$$(v_p(a_1),v_(a_3))=(v_p(3b^2d+a^2)-1,v_p(3b^2d+a^2)+1)=(\\geq1,\\geq3).$$\n",
    "Now observe that the next computation box yields\n",
    "$$a_2=-\\frac{b^2d+a^2}{p^2} -\\frac{4b^2d(2b^2+a^2)}{p^2} + 9b^2d+3a^2+2a \\equiv 2a \\mod p^2$$\n",
    "$$a_4=4a(3b^2d+a^2) - (b^2d-a^2) + (3b^2d+a^2)^2 \\equiv -(b^2d-a^2) \\mod p^3$$\n",
    "$$a_6=(3b^2d+a^2)((-b^2d-a^2)-p^2(3b^2d+a^2)+(3b^2d+a^2)^2+2a(3b^2d+a^2)).$$\n",
    "Therefore,\n",
    "$$(v_p(a_2),v_p(a_4),v_p(a_6))=(1,2,\\geq4).$$\n",
    "Consequently, Tate's Algorithm proceeds through Step 6. Now observe that\n",
    "$$P(t)=t^3+a_{2,1}t^2+a_{4,2}t+a_{6,3} \\equiv t(t^2 +\\frac{2a}{p}t-\\frac{b^2d-a^2}{p^2}).$$\n",
    "The discriminant of the quadratic factor of $P(t)$ over $\\mathbb{F}_{p}$ is $\\frac{4a^2+4b^2d-4a^2}{p^2}=\\frac{4b^2d}{p^2}.$ In particular, the quadratic factor splits over $\\mathbb{F}_{3}$ if and only if $(\\frac{d}{p})=1$. By Tate's Algorithm that the Neron type at $p$ is I$^{*}_0$ with\n",
    "$$c_p =\\left\\{ \\begin{array}{cl}4 & \\text{if }(\\frac{d}{p})=1  \\\\ 2 & \\text{if } (\\frac{d}{p})=-1 .\\end{array}\\right. $$\n",
    "We note that if $v_p(9b^2d-a^2)\\geq 3$, then $(\\frac{d}{p})=1$. Indeed, if $v_p(9b^2d-a^2)\\geq 3$, then $9b^2d-a^2=p^3l$ for some integer l. Then\n",
    "$$d=\\frac{p^3l+a^2}{9b^2}\\equiv \\frac{a^2}{9b^2} \\mod p.$$\n",
    "Thus $(\\frac{d}{p})=1$, which allows us to conclude that $c_p=4$ if $v_p(9b^2d-a^2)\\geq 3$."
   ]
  },
  {
   "cell_type": "code",
   "execution_count": 39,
   "metadata": {
    "collapsed": false
   },
   "outputs": [
    {
     "name": "stdout",
     "output_type": "stream",
     "text": [
      "True\n",
      "True\n",
      "True\n"
     ]
    }
   ],
   "source": [
    "print(K.a2() == -(b^2*d+a^2)^2/p^2 - (4) * d * b^2 * (2*b^2*d + a^2)/p^2 + (9*b^2*d + 3*a^2 + 2*a))\n",
    "print(K.a4() ==(4) * a * (3*b^2*d + a^2) - (b^2*d - a^2) + (3*b^2*d + a^2)^2)\n",
    "print(K.a6() == (3*b^2*d + a^2) *( -(b^2*d-a^2) - p^2 * (3*b^2*d + a^2) + (3*b^2*d + a^2)^2 + (2) * a * (3*b^2*d + a^2) ))"
   ]
  },
  {
   "cell_type": "markdown",
   "metadata": {
    "collapsed": false
   },
   "source": [
    "**Subcase 1c.** Suppose $p\\geq3,v_p(a)>1,v_p(b)=1,v_p(d)=0,v_p(b^2d-a^2)=2$. Next, consider the Weierstrass model $F_{24}$. Observe that we have the following valuations on the Weierstrass coefficients."
   ]
  },
  {
   "cell_type": "code",
   "execution_count": 6,
   "metadata": {
    "collapsed": false
   },
   "outputs": [
    {
     "name": "stdout",
     "output_type": "stream",
     "text": [
      "c4\n",
      "(16) * (3*b^2*d + a^2)\n",
      "c6\n",
      "(-64) * a * (9*b^2*d - a^2)\n",
      "Disc\n",
      "(64) * d * b^2 * (b^2*d - a^2)^2\n",
      "a1\n",
      "(2) * p^-1 * (3*b^2*d + a^2)\n",
      "a2\n",
      "(-1) * p^-2 * (9*b^4*d^2 + 6*a^2*b^2*d - 9*b^2*p^2*d + a^4 - 3*a^2*p^2 - 2*a*p^2)\n",
      "a3\n",
      "(2) * p * (3*b^2*d + a^2)\n",
      "a4\n",
      "9*b^4*d^2 + 6*a^2*b^2*d + a^4 + 12*a*b^2*d + 4*a^3 - b^2*d + a^2\n",
      "a6\n",
      "(3*b^2*d + a^2) * (9*b^4*d^2 + 6*a^2*b^2*d - 3*b^2*p^2*d + a^4 - a^2*p^2 + 6*a*b^2*d + 2*a^3 - b^2*d + a^2)\n"
     ]
    }
   ],
   "source": [
    "vals(F24)"
   ]
  },
  {
   "cell_type": "markdown",
   "metadata": {
    "collapsed": false
   },
   "source": [
    "<span style=\"color:blue\">\n",
    "In particular,\n",
    "$$(v_p(a_1),v_(a_3))=(v_p(3b^2d+a^2)-1,v_p(3b^2d+a^2)+1 )=(\\geq1,\\geq3).$$\n",
    "Now observe that the next computation box yields\n",
    "$$a_2=-\\frac{b^2d+a^2}{p^2} -\\frac{4b^2d(2b^2+a^2)}{p^2} + 9b^2d+3a^2+2a \\equiv 2a \\mod p^3$$\n",
    "$$a_4=4a(3b^2d+a^2) - (b^2d-a^2) + (3b^2d+a^2)^2 \\equiv -(b^2d-a^2) \\mod p^3$$\n",
    "$$a_6=(3b^2d+a^2)((-b^2d-a^2)-p^2(3b^2d+a^2)+(3b^2d+a^2)^2+2a(3b^2d+a^2)).$$\n",
    "Therefore,\n",
    "$$(v_p(a_2),v_(a_4),v_p(a_6))=(\\geq2,2,\\geq4).$$\n",
    "Consequently, Tate's Algorithm proceeds through Step 6. Now observe that\n",
    "$$P(t)=t^3+a_{2,1}t^2+a_{4,2}t+a_{6,3} \\equiv t(t^2 -\\frac{b^2d-a^2}{p^2}).$$\n",
    "In particular, the quadratic factor of $P(t)$ over $\\mathbb{F}_{p}$ splits if and only if $(\\frac{d}{p})$. By Tate's Algorithm that the Neron type at $p$ is I$^{*}_0$ with\n",
    "$$c_p =\\left\\{ \\begin{array}{cl}4 & \\text{if }(\\frac{d}{p})=1  \\\\ 2 & \\text{if } (\\frac{d}{p})=-1 .\\end{array}\\right. $$"
   ]
  },
  {
   "cell_type": "code",
   "execution_count": 42,
   "metadata": {
    "collapsed": false
   },
   "outputs": [
    {
     "name": "stdout",
     "output_type": "stream",
     "text": [
      "True\n",
      "True\n",
      "True\n"
     ]
    }
   ],
   "source": [
    "print(K.a2() == -(b^2*d+a^2)^2/p^2 - (4) * d * b^2 * (2*b^2*d + a^2)/p^2 + (9*b^2*d + 3*a^2 + 2*a))\n",
    "print(K.a4() == (4) * a * (3*b^2*d + a^2) - (b^2*d - a^2) + (3*b^2*d + a^2)^2)\n",
    "print(K.a6() == (3*b^2*d + a^2) *( -(b^2*d-a^2) - p^2 * (3*b^2*d + a^2) + (3*b^2*d + a^2)^2 + (2) * a * (3*b^2*d + a^2) ))"
   ]
  },
  {
   "cell_type": "markdown",
   "metadata": {
    "collapsed": false
   },
   "source": [
    "**Case 2.** Suppose the parameters of $a,b,d$ of $E_T$ satisfy one of the conditions appearing in (3.7) for the Neron type I$^{*}_{n}$ for $n>0$. We treat each of these cases separately below."
   ]
  },
  {
   "cell_type": "markdown",
   "metadata": {
    "collapsed": false
   },
   "source": [
    "**Subcase 2a.** Suppose $n=2v_p(b)-1\\geq1,v_p(a)=v_p(d)=1$. In particular, $v_p(b)\\geq1$. Next, consider the Weierstrass model $F_{25}$. Observe that we have the following valuations on the Weierstrass coefficients and invariants $c_4,c_6$, and discriminant $\\Delta$."
   ]
  },
  {
   "cell_type": "code",
   "execution_count": 7,
   "metadata": {
    "collapsed": false
   },
   "outputs": [
    {
     "name": "stdout",
     "output_type": "stream",
     "text": [
      "c4\n",
      "(16) * (3*b^2*d + a^2)\n",
      "c6\n",
      "(-64) * a * (9*b^2*d - a^2)\n",
      "Disc\n",
      "(64) * d * b^2 * (b^2*d - a^2)^2\n",
      "a1\n",
      "(2) * a\n",
      "a2\n",
      "(-1) * a * (a + 1)\n",
      "a3\n",
      "(2) * a * b^2\n",
      "a4\n",
      "(-1) * b^2 * (2*a^2 + d)\n",
      "a6\n",
      "a * b^2 * (-a*b^2 + d)\n"
     ]
    }
   ],
   "source": [
    "vals(F25)"
   ]
  },
  {
   "cell_type": "markdown",
   "metadata": {
    "collapsed": false
   },
   "source": [
    "<span style=\"color:blue\">\n",
    "Observe that our assumptions imply that\n",
    "$$(v_p(c_4),v_p(c_6),v_p(\\Delta))=(2,3,5+2v_p(b)).$$\n",
    "By Papadopoulos Table I and II, we have that $E_T$ has Neron type I$_n^{*}$ with $n=v_p(\\Delta)-6=2v_p(b)-1$.\n",
    "Next, observe that\n",
    "$$(v_p(a_1),v_p(a_2),v_p(a_3),v_p(a_4),v_p(a_6))=(1,1,1+2v_p(b),2v_p(b)+1,2+2v_p(b))=(1,1,n+2,n+2,n+3).$$\n",
    "Consequently, Lemma 2.1 applies and we use it to compute the Tamagawa number. Since $n$ is odd, we note that\n",
    "$$t^2+a_{3,\\frac{n+3}{2}}t-a_{6,n+3} \\equiv t^2 - \\frac{ab^2d}{p^{n+3}}\\mod p.$$\n",
    "This factors over $\\mathbb{F}_p$ if and only if $(\\frac{ab^2d/p^{n+3}}{p})=(\\frac{ad/p^{2}}{p})=1.$ Hence\n",
    "$$c_p =\\left\\{ \\begin{array}{cl}4 & \\text{if }(\\frac{ad/p^{2}}{p})=1  \\\\ 2 & \\text{if } (\\frac{ad/p^{2}}{p})=-1 .\\end{array}\\right. $$"
   ]
  },
  {
   "cell_type": "markdown",
   "metadata": {
    "collapsed": false
   },
   "source": [
    "**Subcase 2b.** Suppose $n=2v_p(b)-2\\geq2,v_p(a)=1,v_p(d)=0$. In particular, $v_p(b)\\geq2$. Next, consider the Weierstrass model $F_{25}$. Observe that we have the following valuations on the Weierstrass coefficients and invariants $c_4,c_6$, and discriminant $\\Delta$."
   ]
  },
  {
   "cell_type": "code",
   "execution_count": 8,
   "metadata": {
    "collapsed": false
   },
   "outputs": [
    {
     "name": "stdout",
     "output_type": "stream",
     "text": [
      "c4\n",
      "(16) * (3*b^2*d + a^2)\n",
      "c6\n",
      "(-64) * a * (9*b^2*d - a^2)\n",
      "Disc\n",
      "(64) * d * b^2 * (b^2*d - a^2)^2\n",
      "a1\n",
      "(2) * a\n",
      "a2\n",
      "(-1) * a * (a + 1)\n",
      "a3\n",
      "(2) * a * b^2\n",
      "a4\n",
      "(-1) * b^2 * (2*a^2 + d)\n",
      "a6\n",
      "a * b^2 * (-a*b^2 + d)\n"
     ]
    }
   ],
   "source": [
    "vals(F25)"
   ]
  },
  {
   "cell_type": "markdown",
   "metadata": {
    "collapsed": false
   },
   "source": [
    "<span style=\"color:blue\">\n",
    "Observe that our assumptions imply that\n",
    "$$(v_p(c_4),v_p(c_6),v_p(\\Delta))=(2,3,4+2v_p(b)).$$\n",
    "By Papadopoulos Table I and II, we have that $E_T$ has Neron type I$_n^{*}$ with $n=v_p(\\Delta)-6=2v_p(b)-2$.\n",
    "Next, observe that\n",
    "$$(v_p(a_1),v_p(a_2),v_p(a_3),v_p(a_4),v_p(a_6))=(1,1,1+2v_p(b),2v_p(b),1+2v_p(b))=(1,1,n+3,n+2,n+3).$$\n",
    "Consequently, Lemma 2.1 applies and we use it to compute the Tamagawa number. Since $n$ is even, we note that\n",
    "$$a_{2,1}t^2+a_{4,\\frac{n+4}{2}}t+a_{6,n+3} \\equiv \\frac{-a(a+1)}{p}t^2 + \\frac{ab^2(d-ab^2)}{p^{n+3}} \\mod p.$$\n",
    "This factors over $\\mathbb{F}_p$ if and only if $$(\\frac{4a^2b^2d(a+1)/p^{n+4}}{p})=(\\frac{(a+1)d}{p})=(\\frac{d}{p})=1.$$ For the second to last equality, we note that $\\frac{4a^2b^2}{p^{n+4}}$ is a perfect square. Hence\n",
    "$$c_p =\\left\\{ \\begin{array}{cl}4 & \\text{if }(\\frac{d}{p})=1  \\\\ 2 & \\text{if } (\\frac{d}{p})=-1 .\\end{array}\\right. $$"
   ]
  },
  {
   "cell_type": "markdown",
   "metadata": {
    "collapsed": false
   },
   "source": [
    "**Subcase 2c.** Suppose $n=2v_p(b^2d-a^2)-4\\geq2,v_p(a)=v_p(b)=1,v_p(d)=0$. In particular, $v_p(b^2d-a^2)\\geq3$."
   ]
  },
  {
   "cell_type": "code",
   "execution_count": 6,
   "metadata": {
    "collapsed": false
   },
   "outputs": [
    {
     "name": "stdout",
     "output_type": "stream",
     "text": [
      "c4\n",
      "(16) * (3*b^2*d + a^2)\n",
      "c6\n",
      "(-64) * a * (9*b^2*d - a^2)\n",
      "Disc\n",
      "(64) * d * b^2 * (b^2*d - a^2)^2\n",
      "a1\n",
      "(2) * p^-1 * (b^2*d - a^2)\n",
      "a2\n",
      "(-1) * p^-2 * (b^4*d^2 - 2*a^2*b^2*d - 3*b^2*p^2*d + a^4 + 3*a^2*p^2 - 2*a*p^2)\n",
      "a3\n",
      "(2) * p * (b^2*d - a^2)\n",
      "a4\n",
      "(b^2*d - a^2) * (b^2*d - a^2 + 4*a - 1)\n",
      "a6\n",
      "(b^2*d - a^2 - p^2 + 2*a - 1) * (b^2*d - a^2)^2\n"
     ]
    }
   ],
   "source": [
    "vals(F26)"
   ]
  },
  {
   "cell_type": "markdown",
   "metadata": {
    "collapsed": false
   },
   "source": [
    "<span style=\"color:blue\">\n",
    "Observe that our assumptions imply that\n",
    "$$(v_p(c_4),v_p(c_6),v_p(\\Delta))=(2,3,2+2v_p(b^2d-a^2)).$$\n",
    "Indeed, let $b^2d-a^2=p^3l$ for some integer $l$. Then\n",
    "$$3b^2d+a^2 = 3(p^3l+a^2)+a^2 = 3p^3l+4a^2\\text{ and } 9b^2d-a^2 = 9(p^3l+a^2)-a^2 = 9p^3l + 8a^2.$$\n",
    "This verifies that $v_p(c_4)$ and $v_p(c_6)$ are as given since $v_p(a)=1$. By Papadopoulos Table I and II, we have that $E_T$ has Neron type I$_n^{*}$ with $n=v_p(\\Delta)-6=2v_p(b^2d-a^2)-4$.\n",
    "We note that the computation box below verifies that\n",
    "$$a_2=-\\frac{(b^2d-a^2)^2}{p^2} + 3(b^2d-a^2) + 2a \\equiv 2a \\mod p^2.$$\n",
    "By this, and inspection we deduce that\n",
    "$$(v_p(a_1),v_p(a_2),v_p(a_3),v_p(a_4),v_p(a_6))=(v_p(b^2d-a^2)-1,1,1+v_p(b^2d-a^2),v_p(b^2d-a^2),2v_p(b^d-a^2))=(\\geq2,1,\\frac{n+6}{2},\\frac{n+4}{2},n+4).$$\n",
    "Consequently, Lemma 2.1 applies and we use it to compute the Tamagawa number. Since $n$ is even, we note that\n",
    "$$a_{2,1}t^2+a_{4,\\frac{n+4}{2}}t+a_{6,n+3} \\equiv t(a_{2,1}t+a_{4,\\frac{n+4}{2}}) \\mod p.$$\n",
    "In particular, $c_p=4$."
   ]
  },
  {
   "cell_type": "code",
   "execution_count": 47,
   "metadata": {
    "collapsed": false
   },
   "outputs": [
    {
     "name": "stdout",
     "output_type": "stream",
     "text": [
      "True\n"
     ]
    }
   ],
   "source": [
    "print(K.a2() == -((b^2*d-a^2)^2/p^2 - (3*b^2*d - 3*a^2 + 2*a)))"
   ]
  },
  {
   "cell_type": "code",
   "execution_count": 12,
   "metadata": {
    "collapsed": false
   },
   "outputs": [
    {
     "data": {
      "text/plain": [
       "Local data at Principal ideal (3) of Integer Ring:\n",
       "Reduction type: bad additive\n",
       "Local minimal model: Elliptic Curve defined by y^2 = x^3 - 174*x - 308 over Rational Field\n",
       "Minimal discriminant valuation: 7\n",
       "Conductor exponent: 2\n",
       "Kodaira Symbol: I1*\n",
       "Tamagawa Number: 4"
      ]
     },
     "execution_count": 12,
     "metadata": {
     },
     "output_type": "execute_result"
    }
   ],
   "source": [
    "E(3*7,3,3).change_ring(QQ).local_data(3)"
   ]
  },
  {
   "cell_type": "code",
   "execution_count": 0,
   "metadata": {
    "collapsed": false
   },
   "outputs": [
   ],
   "source": [
   ]
  }
 ],
 "metadata": {
  "kernelspec": {
   "display_name": "SageMath 9.1",
   "language": "sagemath",
   "metadata": {
    "cocalc": {
     "description": "Open-source mathematical software system",
     "priority": 10,
     "url": "https://www.sagemath.org/"
    }
   },
   "name": "sage-9.1",
   "resource_dir": "/ext/jupyter/kernels/sage-9.1"
  },
  "language_info": {
   "codemirror_mode": {
    "name": "ipython",
    "version": 3
   },
   "file_extension": ".py",
   "mimetype": "text/x-python",
   "name": "python",
   "nbconvert_exporter": "python",
   "pygments_lexer": "ipython3",
   "version": "3.7.3"
  }
 },
 "nbformat": 4,
 "nbformat_minor": 4
}