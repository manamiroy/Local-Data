{
 "cells": [
  {
   "cell_type": "code",
   "execution_count": 2,
   "metadata": {
    "collapsed": false
   },
   "outputs": [
   ],
   "source": [
    "from sage.schemes.elliptic_curves.weierstrass_morphism import *\n",
    "S.<a,b,p,l,u,v,c,d,k>=QQ[]"
   ]
  },
  {
   "cell_type": "markdown",
   "metadata": {
    "collapsed": false
   },
   "source": [
    "Here $Ei$ is the elliptic curve whose torsion subgroup contains $C_i$ for $i=5,7,10$. For all these cases the local data follows from the Papadopolous paper once we compute the triplet $(v_p(c_4),v_p(c_6),v_p(\\Delta))$."
   ]
  },
  {
   "cell_type": "code",
   "execution_count": 8,
   "metadata": {
    "collapsed": false
   },
   "outputs": [
   ],
   "source": [
    "def E5(a,b):\n",
    "    return EllipticCurve(S.fraction_field(),[a-b,-a*b,-a^2*b,0,0])\n",
    "def F5(a,b):\n",
    "    return E5(a,b).change_ring(QQ)\n",
    "def E7(a,b):\n",
    "    return EllipticCurve(S.fraction_field(),[a^2 + a*b - b^2, a^2*b^2 - a*b^3, a^4*b^2 - a^3*b^3, 0, 0])\n",
    "def F7(a,b):\n",
    "    return E7(a,b).change_ring(QQ)\n",
    "def E10(a,b):\n",
    "    return EllipticCurve(S.fraction_field(),[a^3 - 2*a^2*b - 2*a*b^2 + 2*b^3, -a^3*b^3 + 3*a^2*b^4 - 2*a*b^5, -a^6*b^3 + 6*a^5*b^4 - 12*a^4*b^5 + 9*a^3*b^6 - 2*a^2*b^7, 0, 0])\n",
    "def F10(a,b):\n",
    "    return E10(a,b).change_ring(QQ)\n",
    "def vp(n,p):\n",
    "    try:\n",
    "        log(1/Qp(p)(n).abs(),p)\n",
    "    except ZeroDivisionError:\n",
    "            return 'inf'\n",
    "    else:\n",
    "        return log(1/Qp(p)(n).abs(),p)\n",
    "\treturn log(1/Qp(p)(n).abs(),p)\n",
    "def PolyMod(f,n): ##Reduces a polynomial mod n\n",
    "    R = IntegerModRing(n)\n",
    "    S.<a,b,p,l,u,v,c,d,r,s,t,k,x,y>=R[]\n",
    "    return S(f)\n",
    "def PolyModFactor(f,p): ## p must be a prime since this uses the fact that F[x] is a UFD\n",
    "\tR=GF(p)   ##Finite field of p elements. A.k.a the ring Z/pZ\n",
    "\tS.<a,b,p,l,u,v,c,d,r,s,t,k,x,y>=R[];S\n",
    "\treturn factor(S(f))"
   ]
  },
  {
   "cell_type": "markdown",
   "metadata": {
    "collapsed": false
   },
   "source": [
    "For $T=C_5$ we have Type II and Type III"
   ]
  },
  {
   "cell_type": "code",
   "execution_count": 20,
   "metadata": {
    "collapsed": false
   },
   "outputs": [
    {
     "name": "stdout",
     "output_type": "stream",
     "text": [
      "(5) * (7949*b^4 - 12180*b^3*k + 6550*b^2*k^2 - 1500*b*k^3 + 125*k^4)\n",
      "(-5) * (65*b^2 - 36*b*k + 5*k^2) * (24301*b^4 - 42570*b^3*k + 26150*b^2*k^2 - 6750*b*k^3 + 625*k^4)\n",
      "(-25) * (-18*b + 5*k)^5 * b^5 * (5*b^2 - 5*b*k + k^2)\n"
     ]
    }
   ],
   "source": [
    "##\n",
    "## We have v5(a+18b)>=1.\n",
    "\n",
    "A=(5*k-18*b)\n",
    "#A=5*k-3*b\n",
    "#B=b\n",
    "print(factor(E5(A,B).c4())) ##v5=1\n",
    "print(factor(E5(A,B).c6())) ##v5 = 1+ v5(65*b^2 - 36*b*k + 5*k^2)= 1 if v5(k)=0 or >=2 if v5(k)>=1\n",
    "print(factor(E5(A,b).discriminant())) ##v5 = 2+ v5(5*b^2 - 5*b*k + k^2) = 2 if v5(k)=0 or 3 if v5(k)>=1\n",
    "\n",
    "#factor(E5(a,b).c4())\n",
    "#factor(E5(a,b).c6()) \n",
    "#factor(E5(a,b).discriminant())"
   ]
  },
  {
   "cell_type": "code",
   "execution_count": 21,
   "metadata": {
    "collapsed": false
   },
   "outputs": [
    {
     "name": "stdout",
     "output_type": "stream",
     "text": [
      "(-1) * b * (-2*b + k)\n",
      "k^2\n",
      "(a + 2*b) * (a - 2*b)\n"
     ]
    }
   ],
   "source": [
    "print(PolyModFactor((2*b^2 - 6*b*k + 5*k^2),5))\n",
    "print(PolyModFactor((-b^2 + b*k + k^2),5))\n",
    "print(PolyModFactor(a^2+b^2,5))"
   ]
  },
  {
   "cell_type": "code",
   "execution_count": 26,
   "metadata": {
    "collapsed": false
   },
   "outputs": [
    {
     "name": "stdout",
     "output_type": "stream",
     "text": [
      "[1, 1, 2]\n"
     ]
    }
   ],
   "source": [
    "k1=3\n",
    "b1=3\n",
    "A1=(5*k1-18*b1)\n",
    "B1=b1\n",
    "P=5\n",
    "F5(A1,B1).local_data(P)\n",
    "#[vp(F5(A1,B1).a1(),P),vp(F5(A1,B1).a2(),P),vp(F5(A1,B1).a3(),P), vp(F5(A1,B1).a4(),P), vp(F5(A1,B1).a6(),P)]\n",
    "print([vp(F5(A1,B1).c4(),P),vp(F5(A1,B1).c6(),P),vp(F5(A1,B1).discriminant(),P)])"
   ]
  },
  {
   "cell_type": "markdown",
   "metadata": {
    "collapsed": false
   },
   "source": [
    "For $T=C_7$ we have Type II"
   ]
  },
  {
   "cell_type": "code",
   "execution_count": 0,
   "metadata": {
    "collapsed": false
   },
   "outputs": [
   ],
   "source": [
    "\n",
    "## We have v7(a+4b)>=1.\n",
    "A=7*k-4*b, v7(k)>=0.\n",
    "B=b\n",
    "factor(E7(A,B).c4()) ## v7 = 1\n",
    "factor(E7(A,B).c6())  ## v7 = 1\n",
    "factor(E7(A,B).discriminant()) ## v7 = 2\n",
    "\n",
    "#factor(E7(a,b).c4())  ## v7>= 1\n",
    "#factor(E7(a,b).c6())  ## v7 = 1\n",
    "#factor(E7(a,b).discriminant()) ## v7 = 2"
   ]
  },
  {
   "cell_type": "code",
   "execution_count": 0,
   "metadata": {
    "collapsed": false
   },
   "outputs": [
   ],
   "source": [
    "k2=5\n",
    "b2=9\n",
    "A1=7*k2-4*b2\n",
    "B1=b2\n",
    "P=7\n",
    "F7(A1,B1).local_data(P)\n",
    "#[vp(F7(A1,B1).a1(),P),vp(F7(A1,B1).a2(),P),vp(F7(A1,B1).a3(),P), vp(F7(A1,B1).a4(),P), vp(F7(A1,B1).a6(),P)]\n",
    "[vp(F7(A1,B1).c4(),P),vp(F7(A1,B1).c6(),P),vp(F7(A1,B1).discriminant(),P)]"
   ]
  },
  {
   "cell_type": "markdown",
   "metadata": {
    "collapsed": false
   },
   "source": [
    "For $T=C_{10}$ we have Type III"
   ]
  },
  {
   "cell_type": "code",
   "execution_count": 0,
   "metadata": {
    "collapsed": false
   },
   "outputs": [
   ],
   "source": [
    "## We have v5(a+b)>=1.\n",
    "\n",
    "A=5*k-b, vk=5(k)>=0.\n",
    "B=b\n",
    "factor(E10(A,B).c4())## v5 = 1\n",
    "factor(E10(A,B).c6()) ## v5 >=2\n",
    "factor(E10(A,B).discriminant()) ##v5 = 3\n",
    "\n",
    "#factor(E10(a,b).c4())  \n",
    "#factor(E10(a,b).c6()) \n",
    "#factor(E10(a,b).discriminant())"
   ]
  },
  {
   "cell_type": "code",
   "execution_count": 0,
   "metadata": {
    "collapsed": false
   },
   "outputs": [
   ],
   "source": [
    "A1=7\n",
    "B1=3\n",
    "P=5\n",
    "F10(A1,B1).local_data(P)\n",
    "#[vp(F10(A1,B1).a1(),P),vp(F10(A1,B1).a2(),P),vp(F10(A1,B1).a3(),P), vp(F10(A1,B1).a4(),P), vp(F10(A1,B1).a6(),P)]\n",
    "[vp(F10(A1,B1).c4(),P),vp(F10(A1,B1).c6(),P),vp(F10(A1,B1).discriminant(),P)]"
   ]
  },
  {
   "cell_type": "code",
   "execution_count": 0,
   "metadata": {
    "collapsed": false
   },
   "outputs": [
   ],
   "source": [
   ]
  },
  {
   "cell_type": "code",
   "execution_count": 0,
   "metadata": {
    "collapsed": false
   },
   "outputs": [
   ],
   "source": [
   ]
  }
 ],
 "metadata": {
  "kernelspec": {
   "display_name": "SageMath (system-wide)",
   "language": "sagemath",
   "metadata": {
    "cocalc": {
     "description": "Open-source mathematical software system",
     "priority": -1,
     "url": "https://www.sagemath.org/"
    }
   },
   "name": "sagemath",
   "resource_dir": "/ext/jupyter/kernels/sagemath"
  },
  "language_info": {
   "codemirror_mode": {
    "name": "ipython",
    "version": 2
   },
   "file_extension": ".py",
   "mimetype": "text/x-python",
   "name": "python",
   "nbconvert_exporter": "python",
   "pygments_lexer": "ipython2",
   "version": "2.7.12+"
  }
 },
 "nbformat": 4,
 "nbformat_minor": 4
}