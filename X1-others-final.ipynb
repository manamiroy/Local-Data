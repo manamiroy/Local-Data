{
 "cells": [
  {
   "cell_type": "code",
   "execution_count": 13,
   "metadata": {
    "collapsed": false
   },
   "outputs": [
   ],
   "source": [
    "from sage.schemes.elliptic_curves.weierstrass_morphism import *\n",
    "S.<a,b,p,l,u,v,c,d,k>=QQ[]"
   ]
  },
  {
   "cell_type": "markdown",
   "metadata": {
    "collapsed": false
   },
   "source": [
    "The curve $Ei(a,b)$ corresponds to $E_{C_{i}}=E_{C_{i}}(a,b)$ in the paper for $i=5,7,8,9,10,12$. "
   ]
  },
  {
   "cell_type": "code",
   "execution_count": 58,
   "metadata": {
    "collapsed": false
   },
   "outputs": [
   ],
   "source": [
    "def E5(a,b):\n",
    "    return EllipticCurve(S.fraction_field(),[a-b,-a*b,-a^2*b,0,0])\n",
    "def F5(a,b):\n",
    "    return E5(a,b).change_ring(QQ)\n",
    "def E7(a,b):\n",
    "    return EllipticCurve(S.fraction_field(),[a^2 + a*b - b^2, a^2*b^2 - a*b^3, a^4*b^2 - a^3*b^3, 0, 0])\n",
    "def F7(a,b):\n",
    "    return E7(a,b).change_ring(QQ)\n",
    "def E8(a,b):\n",
    "    return EllipticCurve(S.fraction_field(),[-a^2 + 4*a*b - 2*b^2, -a^2*b^2 + 3*a*b^3 - 2*b^4, -a^3*b^3 + 3*a^2*b^4 - 2*a*b^5, 0, 0])\n",
    "def F8(a,b):\n",
    "    return E8(a,b).change_ring(QQ)\n",
    "def E9(a,b):\n",
    "    return EllipticCurve(S.fraction_field(),[a^3 + a*b^2 - b^3, a^4*b^2 - 2*a^3*b^3 + 2*a^2*b^4 - a*b^5, a^7*b^2 - 2*a^6*b^3 + 2*a^5*b^4 - a^4*b^5, 0, 0])\n",
    "def F9(a,b):\n",
    "     return E9(a,b).change_ring(QQ)\n",
    "def E10(a,b):\n",
    "    return EllipticCurve(S.fraction_field(),[a^3 - 2*a^2*b - 2*a*b^2 + 2*b^3, -a^3*b^3 + 3*a^2*b^4 - 2*a*b^5, -a^6*b^3 + 6*a^5*b^4 - 12*a^4*b^5 + 9*a^3*b^6 - 2*a^2*b^7, 0, 0])\n",
    "def F10(a,b):\n",
    "    return E10(a,b).change_ring(QQ)\n",
    "def E12(a,b):\n",
    "    return EllipticCurve(S.fraction_field(),[-a^4 + 2*a^3*b + 2*a^2*b^2 - 8*a*b^3 + 6*b^4, a^7*b - 9*a^6*b^2 + 36*a^5*b^3 - 83*a^4*b^4 + 119*a^3*b^5 - 106*a^2*b^6 + 54*a*b^7 - 12*b^8, -a^11*b + 12*a^10*b^2 - 66*a^9*b^3 + 219*a^8*b^4 - 485*a^7*b^5 + 748*a^6*b^6 - 812*a^5*b^7 + 611*a^4*b^8 - 304*a^3*b^9 + 90*a^2*b^10 - 12*a*b^11, 0, 0])\n",
    "def F12(a,b):\n",
    "    return E(a,b).change_ring(QQ)\n",
    "def vp(n,p):\n",
    "    try:\n",
    "        log(1/Qp(p)(n).abs(),p)\n",
    "    except ZeroDivisionError:\n",
    "            return 'inf'\n",
    "    else:\n",
    "        return log(1/Qp(p)(n).abs(),p)\n",
    "\treturn log(1/Qp(p)(n).abs(),p)\n",
    "def PolyMod(f,n): ##Reduces a polynomial mod n\n",
    "    R = IntegerModRing(n)\n",
    "    S.<a,b,p,l,u,v,c,d,r,s,t,k,x,y>=R[]\n",
    "    return S(f)\n",
    "def PolyModFactor(f,p): ## p must be a prime since this uses the fact that F[x] is a UFD\n",
    "\tR=GF(p)   ##Finite field of p elements. A.k.a the ring Z/pZ\n",
    "\tS.<a,b,p,l,u,v,c,d,r,s,t,k,x,y>=R[];S\n",
    "\treturn factor(S(f))"
   ]
  },
  {
   "cell_type": "markdown",
   "metadata": {
    "collapsed": false
   },
   "source": [
    "**Case I:** First we consider the cases when $T=C_i$ for i=5,7,9. For all these cases the local data follows from Papadopolous[Pap93] paper once we compute the triplet $(v_p(c_4),v_p(c_6),v_p(\\Delta))$. Here we show the computation of $(v_p(c_4),v_p(c_6),v_p(\\Delta))$."
   ]
  },
  {
   "cell_type": "markdown",
   "metadata": {
    "collapsed": false
   },
   "source": [
    "Consider $T=C_5$ and show the possible Néron types at $5$ are type II and type III. We know that the curve $E_T$ has additive reduction at $5$ if $v_5(a+18b)\\ge1$. We let $a+18b=5k$ such that $v_5(k)\\ge 0$. "
   ]
  },
  {
   "cell_type": "code",
   "execution_count": 51,
   "metadata": {
    "collapsed": false
   },
   "outputs": [
    {
     "name": "stdout",
     "output_type": "stream",
     "text": [
      "c4\n",
      "(5) * (7949*b^4 - 12180*b^3*k + 6550*b^2*k^2 - 1500*b*k^3 + 125*k^4)\n",
      "c6\n",
      "(-5) * (65*b^2 - 36*b*k + 5*k^2) * (24301*b^4 - 42570*b^3*k + 26150*b^2*k^2 - 6750*b*k^3 + 625*k^4)\n",
      "Disc\n",
      "(-25) * (-18*b + 5*k)^5 * b^5 * (5*b^2 - 5*b*k + k^2)\n"
     ]
    }
   ],
   "source": [
    "A=(5*k-18*b)\n",
    "print(\"c4\") \n",
    "print(factor(E5(A,b).c4()))\n",
    "print(\"c6\") \n",
    "print(factor(E5(A,b).c6())) \n",
    "print(\"Disc\") \n",
    "print(factor(E5(A,b).discriminant())) "
   ]
  },
  {
   "cell_type": "markdown",
   "metadata": {
    "collapsed": false
   },
   "source": [
    "We see that $$v_5(c_4)=1,\\ v_5(c_6)=1+ v_5(65b^2 - 36bk + 5k^2),\\ v_5(\\Delta) = 2+ v_5(5b^2 - 5bk + k^2)$$\n",
    "If $v_5(a+18b)\\ge 2$ i.e. $v_5(k)\\ge 1$ then $$(v_5(c_4),v_5(c_6),v_5(\\Delta))=(1,\\geq2,3).$$\n",
    "If $v_5(a+18b)=1$, i.e., $v_5(k)=0$ then $$(v_5(c_4),v_5(c_6),v_5(\\Delta))=(1,1,2).$$  Hence we get the local data of $E_{C_{5}}$ as proven in Theorem 3.8 of the paper.\n",
    "--"
   ]
  },
  {
   "cell_type": "markdown",
   "metadata": {
    "collapsed": false
   },
   "source": [
    "Next Consider $T=C_7$, where we have Nèron type II at $7$. We know that the curve $E_T$ has additive reduction at $7$ if $v_7(a+4b)\\ge1$. We let $a+4b=7k$ such that $v_5(k)\\ge 0$. "
   ]
  },
  {
   "cell_type": "code",
   "execution_count": 50,
   "metadata": {
    "collapsed": false
   },
   "outputs": [
    {
     "name": "stdout",
     "output_type": "stream",
     "text": [
      "c4\n",
      "(-7) * (3*b^2 - 9*b*k + 7*k^2) * (2099*b^6 - 12915*b^5*k + 5390*b^4*k^2 + 114905*b^3*k^3 - 312130*b^2*k^4 + 319333*b*k^5 - 117649*k^6)\n",
      "c6\n",
      "(-7) * (681183*b^12 - 570906*b^11*k - 57808485*b^10*k^2 + 415008734*b^9*k^3 - 1123711218*b^8*k^4 + 143296482*b^7*k^5 + 7924718991*b^6*k^6 - 26025605886*b^5*k^7 + 44792503770*b^4*k^8 - 47536549046*b^3*k^9 + 31354752639*b^2*k^10 - 11863960458*b*k^11 + 1977326743*k^12)\n",
      "Disc\n"
     ]
    },
    {
     "data": {
      "text/plain": [
       "(-49) * (-5*b + 7*k)^7 * (-4*b + 7*k)^7 * b^7 * (b^3 - 7*b*k^2 + 7*k^3)"
      ]
     },
     "execution_count": 50,
     "metadata": {
     },
     "output_type": "execute_result"
    }
   ],
   "source": [
    "A=7*k-4*b\n",
    "print(\"c4\") \n",
    "print(factor(E7(A,b).c4()))\n",
    "print(\"c6\") \n",
    "print(factor(E7(A,b).c6()))\n",
    "print(\"Disc\") \n",
    "factor(E7(A,b).discriminant())"
   ]
  },
  {
   "cell_type": "code",
   "execution_count": 57,
   "metadata": {
    "collapsed": false
   },
   "outputs": [
    {
     "name": "stdout",
     "output_type": "stream",
     "text": [
      "6*b^6\n"
     ]
    },
    {
     "data": {
      "text/plain": [
       "6*b^12"
      ]
     },
     "execution_count": 57,
     "metadata": {
     },
     "output_type": "execute_result"
    }
   ],
   "source": [
    "print(PolyMod(2099*b^6 - 12915*b^5*k + 5390*b^4*k^2 + 114905*b^3*k^3 - 312130*b^2*k^4 + 319333*b*k^5 - 117649*k^6,7))\n",
    "\n",
    "PolyMod(681183*b^12 - 570906*b^11*k - 57808485*b^10*k^2 + 415008734*b^9*k^3 - 1123711218*b^8*k^4 + 143296482*b^7*k^5 + 7924718991*b^6*k^6 - 26025605886*b^5*k^7 + 44792503770*b^4*k^8 - 47536549046*b^3*k^9 + 31354752639*b^2*k^10 - 11863960458*b*k^11 + 1977326743*k^12,7)"
   ]
  },
  {
   "cell_type": "markdown",
   "metadata": {
    "collapsed": false
   },
   "source": [
    "From above computation we see that $$v_7(c_4)=1+v_7(3b^2 - 9bk + 7k^2),\\ v_7(c_6)=1,\\ v_7(\\Delta) = 2$$\n",
    "Hence $$(v_7(c_4),v_7(c_6),v_7(\\Delta))=(\\ge1,1,2).$$  Hence we get the local data of $E_{C_{7}}$ as proven in Theorem 3.8 of the paper.\n",
    "--"
   ]
  },
  {
   "cell_type": "markdown",
   "metadata": {
    "collapsed": false
   },
   "source": [
    "Next Consider $T=C_{10}$, where we have Nèron type III at $5$. We know that the curve $E_T$ has additive reduction at $5$ if $v_5(a+b)\\ge1$. We let $a+b=5k$ such that $v_5(k)\\ge 0$."
   ]
  },
  {
   "cell_type": "code",
   "execution_count": 53,
   "metadata": {
    "collapsed": false
   },
   "outputs": [
    {
     "name": "stdout",
     "output_type": "stream",
     "text": [
      "c4\n",
      "(5) * (269*b^12 - 860*b^11*k - 50350*b^10*k^2 + 677500*b^9*k^3 - 4018125*b^8*k^4 + 12675000*b^7*k^5 - 16812500*b^6*k^6 - 24375000*b^5*k^7 + 151171875*b^4*k^8 - 304687500*b^3*k^9 + 332031250*b^2*k^10 - 195312500*b*k^11 + 48828125*k^12)\n",
      "c6\n",
      "(-25) * (b^2 - 4*b*k + 5*k^2) * (b^4 - 10*b^3*k + 60*b^2*k^2 - 150*b*k^3 + 125*k^4) * (19*b^4 - 70*b^3*k - 150*b^2*k^2 + 750*b*k^3 - 625*k^4) * (499*b^8 - 7590*b^7*k + 44350*b^6*k^2 - 111750*b^5*k^3 + 28750*b^4*k^4 + 493750*b^3*k^5 - 1156250*b^2*k^6 + 1093750*b*k^7 - 390625*k^8)\n",
      "disc\n"
     ]
    },
    {
     "data": {
      "text/plain": [
       "(125) * (-3*b + 5*k)^5 * (-b + 5*k)^5 * (-2*b + 5*k)^10 * b^10 * (-b^2 + 5*k^2) * (b^2 - 5*b*k + 5*k^2)^2"
      ]
     },
     "execution_count": 53,
     "metadata": {
     },
     "output_type": "execute_result"
    }
   ],
   "source": [
    "A=5*k-b\n",
    "print(\"c4\") \n",
    "print(factor(E10(A,B).c4()))\n",
    "print(\"c6\") \n",
    "print(factor(E10(A,B).c6()))\n",
    "print(\"disc\") \n",
    "factor(E10(A,B).discriminant())"
   ]
  },
  {
   "cell_type": "code",
   "execution_count": 56,
   "metadata": {
    "collapsed": false
   },
   "outputs": [
    {
     "name": "stdout",
     "output_type": "stream",
     "text": [
      "4*b^12\n"
     ]
    },
    {
     "data": {
      "text/plain": [
       "b^16"
      ]
     },
     "execution_count": 56,
     "metadata": {
     },
     "output_type": "execute_result"
    }
   ],
   "source": [
    "print(PolyMod((269*b^12 - 860*b^11*k - 50350*b^10*k^2 + 677500*b^9*k^3 - 4018125*b^8*k^4 + 12675000*b^7*k^5 - 16812500*b^6*k^6 - 24375000*b^5*k^7 + 151171875*b^4*k^8 - 304687500*b^3*k^9 + 332031250*b^2*k^10 - 195312500*b*k^11 + 48828125*k^12),5))\n",
    "\n",
    "PolyMod((b^4 - 10*b^3*k + 60*b^2*k^2 - 150*b*k^3 + 125*k^4) * (19*b^4 - 70*b^3*k - 150*b^2*k^2 + 750*b*k^3 - 625*k^4) * (499*b^8 - 7590*b^7*k + 44350*b^6*k^2 - 111750*b^5*k^3 + 28750*b^4*k^4 + 493750*b^3*k^5 - 1156250*b^2*k^6 + 1093750*b*k^7 - 390625*k^8),5)"
   ]
  },
  {
   "cell_type": "markdown",
   "metadata": {
    "collapsed": false
   },
   "source": [
    "From the above compuation we see that $$v_5(c_4)=1,\\ v_5(c_6)=1+ v_5(b^2 - 4bk + 5k^2),\\ v_5(\\Delta) = 3$$\n",
    "Then $$(v_5(c_4),v_5(c_6),v_5(\\Delta))=(1,\\ge 2,3).$$ Hence we get the local data of $E_{C_{10}}$ as proven in Theorem 3.8 of the paper.\n",
    "--"
   ]
  },
  {
   "cell_type": "markdown",
   "metadata": {
    "collapsed": false
   },
   "source": [
    "**Case II:** We consider $T=C_8$, this is case 2 in the proof of Theorem 3.8. We know that the curve $E_T$ has additive reduction at $2$ if $v_2(a)\\ge2$. We let $a+b=5k$ such that $v_5(k)\\ge 0$."
   ]
  },
  {
   "cell_type": "code",
   "execution_count": 0,
   "metadata": {
    "collapsed": false
   },
   "outputs": [
   ],
   "source": [
   ]
  },
  {
   "cell_type": "code",
   "execution_count": 0,
   "metadata": {
    "collapsed": false
   },
   "outputs": [
   ],
   "source": [
   ]
  },
  {
   "cell_type": "code",
   "execution_count": 0,
   "metadata": {
    "collapsed": false
   },
   "outputs": [
   ],
   "source": [
   ]
  },
  {
   "cell_type": "code",
   "execution_count": 0,
   "metadata": {
    "collapsed": false
   },
   "outputs": [
   ],
   "source": [
   ]
  },
  {
   "cell_type": "code",
   "execution_count": 0,
   "metadata": {
    "collapsed": false
   },
   "outputs": [
   ],
   "source": [
   ]
  },
  {
   "cell_type": "code",
   "execution_count": 0,
   "metadata": {
    "collapsed": false
   },
   "outputs": [
   ],
   "source": [
   ]
  },
  {
   "cell_type": "code",
   "execution_count": 0,
   "metadata": {
    "collapsed": false
   },
   "outputs": [
   ],
   "source": [
    "\n"
   ]
  },
  {
   "cell_type": "code",
   "execution_count": 0,
   "metadata": {
    "collapsed": false
   },
   "outputs": [
   ],
   "source": [
   ]
  },
  {
   "cell_type": "code",
   "execution_count": 0,
   "metadata": {
    "collapsed": false
   },
   "outputs": [
   ],
   "source": [
   ]
  }
 ],
 "metadata": {
  "kernelspec": {
   "display_name": "SageMath (system-wide)",
   "language": "sagemath",
   "metadata": {
    "cocalc": {
     "description": "Open-source mathematical software system",
     "priority": -1,
     "url": "https://www.sagemath.org/"
    }
   },
   "name": "sagemath",
   "resource_dir": "/ext/jupyter/kernels/sagemath"
  },
  "language_info": {
   "codemirror_mode": {
    "name": "ipython",
    "version": 2
   },
   "file_extension": ".py",
   "mimetype": "text/x-python",
   "name": "python",
   "nbconvert_exporter": "python",
   "pygments_lexer": "ipython2",
   "version": "2.7.15"
  }
 },
 "nbformat": 4,
 "nbformat_minor": 4
}