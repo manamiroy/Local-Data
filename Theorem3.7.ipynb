{
 "cells": [
  {
   "cell_type": "code",
   "execution_count": 4,
   "metadata": {
    "collapsed": false
   },
   "outputs": [
   ],
   "source": [
    "from sage.schemes.elliptic_curves.weierstrass_morphism import *\n",
    "S.<a,b,p,l,k,u,v,c,d,r,s,t,x,y>=QQ[]"
   ]
  },
  {
   "cell_type": "code",
   "execution_count": 50,
   "metadata": {
    "collapsed": false
   },
   "outputs": [
   ],
   "source": [
    "def E22(a,b,d):\n",
    "\tA=a*d\n",
    "\tB=b*d\n",
    "\treturn EllipticCurve(S.fraction_field(),[0,A+B,0,A*B,0])\n",
    "def F22(a,b,d):\n",
    "    return E22(a,b,d).change_ring(QQ)\n",
    "def vp(n,p):\n",
    "\treturn log(1/Qp(p)(n).abs(),p)\n",
    "def PolyMod(f,n): ##Reduces a polynomial mod n\n",
    "    R = IntegerModRing(n)\n",
    "    S.<a,b,p,l,u,v,c,d,r,s,t,x,y>=R[]\n",
    "    return S(f)\n",
    "def vals(G):\n",
    "\tprint(\"c4\")\n",
    "\tprint(factor(G.c4()))\n",
    "\tprint(\"c6\")\n",
    "\tprint(factor(G.c6()))\n",
    "\tprint(\"Disc\")\n",
    "\tprint(factor(G.discriminant()))\n",
    "\tprint('a1')\n",
    "\tprint(factor(G.a1()))\n",
    "\tprint('a2')\n",
    "\tprint(factor(G.a2()))\n",
    "\tprint('a3')\n",
    "\tprint(factor(G.a3()))\n",
    "\tprint('a4')\n",
    "\tprint(factor(G.a4()))\n",
    "\tprint('a6')\n",
    "\tprint(factor(G.a6()))"
   ]
  },
  {
   "cell_type": "markdown",
   "metadata": {
    "collapsed": false
   },
   "source": [
    "The curve $E22(a,b,d)$ corresponds to $E_{C_{2}\\times C_{2}}(a,b,d)$ in Theorem 3.7 in the paper. $E_{22}$ has\n",
    "additive reduction at a prime $p$ if and only if\n",
    "\n",
    "(i) $p$ is an odd prime dividing $d$,\n",
    "\n",
    "(ii) $p=2$ with $v_{2}(a) <4$, \n",
    "\n",
    "(iii) $p=2$ with $v_{2}(a)\\ge4$ and $bd\\not \\equiv1\\ \\text{mod }4$."
   ]
  },
  {
   "cell_type": "markdown",
   "metadata": {
    "collapsed": false
   },
   "source": [
    "We consider the following change in variables for the proof, named as F1, F2, F3."
   ]
  },
  {
   "cell_type": "code",
   "execution_count": 9,
   "metadata": {
    "collapsed": false
   },
   "outputs": [
   ],
   "source": [
    "F1=E22(a,b,d).change_weierstrass_model(1,4*a^2*b^2*d^2,b^2*d,4*a^2*b^2*d^2)\n",
    "F2=E22(a,b,d).change_weierstrass_model(1,a^2*d^2-2*a*b*d^2+b^2*d^2-a*d,a^2*d-2*a*b*d+b^2*d,a^2*d^2-2*a*b*d^2+b^2*d^2)\n",
    "F3=E22(a,b,d).change_weierstrass_model(1,6,b*d,2*b*d+4)"
   ]
  },
  {
   "cell_type": "markdown",
   "metadata": {
    "collapsed": false
   },
   "source": [
    "**Case 1:** Suppose that the parameters of $E_{T}$ satisfy one of\n",
    "the conditions in (3.19) for the Nèron type $\\mathrm{III}$ or\n",
    "$\\mathrm{III}^{\\ast}$.\n",
    "\n",
    "**Subcase 1a:** $v_2(d) = 0, v_2(a) = 1$. In this we consider the Weierstrass model F1."
   ]
  },
  {
   "cell_type": "code",
   "execution_count": 51,
   "metadata": {
    "collapsed": false
   },
   "outputs": [
    {
     "name": "stdout",
     "output_type": "stream",
     "text": [
      "c4\n",
      "(16) * d^2 * (a^2 - a*b + b^2)\n",
      "c6\n",
      "(-32) * (a - 2*b) * (a + b) * (2*a - b) * d^3\n",
      "Disc\n",
      "(16) * b^2 * a^2 * (a - b)^2 * d^6\n",
      "a1\n",
      "(2) * d * b^2\n",
      "a2\n",
      "(-1) * d * (-12*a^2*b^2*d + b^4*d - a - b)\n",
      "a3\n",
      "(8) * d^2 * b^2 * a^2\n",
      "a4\n",
      "b * a * d^2 * (48*a^3*b^3*d^2 - 8*a*b^3*d + 8*a^2*b*d + 8*a*b^2*d + 1)\n",
      "a6\n",
      "(4) * b^3 * a^3 * d^4 * (16*a^3*b^3*d^2 + 4*a^2*b*d + 4*a*b^2*d - 4*a*b + 1)\n"
     ]
    }
   ],
   "source": [
    "vals(F1)"
   ]
  },
  {
   "cell_type": "markdown",
   "metadata": {
    "collapsed": false
   },
   "source": [
    "<span style=\"color:blue\"> By inspection we see\n",
    "$$(v_2(c_4),v_2(c_6), v_2(\\Delta))=(4,5 + v_2(a-2b), 6)=(4,\\ge 7, 6).$$ \n",
    "In this case we have the Nèron type ${\\rm III}$ using Papadopoulos.\n",
    "Also,\n",
    "$$(v_2(a_1), v_2(a_2), v_2(a_3),v_2(a_4),v_2(a_6))=(1,v_2(-12a^2b^2d + b^4d-a-b),5, 3,5)=(1,\\ge 1,5, 3,5)$$ \n",
    "since $-12a^2b^2d + b^4d-a-b = d - b \\mod 2 = 0 \\mod 2$. The other claimed local data when $v_2(d) = 0, v_2(a) = 1$ of Theorem 3.7 follows from the above computation."
   ]
  },
  {
   "cell_type": "markdown",
   "metadata": {
    "collapsed": false
   },
   "source": [
    "**Subcase 1b:** $v_2(d) = 0, v_2(a) = 3, bd = 1 \\mod 4$. In this we consider the Weierstrass model F3."
   ]
  },
  {
   "cell_type": "code",
   "execution_count": 52,
   "metadata": {
    "collapsed": false
   },
   "outputs": [
    {
     "name": "stdout",
     "output_type": "stream",
     "text": [
      "c4\n",
      "(16) * d^2 * (a^2 - a*b + b^2)\n",
      "c6\n",
      "(-32) * (a - 2*b) * (a + b) * (2*a - b) * d^3\n",
      "Disc\n",
      "(16) * b^2 * a^2 * (a - b)^2 * d^6\n",
      "a1\n",
      "(2) * d * b\n",
      "a2\n",
      "(-1) * (b^2*d^2 - a*d - b*d - 18)\n",
      "a3\n",
      "(4) * (b*d + 2)\n",
      "a4\n",
      "(-1) * (-a*b*d^2 + 4*b^2*d^2 - 12*a*d - 4*b*d - 108)\n",
      "a6\n",
      "(-2) * (-3*a*b*d^2 + 2*b^2*d^2 - 18*a*d - 10*b*d - 100)\n"
     ]
    }
   ],
   "source": [
    "vals(F3)"
   ]
  },
  {
   "cell_type": "markdown",
   "metadata": {
    "collapsed": false
   },
   "source": [
    "<span style=\"color:blue\">\n",
    "By inspection we see\n",
    "$$(v_2(c_4),v_2(c_6), v_2(\\Delta))=(4,6, 10).$$ \n",
    "In this case we have the Nèron type ${\\rm III}^*$ using Papadopoulos.\n",
    "Also,\n",
    "$$(v_2(a_1), v_2(a_2), v_2(a_3),v_2(a_4),v_2(a_6), v_3(\\Delta))=(1,v_2(b^2d^2 - ad - bd - 18),9, 3,11)=(1,\\ge 2,9, 3,11)$$\n",
    "since $-12a^2b^2d + b^4d - a - b = d - b \\mod 4$ and $d - b= 0 \\mod 4$ iff $bd = 1 \\mod 4$. \n",
    " The other claimed local data when $v_2(d) = 0, v_2(a) = 3$ of Theorem 3.7 follows from the above computation."
   ]
  },
  {
   "cell_type": "markdown",
   "metadata": {
    "collapsed": false
   },
   "source": [
    "**Case 2:** Suppose that the parameters of $E_{T}$ satisfy one of\n",
    "the conditions in (3.19) for the Nèron type $\\mathrm{I}_0^{\\ast}$.\n",
    "\n",
    "\n",
    "**Subcase 2a:** $p$ odd, $v_p(d)=1, v_p(ab(a-b))=0$. This is the Nèron type $\\mathrm{I}_0^{\\ast}$. In this we consider the Weierstrass model F1."
   ]
  },
  {
   "cell_type": "code",
   "execution_count": 54,
   "metadata": {
    "collapsed": false
   },
   "outputs": [
    {
     "name": "stdout",
     "output_type": "stream",
     "text": [
      "c4\n",
      "(16) * d^2 * (a^2 - a*b + b^2)\n",
      "c6\n",
      "(-32) * (a - 2*b) * (a + b) * (2*a - b) * d^3\n",
      "Disc\n",
      "(16) * b^2 * a^2 * (a - b)^2 * d^6\n",
      "a1\n",
      "(2) * d * b^2\n",
      "a2\n",
      "(-1) * d * (-12*a^2*b^2*d + b^4*d - a - b)\n",
      "a3\n",
      "(8) * d^2 * b^2 * a^2\n",
      "a4\n",
      "b * a * d^2 * (48*a^3*b^3*d^2 - 8*a*b^3*d + 8*a^2*b*d + 8*a*b^2*d + 1)\n",
      "a6\n",
      "(4) * b^3 * a^3 * d^4 * (16*a^3*b^3*d^2 + 4*a^2*b*d + 4*a*b^2*d - 4*a*b + 1)\n"
     ]
    }
   ],
   "source": [
    "vals(F1)"
   ]
  },
  {
   "cell_type": "markdown",
   "metadata": {
    "collapsed": false
   },
   "source": [
    "<span style=\"color:blue\"> \n",
    "By inspection we see in this case\n",
    "$$(v_p(a_1), v_p(a_2), v_p(a_3),v_p(a_4),v_p(a_6),v_p(\\Delta))=(1,\\ge 1,2, 2,4+v_p(16a^3b^3d^2 + 4a^2bd + 4ab^2d - 4ab + 1),6)==(1,\\ge 1,2, 2,\\ge 4,6)$$\n",
    "since $16a^3b^3d^2 + 4a^2bd + 4ab^2d - 4ab + 1 \\ge 0 \\mod p$.\n",
    "Then we have $$P(t)=t^3 + a_{2,1}t^2 + a_{4,2}t + a_{6,3} \\equiv t^3 + \\frac{(a + b)d}{p} t^2 + \\frac{bad^2}{p^2}t \\equiv t(t^2 + \\frac{(a + b)d}{p} t + \\frac{bad^2}{p^2}) \\mod p.$$\n",
    "In this case we have the Nèron type $\\mathrm{I}_0^{\\ast}$.\n",
    "Now, the quadratic factor has discriminant $\\left(\\frac{d(a + b)}{p}\\right)^2 - \\frac{4bad^2}{p^2} = \\frac{d^2(a - b)^2}{p^2}$.\n",
    "The other claimed local data when $v_p(d)=1, v_p(ab(a-b))=0$ of Theorem 3.7 follows from the above computation."
   ]
  },
  {
   "cell_type": "markdown",
   "metadata": {
    "collapsed": false
   },
   "source": [
    "**Subcase 2b:** $p=2$ with $v_2(d)=0,\\ v_2(a)=2,\\ bd = 3 \\mod 4$. This is the Nèron type $\\mathrm{I}_0^{\\ast}$. In this we consider the Weierstrass model F3."
   ]
  },
  {
   "cell_type": "code",
   "execution_count": 55,
   "metadata": {
    "collapsed": false
   },
   "outputs": [
    {
     "name": "stdout",
     "output_type": "stream",
     "text": [
      "c4\n",
      "(16) * d^2 * (a^2 - a*b + b^2)\n",
      "c6\n",
      "(-32) * (a - 2*b) * (a + b) * (2*a - b) * d^3\n",
      "Disc\n",
      "(16) * b^2 * a^2 * (a - b)^2 * d^6\n",
      "a1\n",
      "(2) * d * b\n",
      "a2\n",
      "(-1) * (b^2*d^2 - a*d - b*d - 18)\n",
      "a3\n",
      "(4) * (b*d + 2)\n",
      "a4\n",
      "(-1) * (-a*b*d^2 + 4*b^2*d^2 - 12*a*d - 4*b*d - 108)\n",
      "a6\n",
      "(-2) * (-3*a*b*d^2 + 2*b^2*d^2 - 18*a*d - 10*b*d - 100)\n"
     ]
    }
   ],
   "source": [
    "vals(F3)"
   ]
  },
  {
   "cell_type": "markdown",
   "metadata": {
    "collapsed": false
   },
   "source": [
    "<span style=\"color:blue\"> \n",
    "By inspection we see in this case\n",
    "$$(v_2(a_1), v_2(a_2), v_2(a_3),v_2(a_4),v_2(a_6),v_2(\\Delta))=(1,\\ge 2,2,\\ge 3,\\ge 4,8)$$\n",
    "since $$a_2=-b^2d^2 + ad + bd + 18 \\equiv  bd + 1 \\ge 2 \\mod 4,$$\n",
    "$$a_4 = abd^2 + 4b^2d^2 + 4ad + 4bd + 4 \\equiv  0 \\mod 8,$$\n",
    "$$a_6 =  6abd^2 - 4b^2d^2 + 4ad + 4bd + 8 \\equiv 4(ab/2 - 1 + ad + bd + 2)\\equiv 8 \\mod 16 \\text{ since } ab/2 - 1 + ad + bd + 2\\equiv ab/2 \\equiv 2 \\mod 4.$$\n",
    "Then we have $$P(t)=t^3 + a_{2,1}t^2 + a_{4,2}t + a_{6,3} \\equiv t^3 + 1 \\equiv (t+1)(t^2+t+1) \\mod 2$$\n",
    "Hence we get the claimed local data when $v_2(a)=2, bd \\equiv 3 \\mod 4$ of Theorem 3.7 from the above computation."
   ]
  },
  {
   "cell_type": "markdown",
   "metadata": {
    "collapsed": false
   },
   "source": [
    "**Case 3:** Suppose that the parameters of $E_{T}$ satisfy one of\n",
    "the conditions in (3.19) for the Nèron type $\\mathrm{I}_n^{\\ast}$.\n",
    "\n",
    "**Subcase 3a:** $p$ odd, $v_p(d) = 1$, $2v_p(ab) \\ge 2$. In particular, $p$ does not divide $a-b$ or $a+b$. In this we consider the Weierstrass model F1."
   ]
  },
  {
   "cell_type": "code",
   "execution_count": 53,
   "metadata": {
    "collapsed": false
   },
   "outputs": [
    {
     "name": "stdout",
     "output_type": "stream",
     "text": [
      "c4\n",
      "(16) * d^2 * (a^2 - a*b + b^2)\n",
      "c6\n",
      "(-32) * (a - 2*b) * (a + b) * (2*a - b) * d^3\n",
      "Disc\n",
      "(16) * b^2 * a^2 * (a - b)^2 * d^6\n",
      "a1\n",
      "(2) * d * b^2\n",
      "a2\n",
      "(-1) * d * (-12*a^2*b^2*d + b^4*d - a - b)\n",
      "a3\n",
      "(8) * d^2 * b^2 * a^2\n",
      "a4\n",
      "b * a * d^2 * (48*a^3*b^3*d^2 - 8*a*b^3*d + 8*a^2*b*d + 8*a*b^2*d + 1)\n",
      "a6\n",
      "(4) * b^3 * a^3 * d^4 * (16*a^3*b^3*d^2 + 4*a^2*b*d + 4*a*b^2*d - 4*a*b + 1)\n"
     ]
    }
   ],
   "source": [
    "vals(F1)"
   ]
  },
  {
   "cell_type": "markdown",
   "metadata": {
    "collapsed": false
   },
   "source": [
    "<span style=\"color:blue\"> \n",
    "By inspection we see in this case\n",
    "$$(v_p(c_4),v_p(c_6),v_p(\\Delta))=(2,3, 2v_p(ab)+6).$$\n",
    "So, in this case we have the Nèron type $\\mathrm{I}_n^{\\ast}$ with $n=2v_p(ab)$ by Papadopoulos.\n",
    "Also, \n",
    "$$(v_p(a_1), v_p(a_2), v_p(a_3),v_p(a_4),v_p(a_6))=(1,1,2v_p(ab)+2, v_p(ab)+2, 3v_p(ab) + 4)=(1,1,n+2,\\frac{n+4}{2}, \\frac{3n+8}{2})$$\n",
    "since $-12a^2b^2d + b^4d - a - b \\equiv  -a - b \\neq 0 \\mod p.$\n",
    "Then we have $$a_{2,1}t^2 + a_{4,\\frac{n+4}{2}}t + a_{6,n+3} \\equiv t^2 + t=t(t+1)  \\mod p$$\n",
    "Hence we get the claimed local data when $p$ odd, $v_p(d) = 1$, $2v_p(ab)\\ge  2$ of Theorem 3.7 from Lemma 2.1 and above computation."
   ]
  },
  {
   "cell_type": "markdown",
   "metadata": {
    "collapsed": false
   },
   "source": [
    "**Subcase 3b:** $p$ odd, $v_p(d) = 1$, $2v_p(a-b) \\ge 2$. In this we consider the Weierstrass model F2."
   ]
  },
  {
   "cell_type": "code",
   "execution_count": 56,
   "metadata": {
    "collapsed": false
   },
   "outputs": [
    {
     "name": "stdout",
     "output_type": "stream",
     "text": [
      "c4\n",
      "(16) * d^2 * (a^2 - a*b + b^2)\n",
      "c6\n",
      "(-32) * (a - 2*b) * (a + b) * (2*a - b) * d^3\n",
      "Disc\n",
      "(16) * b^2 * a^2 * (a - b)^2 * d^6\n",
      "a1\n",
      "(2) * d * (a - b)^2\n",
      "a2\n",
      "(-1) * d * (a^4*d - 4*a^3*b*d + 6*a^2*b^2*d - 4*a*b^3*d + b^4*d - 3*a^2*d + 6*a*b*d - 3*b^2*d + 2*a - b)\n",
      "a3\n",
      "(2) * d^2 * (a - b)^2\n",
      "a4\n",
      "(-a + b) * d^2 * (-3*a^3*d^2 + 9*a^2*b*d^2 - 9*a*b^2*d^2 + 3*b^3*d^2 + 2*a^3*d - 6*a^2*b*d + 6*a*b^2*d - 2*b^3*d + 4*a^2*d - 6*a*b*d + 2*b^2*d - a)\n",
      "a6\n",
      "(-a + b)^3 * d^4 * (-a^3*d^2 + 3*a^2*b*d^2 - 3*a*b^2*d^2 + b^3*d^2 + 2*a^2*d - 3*a*b*d + b^2*d - b)\n"
     ]
    }
   ],
   "source": [
    "vals(F2)"
   ]
  },
  {
   "cell_type": "markdown",
   "metadata": {
    "collapsed": false
   },
   "source": [
    "<span style=\"color:blue\"> \n",
    "By inspection we see in this case\n",
    "$$(v_p(c_4),v_p(c_6),v_p(\\Delta))=(2,3, 2v_p(a-b)+6).$$\n",
    "So, in this case we have the Nèron type $\\mathrm{I}_n^{\\ast}$ with $n=2v_p(a-b)$ by Papadopoulos.\n",
    "Also, \n",
    "$$(v_p(a_1), v_p(a_2), v_p(a_3),v_p(a_4),v_p(a_6))=(2v_p(a-b)+1,1,2v_p(a-b)+2, v_p(a-b)+2, 3v_p(a-b) + 4)=(n+1,1,n+2,\\frac{n+4}{2}, \\frac{3n+8}{2})$$\n",
    "since the factor in $a_2$, $a^4d - 4a^3bd + 6a^2b^2d - 4ab^3d + b^4d - 3a^2d + 6abd - 3b^2d + 2a - b\\equiv 2a - b\\neq 0 \\mod p.$\n",
    "Then we have $$a_{2,1}t^2 + a_{4,\\frac{n+4}{2}}t + a_{6,n+3} \\equiv t^2 + t=t(t+1)  \\mod p$$\n",
    "Hence we get the claimed local data when $p$ odd, $v_p(d) = 1$, $2v_p(a-b)\\ge  2$ of Theorem 3.7 from Lemma 2.1 and above computation."
   ]
  },
  {
   "cell_type": "markdown",
   "metadata": {
    "collapsed": false
   },
   "source": [
    "**Subcase 3c:** $p=2$, $v_2(d) = 1, 2v_2(a) \\ge 2$. In this we consider the Weierstrass model F1."
   ]
  },
  {
   "cell_type": "code",
   "execution_count": 57,
   "metadata": {
    "collapsed": false
   },
   "outputs": [
    {
     "name": "stdout",
     "output_type": "stream",
     "text": [
      "c4\n",
      "(16) * d^2 * (a^2 - a*b + b^2)\n",
      "c6\n",
      "(-32) * (a - 2*b) * (a + b) * (2*a - b) * d^3\n",
      "Disc\n",
      "(16) * b^2 * a^2 * (a - b)^2 * d^6\n",
      "a1\n",
      "(2) * d * b^2\n",
      "a2\n",
      "(-1) * d * (-12*a^2*b^2*d + b^4*d - a - b)\n",
      "a3\n",
      "(8) * d^2 * b^2 * a^2\n",
      "a4\n",
      "b * a * d^2 * (48*a^3*b^3*d^2 - 8*a*b^3*d + 8*a^2*b*d + 8*a*b^2*d + 1)\n",
      "a6\n",
      "(4) * b^3 * a^3 * d^4 * (16*a^3*b^3*d^2 + 4*a^2*b*d + 4*a*b^2*d - 4*a*b + 1)\n"
     ]
    }
   ],
   "source": [
    "vals(F1)"
   ]
  },
  {
   "cell_type": "markdown",
   "metadata": {
    "collapsed": false
   },
   "source": [
    "<span style=\"color:blue\"> \n",
    "By inspection we see in this case\n",
    "$$(v_2(c_4),v_2(c_6),v_2(\\Delta))=(6,9 ,10+2v_2(a)).$$\n",
    "So, in this case we have the Nèron type $\\mathrm{I}_n^{\\ast}$ with $n=2v_2(a)$ by Papadopoulos. Also,\n",
    "$$(v_2(a_1), v_2(a_2), v_2(a_3),v_2(a_4),v_2(a_6))=(2,1,2v_2(a)+5,v_2(a)+2,3v_2(a)+6)=(2,1,n+5,\\frac{n+4}{2},\\frac{3n}{2}+6)$$\n",
    "Then we have $$a_{2,1}t^2 + a_{4,\\frac{n+4}{2}}t + a_{6,n+3} \\equiv t^2 + t=t(t+1)  \\mod 2.$$\n",
    "Hence we derive the claimed local data when $v_2(a)\\ge 1, v_2(d)=1$ of Theorem 3.7 from the above computation and and Lemma 2.1."
   ]
  },
  {
   "cell_type": "markdown",
   "metadata": {
    "collapsed": false
   },
   "source": [
    "**Subcase 3d:** $p=2$, $v_2(d) = 0, 2v_2(a)-4 \\ge 2,  bd \\equiv 3 \\mod 4$. In this we consider the Weierstrass model F1."
   ]
  },
  {
   "cell_type": "code",
   "execution_count": 58,
   "metadata": {
    "collapsed": false
   },
   "outputs": [
    {
     "name": "stdout",
     "output_type": "stream",
     "text": [
      "c4\n",
      "(16) * d^2 * (a^2 - a*b + b^2)\n",
      "c6\n",
      "(-32) * (a - 2*b) * (a + b) * (2*a - b) * d^3\n",
      "Disc\n",
      "(16) * b^2 * a^2 * (a - b)^2 * d^6\n",
      "a1\n",
      "(2) * d * b^2\n",
      "a2\n",
      "(-1) * d * (-12*a^2*b^2*d + b^4*d - a - b)\n",
      "a3\n",
      "(8) * d^2 * b^2 * a^2\n",
      "a4\n",
      "b * a * d^2 * (48*a^3*b^3*d^2 - 8*a*b^3*d + 8*a^2*b*d + 8*a*b^2*d + 1)\n",
      "a6\n",
      "(4) * b^3 * a^3 * d^4 * (16*a^3*b^3*d^2 + 4*a^2*b*d + 4*a*b^2*d - 4*a*b + 1)\n"
     ]
    }
   ],
   "source": [
    "vals(F1)"
   ]
  },
  {
   "cell_type": "markdown",
   "metadata": {
    "collapsed": false
   },
   "source": [
    "<span style=\"color:blue\"> \n",
    "By inspection we see in this case\n",
    "$$(v_2(c_4),v_2(c_6),v_2(\\Delta))=(4,6, 2v_2(a)+4)$$\n",
    "So, in this case we have the Nèron type $\\mathrm{I}_n^{\\ast}$ with $n=2v_2(a)-4$ by Papadopoulos. Also,\n",
    "$$(v_2(a_1), v_2(a_2), v_2(a_3),v_2(a_4),v_2(a_6))=(1,1,2v_2(a)+3,v_2(a),3v_2(a)+2)=(1,1,n+7,\\frac{n+4}{2},\\frac{3n}{2}+8)$$\n",
    "since the factor in $a_2$, $-12a^2b^2d + b^4d - a - b \\equiv d - b \\equiv 2 \\mod 4$ iff $bd \\equiv 3 \\mod 4$.\n",
    "Then we have $$a_{2,1}t^2 + a_{4,\\frac{n+4}{2}}t + a_{6,n+3} \\equiv t^2 + t=t(t+1)  \\mod 2.$$\n",
    "Hence we derive the claimed local data when $v_2(d) = 0, 2v_2(a)-4 \\ge 2,  bd \\equiv 3 \\mod 4$ of Theorem 3.7 from the above computation and Lemma 2.1."
   ]
  },
  {
   "cell_type": "markdown",
   "metadata": {
    "collapsed": false
   },
   "source": [
    "**Subcase 3e:** $p=2$, $v_2(d) = 0, v_2(a)=2, bd \\equiv 1 \\mod 4$. In this case we have the Nèron type $\\rm{I}_1^{\\ast}$. In this we consider the Weierstrass model F3."
   ]
  },
  {
   "cell_type": "code",
   "execution_count": 59,
   "metadata": {
    "collapsed": false
   },
   "outputs": [
    {
     "name": "stdout",
     "output_type": "stream",
     "text": [
      "c4\n",
      "(16) * d^2 * (a^2 - a*b + b^2)\n",
      "c6\n",
      "(-32) * (a - 2*b) * (a + b) * (2*a - b) * d^3\n",
      "Disc\n",
      "(16) * b^2 * a^2 * (a - b)^2 * d^6\n",
      "a1\n",
      "(2) * d * b\n",
      "a2\n",
      "(-1) * (b^2*d^2 - a*d - b*d - 18)\n",
      "a3\n",
      "(4) * (b*d + 2)\n",
      "a4\n",
      "(-1) * (-a*b*d^2 + 4*b^2*d^2 - 12*a*d - 4*b*d - 108)\n",
      "a6\n",
      "(-2) * (-3*a*b*d^2 + 2*b^2*d^2 - 18*a*d - 10*b*d - 100)\n"
     ]
    }
   ],
   "source": [
    "vals(F3)"
   ]
  },
  {
   "cell_type": "markdown",
   "metadata": {
    "collapsed": false
   },
   "source": [
    "<span style=\"color:blue\"> \n",
    "By inspection we see in this case\n",
    "$$(v_2(c_4),v_2(c_6),v_2(\\Delta))=(4,6,8)$$ \n",
    "and\n",
    "$$(v_2(a_1), v_2(a_2), v_2(a_3),v_2(a_4),v_2(a_6))=(1,1,2,\\ge 3,\\ge 4)$$\n",
    "since \n",
    "$$a_2=-b^2d^2 + ad + bd + 18 \\equiv  bd + 1 \\equiv 2 \\mod 4,$$\n",
    "$$a_4 = abd^2 + 4b^2d^2 + 4ad + 4bd + 4 \\equiv 4 + 4 + 0 + 4 + 4 \\equiv  0 \\mod 8,$$\n",
    "$a_6 =  6abd^2 - 4b^2d^2 + 4ad -12bd + 8 \\equiv 12 (abd^2/2 - bd - 1)\\mod 32. \\text{ Since } ab/2 -bd-1\\equiv ab/2-2 \\equiv 0\\mod 4$, we have $v_2(abd^2/2 - bd - 1)\\ge 2$.\n",
    "So, in this case we have the Nèron type $\\mathrm{I}_1^{\\ast}$ by Lemma 2.1.\n",
    "For the Tamagawa number, consider\n",
    "Then we have $$\n",
    "t^{2}+a_{3,2}t-a_{6,4}\\equiv t^{2}+t+\\frac{b^{2}d^{2}-9ad-5bd-50-3abd^{2}/2}{4}\\ \\operatorname{mod}2.\n",
    "$$\n",
    "Now, $b^{2}d^{2}-9ad-5bd-50-3abd^{2}/2 \\equiv 1-3abd^2/2-4+3bd -2 \\equiv-3abd^2/2 +3bd+3 \\equiv 3(-abd^2/2+bd+1)  \\mod 8.$\n",
    "Tamagawa number $c_2$  depends on $abd^2/2 - bd - 1 \\mod 8$. Next set $l = ad$ and $k = bd$ so that  $abd^2/2 - bd - 1= lk/2 - k - 1  \\mod 8 $. In particular, $k \\equiv 1 \\mod 4$ and $l \\equiv 4 \\mod 8$. The following Mathematica code yields\n",
    "    $$Table[{Mod[l, 16], Mod[k, 8], Mod[l*k/2 - 1 - k, 8]}, {l, 4, 16, 8}, {k, 1, 8, 4}]$$\n",
    "$$c_2 = 4$$ if (i) $ad \\equiv 4 \\mod 16, bd \\equiv 1 \\mod 8$ or (ii) $ad \\equiv 12 \\mod 16, bd \\equiv 5 \\mod 8$;\n",
    "$$c_2 = 2$$ if (i) $ad \\equiv 4 \\mod 16, bd \\equiv 5 \\mod 8$ or (ii) $ad \\equiv 12 \\mod 16, bd \\equiv 1 \\mod 8$\n",
    "Hence we derive the claimed local data when $v_2(d) = 0, v_2(a)=2, bd \\equiv 1 \\mod 4$ of Theorem 3.7 from the above computation."
   ]
  },
  {
   "cell_type": "code",
   "execution_count": 0,
   "metadata": {
    "collapsed": false
   },
   "outputs": [
   ],
   "source": [
   ]
  }
 ],
 "metadata": {
  "kernelspec": {
   "display_name": "SageMath (system-wide)",
   "language": "sagemath",
   "metadata": {
    "cocalc": {
     "description": "Open-source mathematical software system",
     "priority": -1,
     "url": "https://www.sagemath.org/"
    }
   },
   "name": "sagemath",
   "resource_dir": "/ext/jupyter/kernels/sagemath"
  },
  "language_info": {
   "codemirror_mode": {
    "name": "ipython",
    "version": 2
   },
   "file_extension": ".py",
   "mimetype": "text/x-python",
   "name": "python",
   "nbconvert_exporter": "python",
   "pygments_lexer": "ipython2",
   "version": "2.7.15"
  }
 },
 "nbformat": 4,
 "nbformat_minor": 4
}