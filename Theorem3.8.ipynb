{
 "cells": [
  {
   "cell_type": "code",
   "execution_count": 1,
   "metadata": {
    "collapsed": false
   },
   "outputs": [
   ],
   "source": [
    "from sage.schemes.elliptic_curves.weierstrass_morphism import *\n",
    "S.<a,b,p,l,u,v,c,d,k>=QQ[]"
   ]
  },
  {
   "cell_type": "markdown",
   "metadata": {
    "collapsed": false
   },
   "source": [
    "The curve $Ei(a,b)$ corresponds to $E_{C_{i}}=E_{C_{i}}(a,b)$ in the paper for $i=5,7,8,9,10,12$. The curve $Eij(a,b)$ corresponds to $E_{C_{i}\\times C_{j}}(a,b)$ where $i=2$ and $j=2,4,6$."
   ]
  },
  {
   "cell_type": "code",
   "execution_count": 2,
   "metadata": {
    "collapsed": false
   },
   "outputs": [
   ],
   "source": [
    "def E5(a,b):\n",
    "    return EllipticCurve(S.fraction_field(),[a-b,-a*b,-a^2*b,0,0])\n",
    "def F5(a,b):\n",
    "    return E5(a,b).change_ring(QQ)\n",
    "def E6(a,b):\n",
    "    return EllipticCurve(S.fraction_field(),[a - b, -a*b - b^2, -a^2*b - a*b^2, 0, 0])\n",
    "def F6(a,b):\n",
    "    return E6(a,b).change_ring(QQ)\n",
    "def E7(a,b):\n",
    "    return EllipticCurve(S.fraction_field(),[a^2 + a*b - b^2, a^2*b^2 - a*b^3, a^4*b^2 - a^3*b^3, 0, 0])\n",
    "def F7(a,b):\n",
    "    return E7(a,b).change_ring(QQ)\n",
    "def E8(a,b):\n",
    "    return EllipticCurve(S.fraction_field(),[-a^2 + 4*a*b - 2*b^2, -a^2*b^2 + 3*a*b^3 - 2*b^4, -a^3*b^3 + 3*a^2*b^4 - 2*a*b^5, 0, 0])\n",
    "def F8(a,b):\n",
    "    return E8(a,b).change_ring(QQ)\n",
    "def E9(a,b):\n",
    "    return EllipticCurve(S.fraction_field(),[a^3 + a*b^2 - b^3, a^4*b^2 - 2*a^3*b^3 + 2*a^2*b^4 - a*b^5, a^7*b^2 - 2*a^6*b^3 + 2*a^5*b^4 - a^4*b^5, 0, 0])\n",
    "def F9(a,b):\n",
    "     return E9(a,b).change_ring(QQ)\n",
    "def E10(a,b):\n",
    "    return EllipticCurve(S.fraction_field(),[a^3 - 2*a^2*b - 2*a*b^2 + 2*b^3, -a^3*b^3 + 3*a^2*b^4 - 2*a*b^5, -a^6*b^3 + 6*a^5*b^4 - 12*a^4*b^5 + 9*a^3*b^6 - 2*a^2*b^7, 0, 0])\n",
    "def F10(a,b):\n",
    "    return E10(a,b).change_ring(QQ)\n",
    "def E12(a,b):\n",
    "    return EllipticCurve(S.fraction_field(),[-a^4 + 2*a^3*b + 2*a^2*b^2 - 8*a*b^3 + 6*b^4, a^7*b - 9*a^6*b^2 + 36*a^5*b^3 - 83*a^4*b^4 + 119*a^3*b^5 - 106*a^2*b^6 + 54*a*b^7 - 12*b^8, -a^11*b + 12*a^10*b^2 - 66*a^9*b^3 + 219*a^8*b^4 - 485*a^7*b^5 + 748*a^6*b^6 - 812*a^5*b^7 + 611*a^4*b^8 - 304*a^3*b^9 + 90*a^2*b^10 - 12*a*b^11, 0, 0])\n",
    "def F12(a,b):\n",
    "    return E(a,b).change_ring(QQ)\n",
    "def E22(a,b,d):\n",
    "\tA=a*d\n",
    "\tB=b*d\n",
    "\treturn EllipticCurve(S.fraction_field(),[0,A+B,0,A*B,0])\n",
    "def F22(a,b):\n",
    "    return E22(a,b).change_ring(QQ)\n",
    "def E24(a,b):\n",
    "    return EllipticCurve(S.fraction_field(),[a, -a*b - 4*b^2, -a^2*b - 4*a*b^2, 0, 0])\n",
    "def F24(a,b):\n",
    "    return E24(a,b).change_ring(QQ)\n",
    "def E26(a,b):\n",
    "    return EllipticCurve(S.fraction_field(),[-19*a^2+2*a*b+b^2, -10*a^4+22*a^3*b-14*a^2*b^2+2*a*b^3, 90*a^6-198*a^5*b+116*a^4*b^2+4*a^3*b^3-14*a^2*b^4+2*a*b^5, 0, 0])\n",
    "def F26(a,b):\n",
    "    return E26(a,b).change_ring(QQ)\n",
    "def vp(n,p):\n",
    "    try:\n",
    "        log(1/Qp(p)(n).abs(),p)\n",
    "    except ZeroDivisionError:\n",
    "            return 'inf'\n",
    "    else:\n",
    "        return log(1/Qp(p)(n).abs(),p)\n",
    "def PolyMod(f,n): ##Reduces a polynomial mod n\n",
    "    R = IntegerModRing(n)\n",
    "    S.<a,b,p,l,u,v,c,d,r,s,t,k,x,y>=R[]\n",
    "    return S(f)\n",
    "def TatePoly(E,p):\n",
    "\treturn factor(x^3+E.a2()/p*x^2+E.a4()/p^2*x+E.a6()/p^3)\n",
    "def TatePoly1(E,p):\n",
    "\treturn factor(x^2+E.a3()/p*x-E.a6()/p^2)\n",
    "def vals(G):\n",
    "\tprint(\"c4\")\n",
    "\tprint(factor(G.c4()))\n",
    "\tprint(\"c6\")\n",
    "\tprint(factor(G.c6()))\n",
    "\tprint(\"Disc\")\n",
    "\tprint(factor(G.discriminant()))\n",
    "\tprint('a1')\n",
    "\tprint(factor(G.a1()))\n",
    "\tprint('a2')\n",
    "\tprint(factor(G.a2()))\n",
    "\tprint('a3')\n",
    "\tprint(factor(G.a3()))\n",
    "\tprint('a4')\n",
    "\tprint(factor(G.a4()))\n",
    "\tprint('a6')\n",
    "\tprint(factor(G.a6()))"
   ]
  },
  {
   "cell_type": "markdown",
   "metadata": {
    "collapsed": false
   },
   "source": [
    "**Case I:** First we consider the cases when $T=C_i$ for i=5,7,9. For all these cases the local data follows from Papadopolous[Pap93] paper once we compute the triplet $(v_p(c_4),v_p(c_6),v_p(\\Delta))$. Here we show the computation of $(v_p(c_4),v_p(c_6),v_p(\\Delta))$."
   ]
  },
  {
   "cell_type": "markdown",
   "metadata": {
    "collapsed": false
   },
   "source": [
    "<span style=\"color:blue\">\n",
    "Consider $T=C_5$ and show the possible Néron types at $5$ are type II and type III. We know that the curve $E_T$ has additive reduction at $5$ if $v_5(a+18b)\\ge1$. We let $a+18b=5k$ such that $v_5(k)\\ge 0$. "
   ]
  },
  {
   "cell_type": "code",
   "execution_count": 12,
   "metadata": {
    "collapsed": false
   },
   "outputs": [
    {
     "name": "stdout",
     "output_type": "stream",
     "text": [
      "c4\n",
      "(5) * (7949*b^4 - 12180*b^3*k + 6550*b^2*k^2 - 1500*b*k^3 + 125*k^4)\n",
      "c6\n",
      "(-5) * (65*b^2 - 36*b*k + 5*k^2) * (24301*b^4 - 42570*b^3*k + 26150*b^2*k^2 - 6750*b*k^3 + 625*k^4)\n",
      "Disc\n",
      "(-25) * (-18*b + 5*k)^5 * b^5 * (5*b^2 - 5*b*k + k^2)\n"
     ]
    }
   ],
   "source": [
    "A=(5*k-18*b)\n",
    "print(\"c4\") \n",
    "print(factor(E5(A,b).c4()))\n",
    "print(\"c6\") \n",
    "print(factor(E5(A,b).c6())) \n",
    "print(\"Disc\") \n",
    "print(factor(E5(A,b).discriminant())) "
   ]
  },
  {
   "cell_type": "markdown",
   "metadata": {
    "collapsed": false
   },
   "source": [
    "<span style=\"color:blue\">\n",
    "We see that $$v_5(c_4)=1,\\ v_5(c_6)=1+ v_5(65b^2 - 36bk + 5k^2),\\ v_5(\\Delta) = 2+ v_5(5b^2 - 5bk + k^2)$$\n",
    "If $v_5(a+18b)\\ge 2$ i.e. $v_5(k)\\ge 1$ then $$(v_5(c_4),v_5(c_6),v_5(\\Delta))=(1,\\geq2,3).$$\n",
    "If $v_5(a+18b)=1$, i.e., $v_5(k)=0$ then $$(v_5(c_4),v_5(c_6),v_5(\\Delta))=(1,1,2).$$  Hence we get the local data of $E_{C_{5}}$ as proven in Theorem 3.8."
   ]
  },
  {
   "cell_type": "markdown",
   "metadata": {
    "collapsed": false
   },
   "source": [
    "Next Consider $T=C_7$, where we have Nèron type II at $7$. We know that the curve $E_T$ has additive reduction at $7$ if $v_7(a+4b)\\ge1$. We let $a+4b=7k$ such that $v_7(k)\\ge 0$. "
   ]
  },
  {
   "cell_type": "code",
   "execution_count": 50,
   "metadata": {
    "collapsed": false
   },
   "outputs": [
    {
     "name": "stdout",
     "output_type": "stream",
     "text": [
      "c4\n",
      "(-7) * (3*b^2 - 9*b*k + 7*k^2) * (2099*b^6 - 12915*b^5*k + 5390*b^4*k^2 + 114905*b^3*k^3 - 312130*b^2*k^4 + 319333*b*k^5 - 117649*k^6)\n",
      "c6\n",
      "(-7) * (681183*b^12 - 570906*b^11*k - 57808485*b^10*k^2 + 415008734*b^9*k^3 - 1123711218*b^8*k^4 + 143296482*b^7*k^5 + 7924718991*b^6*k^6 - 26025605886*b^5*k^7 + 44792503770*b^4*k^8 - 47536549046*b^3*k^9 + 31354752639*b^2*k^10 - 11863960458*b*k^11 + 1977326743*k^12)\n",
      "Disc\n"
     ]
    },
    {
     "data": {
      "text/plain": [
       "(-49) * (-5*b + 7*k)^7 * (-4*b + 7*k)^7 * b^7 * (b^3 - 7*b*k^2 + 7*k^3)"
      ]
     },
     "execution_count": 50,
     "metadata": {
     },
     "output_type": "execute_result"
    }
   ],
   "source": [
    "A=7*k-4*b\n",
    "print(\"c4\") \n",
    "print(factor(E7(A,b).c4()))\n",
    "print(\"c6\") \n",
    "print(factor(E7(A,b).c6()))\n",
    "print(\"Disc\") \n",
    "factor(E7(A,b).discriminant())"
   ]
  },
  {
   "cell_type": "code",
   "execution_count": 57,
   "metadata": {
    "collapsed": false
   },
   "outputs": [
    {
     "name": "stdout",
     "output_type": "stream",
     "text": [
      "6*b^6\n"
     ]
    },
    {
     "data": {
      "text/plain": [
       "6*b^12"
      ]
     },
     "execution_count": 57,
     "metadata": {
     },
     "output_type": "execute_result"
    }
   ],
   "source": [
    "print(PolyMod(2099*b^6 - 12915*b^5*k + 5390*b^4*k^2 + 114905*b^3*k^3 - 312130*b^2*k^4 + 319333*b*k^5 - 117649*k^6,7))\n",
    "\n",
    "PolyMod(681183*b^12 - 570906*b^11*k - 57808485*b^10*k^2 + 415008734*b^9*k^3 - 1123711218*b^8*k^4 + 143296482*b^7*k^5 + 7924718991*b^6*k^6 - 26025605886*b^5*k^7 + 44792503770*b^4*k^8 - 47536549046*b^3*k^9 + 31354752639*b^2*k^10 - 11863960458*b*k^11 + 1977326743*k^12,7)"
   ]
  },
  {
   "cell_type": "markdown",
   "metadata": {
    "collapsed": false
   },
   "source": [
    "<span style=\"color:blue\">\n",
    "From above computation we see that $$v_7(c_4)=1+v_7(3b^2 - 9bk + 7k^2),\\ v_7(c_6)=1,\\ v_7(\\Delta) = 2$$\n",
    "Hence $$(v_7(c_4),v_7(c_6),v_7(\\Delta))=(\\ge1,1,2).$$  Hence we get the local data of $E_{C_{7}}$ as proven in Theorem 3.8.\n"
   ]
  },
  {
   "cell_type": "markdown",
   "metadata": {
    "collapsed": false
   },
   "source": [
    "Next Consider $T=C_{10}$, where we have Nèron type III at $5$. We know that the curve $E_T$ has additive reduction at $5$ if $v_5(a+b)\\ge1$. We let $a+b=5k$ such that $v_5(k)\\ge 0$."
   ]
  },
  {
   "cell_type": "code",
   "execution_count": 53,
   "metadata": {
    "collapsed": false
   },
   "outputs": [
    {
     "name": "stdout",
     "output_type": "stream",
     "text": [
      "c4\n",
      "(5) * (269*b^12 - 860*b^11*k - 50350*b^10*k^2 + 677500*b^9*k^3 - 4018125*b^8*k^4 + 12675000*b^7*k^5 - 16812500*b^6*k^6 - 24375000*b^5*k^7 + 151171875*b^4*k^8 - 304687500*b^3*k^9 + 332031250*b^2*k^10 - 195312500*b*k^11 + 48828125*k^12)\n",
      "c6\n",
      "(-25) * (b^2 - 4*b*k + 5*k^2) * (b^4 - 10*b^3*k + 60*b^2*k^2 - 150*b*k^3 + 125*k^4) * (19*b^4 - 70*b^3*k - 150*b^2*k^2 + 750*b*k^3 - 625*k^4) * (499*b^8 - 7590*b^7*k + 44350*b^6*k^2 - 111750*b^5*k^3 + 28750*b^4*k^4 + 493750*b^3*k^5 - 1156250*b^2*k^6 + 1093750*b*k^7 - 390625*k^8)\n",
      "disc\n"
     ]
    },
    {
     "data": {
      "text/plain": [
       "(125) * (-3*b + 5*k)^5 * (-b + 5*k)^5 * (-2*b + 5*k)^10 * b^10 * (-b^2 + 5*k^2) * (b^2 - 5*b*k + 5*k^2)^2"
      ]
     },
     "execution_count": 53,
     "metadata": {
     },
     "output_type": "execute_result"
    }
   ],
   "source": [
    "A=5*k-b\n",
    "print(\"c4\") \n",
    "print(factor(E10(A,B).c4()))\n",
    "print(\"c6\") \n",
    "print(factor(E10(A,B).c6()))\n",
    "print(\"disc\") \n",
    "factor(E10(A,B).discriminant())"
   ]
  },
  {
   "cell_type": "code",
   "execution_count": 56,
   "metadata": {
    "collapsed": false
   },
   "outputs": [
    {
     "name": "stdout",
     "output_type": "stream",
     "text": [
      "4*b^12\n"
     ]
    },
    {
     "data": {
      "text/plain": [
       "b^16"
      ]
     },
     "execution_count": 56,
     "metadata": {
     },
     "output_type": "execute_result"
    }
   ],
   "source": [
    "print(PolyMod((269*b^12 - 860*b^11*k - 50350*b^10*k^2 + 677500*b^9*k^3 - 4018125*b^8*k^4 + 12675000*b^7*k^5 - 16812500*b^6*k^6 - 24375000*b^5*k^7 + 151171875*b^4*k^8 - 304687500*b^3*k^9 + 332031250*b^2*k^10 - 195312500*b*k^11 + 48828125*k^12),5))\n",
    "\n",
    "PolyMod((b^4 - 10*b^3*k + 60*b^2*k^2 - 150*b*k^3 + 125*k^4) * (19*b^4 - 70*b^3*k - 150*b^2*k^2 + 750*b*k^3 - 625*k^4) * (499*b^8 - 7590*b^7*k + 44350*b^6*k^2 - 111750*b^5*k^3 + 28750*b^4*k^4 + 493750*b^3*k^5 - 1156250*b^2*k^6 + 1093750*b*k^7 - 390625*k^8),5)"
   ]
  },
  {
   "cell_type": "markdown",
   "metadata": {
    "collapsed": false
   },
   "source": [
    "<span style=\"color:blue\">\n",
    "From the above compuation we see that $$v_5(c_4)=1,\\ v_5(c_6)=1+ v_5(b^2 - 4bk + 5k^2),\\ v_5(\\Delta) = 3$$\n",
    "Then $$(v_5(c_4),v_5(c_6),v_5(\\Delta))=(1,\\ge 2,3).$$ Hence we get the local data of $E_{C_{10}}$ as proven in Theorem 3.8.\n"
   ]
  },
  {
   "cell_type": "markdown",
   "metadata": {
    "collapsed": false
   },
   "source": [
    "**Case II:** We consider $T=C_8$, this is **Case 2 in the proof of Theorem 3.8**. We know that the curve $E_T$ has additive reduction at $2$ if $v_2(a)\\ge2$. Let $a=4k$ for $v_2(k)\\ge 0$.  "
   ]
  },
  {
   "cell_type": "code",
   "execution_count": 77,
   "metadata": {
    "collapsed": false
   },
   "outputs": [
    {
     "name": "stdout",
     "output_type": "stream",
     "text": [
      "c4\n",
      "(16) * (b^8 - 16*b^7*k + 224*b^6*k^2 - 1792*b^5*k^3 + 7680*b^4*k^4 - 18432*b^3*k^5 + 24576*b^2*k^6 - 16384*b*k^7 + 4096*k^8)\n",
      "c6\n",
      "(64) * (b^4 - 8*b^3*k + 32*b^2*k^2 - 64*b*k^3 + 32*k^4) * (b^8 - 16*b^7*k - 160*b^6*k^2 + 2816*b^5*k^3 - 14592*b^4*k^4 + 36864*b^3*k^5 - 49152*b^2*k^6 + 32768*b*k^7 - 8192*k^8)\n",
      "disc\n"
     ]
    },
    {
     "data": {
      "text/plain": [
       "(2048) * k^2 * (-b + 2*k)^4 * (-b + 4*k)^8 * b^8 * (b^2 - 4*b*k + 2*k^2)"
      ]
     },
     "execution_count": 77,
     "metadata": {
     },
     "output_type": "execute_result"
    }
   ],
   "source": [
    "print('c4')\n",
    "print(factor(E8(4*k,b).c4()))\n",
    "print('c6')\n",
    "print(factor(E8(4*k,b).c6()))\n",
    "print('disc')\n",
    "factor(E8(4*k,b).discriminant())"
   ]
  },
  {
   "cell_type": "markdown",
   "metadata": {
    "collapsed": false
   },
   "source": [
    "<span style=\"color:blue\">\n",
    "In this case we have  $$(v_2(c_4),v_2(c_6),v_2(\\Delta))=(4,6,11+2v_2(k))=(4,6,7+2v_2(a)).$$ We use the following change in variables:"
   ]
  },
  {
   "cell_type": "code",
   "execution_count": 20,
   "metadata": {
    "collapsed": false
   },
   "outputs": [
    {
     "name": "stdout",
     "output_type": "stream",
     "text": [
      "c4\n",
      "a^8 - 16*a^7*b + 96*a^6*b^2 - 288*a^5*b^3 + 480*a^4*b^4 - 448*a^3*b^5 + 224*a^2*b^6 - 64*a*b^7 + 16*b^8\n",
      "c6\n",
      "(-1) * (a^4 - 8*a^3*b + 16*a^2*b^2 - 16*a*b^3 + 8*b^4) * (a^8 - 16*a^7*b + 96*a^6*b^2 - 288*a^5*b^3 + 456*a^4*b^4 - 352*a^3*b^5 + 80*a^2*b^6 + 32*a*b^7 - 8*b^8)\n",
      "Disc\n",
      "a^2 * (a - 2*b)^4 * b^8 * (a - b)^8 * (a^2 - 8*a*b + 8*b^2)\n",
      "a1\n",
      "(-1) * (a^2 - 4*a*b + 2*b^2)\n",
      "a2\n",
      "(-1) * (a^2*b^2 - 3*a*b^3 + 2*b^4 - 3*a^2)\n",
      "a3\n",
      "(-1) * a * (a^2*b^3 - 3*a*b^4 + 2*b^5 + a^3 - 4*a^2*b + 2*a*b^2)\n",
      "a4\n",
      "(-1) * a^2 * (2*a^2*b^2 - 6*a*b^3 + 4*b^4 - 3*a^2)\n",
      "a6\n",
      "(-1) * a^4 * (a^2*b^2 - 3*a*b^3 + 2*b^4 - a^2)\n"
     ]
    }
   ],
   "source": [
    "K=E8(a,b).change_weierstrass_model(1,a^2,0,0)\n",
    "vals(K)"
   ]
  },
  {
   "cell_type": "markdown",
   "metadata": {
    "collapsed": false
   },
   "source": [
    "<span style=\"color:blue\">\n",
    "By inspection, we get\n",
    "$$(v_2(a_1),v_2(a_2),v_2(a_3),v_2(a_4),v_2(a_6),v_2(\\Delta))=(1,1,1+v_2(a),2+2v_2(a),1+4v_2(a),7+2v_2(a)).$$\n",
    "It follows that the Neron type is $\\text{I}_n^*$ with $n=2v_2(a)-1$. The claimed Tamagawa number now follows since\n",
    "$$t^2+a_{3,\\frac{n+3}2}-a_{6,n+3} \\equiv t^2 + t \\mod 2.$$\n",
    "splits."
   ]
  },
  {
   "cell_type": "markdown",
   "metadata": {
    "collapsed": false
   },
   "source": [
    "**Case III:** We consider $T=C_9$, this is **case 3 in the proof of Theorem 3.8**. We know that the curve $E_T$ has additive reduction at $3$ if $v_3(a+b)\\ge1$. We consider $a=3k-b$, where $v_3(k)\\ge 0$."
   ]
  },
  {
   "cell_type": "code",
   "execution_count": 96,
   "metadata": {
    "collapsed": false
   },
   "outputs": [
    {
     "name": "stdout",
     "output_type": "stream",
     "text": [
      "c4\n",
      "(9) * (b^3 - 9*b*k^2 + 9*k^3) * (73*b^9 - 864*b^8*k + 4509*b^7*k^2 - 13365*b^6*k^3 + 23571*b^5*k^4 - 21870*b^4*k^5 + 1458*b^3*k^6 + 19683*b^2*k^7 - 19683*b*k^8 + 6561*k^9)\n",
      "c6\n",
      "(-27) * (827*b^18 - 17712*b^17*k + 181494*b^16*k^2 - 1191186*b^15*k^3 + 5620833*b^14*k^4 - 20063538*b^13*k^5 + 54783621*b^12*k^6 - 111641976*b^11*k^7 + 155869677*b^10*k^8 - 103558824*b^9*k^9 - 109831140*b^8*k^10 + 397163574*b^7*k^11 - 514434888*b^6*k^12 + 309298662*b^5*k^13 + 52612659*b^4*k^14 - 258280326*b^3*k^15 + 215233605*b^2*k^16 - 86093442*b*k^17 + 14348907*k^18)\n",
      "disc\n",
      "(-243) * (-2*b + 3*k)^9 * (-b + 3*k)^9 * b^9 * (b^2 - 3*b*k + 3*k^2)^3 * (b^3 - 3*b^2*k + 3*k^3)\n"
     ]
    }
   ],
   "source": [
    "print('c4')\n",
    "print(factor(E9(3*k-b,b).c4()))\n",
    "print('c6')\n",
    "print(factor(E9(3*k-b,b).c6()))\n",
    "print('disc')\n",
    "print(factor(E9(3*k-b,b).discriminant()))"
   ]
  },
  {
   "cell_type": "markdown",
   "metadata": {
    "collapsed": false
   },
   "source": [
    "<span style=\"color:blue\">\n",
    "In this case we have  $$(v_2(c_4),v_2(c_6),v_2(\\Delta))=(2,3,5).$$\n",
    "Note that $E_{C_{9}}$ is a minimal model in this case. We use the following change in variable:"
   ]
  },
  {
   "cell_type": "code",
   "execution_count": 21,
   "metadata": {
    "collapsed": false
   },
   "outputs": [
    {
     "name": "stdout",
     "output_type": "stream",
     "text": [
      "c4\n",
      "(9) * (b^3 - 9*b*k^2 + 9*k^3) * (73*b^9 - 864*b^8*k + 4509*b^7*k^2 - 13365*b^6*k^3 + 23571*b^5*k^4 - 21870*b^4*k^5 + 1458*b^3*k^6 + 19683*b^2*k^7 - 19683*b*k^8 + 6561*k^9)\n",
      "c6\n",
      "(-27) * (827*b^18 - 17712*b^17*k + 181494*b^16*k^2 - 1191186*b^15*k^3 + 5620833*b^14*k^4 - 20063538*b^13*k^5 + 54783621*b^12*k^6 - 111641976*b^11*k^7 + 155869677*b^10*k^8 - 103558824*b^9*k^9 - 109831140*b^8*k^10 + 397163574*b^7*k^11 - 514434888*b^6*k^12 + 309298662*b^5*k^13 + 52612659*b^4*k^14 - 258280326*b^3*k^15 + 215233605*b^2*k^16 - 86093442*b*k^17 + 14348907*k^18)\n",
      "Disc\n",
      "(-243) * (-2*b + 3*k)^9 * (-b + 3*k)^9 * b^9 * (b^2 - 3*b*k + 3*k^2)^3 * (b^3 - 3*b^2*k + 3*k^3)\n",
      "a1\n",
      "(-3) * (b^3 - 4*b^2*k + 9*b*k^2 - 9*k^3)\n",
      "a2\n",
      "(3) * (-2*b + 3*k) * (-b + 3*k) * b^2 * (b^2 - 3*b*k + 3*k^2)\n",
      "a3\n",
      "(3) * (-2*b^9 + 33*b^8*k - 231*b^7*k^2 + 891*b^6*k^3 - 2052*b^5*k^4 + 2835*b^4*k^5 - 2187*b^3*k^6 + 729*b^2*k^7 + 2*k)\n",
      "a4\n",
      "(9) * k * (b^3 - 4*b^2*k + 9*b*k^2 - 9*k^3)\n",
      "a6\n",
      "(-9) * k * (-2*b^9 + 33*b^8*k - 231*b^7*k^2 + 891*b^6*k^3 - 2052*b^5*k^4 + 2835*b^4*k^5 - 2187*b^3*k^6 + 729*b^2*k^7 + k)\n"
     ]
    }
   ],
   "source": [
    "K=E9(3*k-b,b).change_weierstrass_model(1,0,0,3*k)\n",
    "vals(K)"
   ]
  },
  {
   "cell_type": "code",
   "execution_count": 111,
   "metadata": {
    "collapsed": false
   },
   "outputs": [
    {
     "name": "stdout",
     "output_type": "stream",
     "text": [
      "b^9 + 2*k\n",
      "-(2*b^9 - 33*b^8*k + 231*b^7*k^2 - 891*b^6*k^3 + 2052*b^5*k^4 - 2835*b^4*k^5 + 2187*b^3*k^6 - 729*b^2*k^7 - k - x)*(k + x)\n"
     ]
    },
    {
     "data": {
      "text/plain": [
       "2*b^9 + 2*k"
      ]
     },
     "execution_count": 111,
     "metadata": {
     },
     "output_type": "execute_result"
    }
   ],
   "source": [
    "print(PolyMod(-2*b^9 + 33*b^8*k - 231*b^7*k^2 + 891*b^6*k^3 - 2052*b^5*k^4 + 2835*b^4*k^5 - 2187*b^3*k^6 + 729*b^2*k^7 + 2*k,3))\n",
    "print(TatePoly1(K,3))\n",
    "PolyMod(2*b^9 - 33*b^8*k + 231*b^7*k^2 - 891*b^6*k^3 + 2052*b^5*k^4 - 2835*b^4*k^5 + 2187*b^3*k^6 - 729*b^2*k^7 - k,3)"
   ]
  },
  {
   "cell_type": "markdown",
   "metadata": {
    "collapsed": false
   },
   "source": [
    "<span style=\"color:blue\">\n",
    "By inspection, we get\n",
    "$$(v_2(a_1), v_2(a_2), v_2(a_3),v_2(a_4),v_2(a_6),v_2(b_6),v_2(b_8))=(1,1,1+v_3(b^9 + 2k), 2+v_3(k), 2+v_3(k), 2, 3 ).$$\n",
    "It follows that the Neron type is $\\text{IV}$. The claimed Tamagawa number now follows since\n",
    "$$t^2+a_{3,1}-a_{6,2} \\equiv (t+k)(t+k+b^9)\\equiv (t+k)(t+k+b) \\mod 3$$\n",
    "splits. Here we use the fact $3\\neq b$, so $b^9 \\equiv b \\mod 3$."
   ]
  },
  {
   "cell_type": "markdown",
   "metadata": {
    "collapsed": false
   },
   "source": [
    "**Case IV:** We consider $T=C_{12}$, this is **case 4 in the proof of Theorem 3.8**. We know that the curve $E_T$ has additive reduction at $3$ if $v_3(a)\\ge1$. "
   ]
  },
  {
   "cell_type": "code",
   "execution_count": 119,
   "metadata": {
    "collapsed": false
   },
   "outputs": [
    {
     "name": "stdout",
     "output_type": "stream",
     "text": [
      "c4\n",
      "(9) * (2*b^4 - 12*b^3*k + 36*b^2*k^2 - 54*b*k^3 + 27*k^4) * (8*b^12 - 144*b^11*k + 2592*b^10*k^2 - 27000*b^9*k^3 + 165564*b^8*k^4 - 657072*b^7*k^5 + 1790424*b^6*k^6 - 3446712*b^5*k^7 + 4710798*b^4*k^8 - 4487724*b^3*k^9 + 2834352*b^2*k^10 - 1062882*b*k^11 + 177147*k^12)\n",
      "c6\n",
      "(27) * (8*b^8 - 96*b^7*k + 648*b^6*k^2 - 2808*b^5*k^3 + 7776*b^4*k^4 - 13608*b^3*k^5 + 14580*b^2*k^6 - 8748*b*k^7 + 2187*k^8) * (8*b^16 - 192*b^15*k - 1008*b^14*k^2 + 51408*b^13*k^3 - 592920*b^12*k^4 + 3950208*b^11*k^5 - 18026712*b^10*k^6 + 60431184*b^9*k^7 - 154034784*b^8*k^8 + 303380640*b^7*k^9 - 463416552*b^6*k^10 + 545140368*b^5*k^11 - 484674192*b^4*k^12 + 314613072*b^3*k^13 - 140300424*b^2*k^14 + 38263752*b*k^15 - 4782969*k^16)\n",
      "Disc\n",
      "a^2 * (a - 2*b)^6 * b^12 * (a - b)^12 * (a^2 - 6*a*b + 6*b^2) * (a^2 - 2*a*b + 2*b^2)^3 * (a^2 - 3*a*b + 3*b^2)^4\n"
     ]
    }
   ],
   "source": [
    "print(\"c4\") \n",
    "print(factor(E12(3*k,b).c4()))\n",
    "print(\"c6\") \n",
    "print(factor(E12(3*k,b).c6())) \n",
    "print(\"Disc\") \n",
    "print(factor(E12(a,b).discriminant()))"
   ]
  },
  {
   "cell_type": "markdown",
   "metadata": {
    "collapsed": false
   },
   "source": [
    "<span style=\"color:blue\">\n",
    "In this case we have  $$(v_3(c_4),v_3(c_6),v_3(\\Delta))=(2,3,5+2v_3(a)).$$\n",
    "Then by Papadopolous[Pap93] the Nèron type is ${\\rm I}_n^*$. The Tamagawa number follows from Theorem 3.6 directly."
   ]
  },
  {
   "cell_type": "markdown",
   "metadata": {
    "collapsed": false
   },
   "source": [
    "**Case V:** We consider $T=C_{2}\\times C_{4}$, this is **case 5 in the proof of Theorem 3.8**. We know that the curve $E_T$ has additive reduction at $2$ if $v_2(a+4b)<4$ and $a$ is even."
   ]
  },
  {
   "cell_type": "code",
   "execution_count": 9,
   "metadata": {
    "collapsed": false
   },
   "outputs": [
   ],
   "source": [
    "F1=E24(a,b).change_weierstrass_model(1,a^2,0,0)\n",
    "F2=E24(a,b).change_weierstrass_model(2, a*b + 4*b^2, -1/2*a, 0)\n",
    "F3=E24(a,b).change_weierstrass_model(2,(-1/4) * a * (a + 4*b),-1/2*a,(1/8) * a * (a + 4*b)^2)"
   ]
  },
  {
   "cell_type": "code",
   "execution_count": 10,
   "metadata": {
    "collapsed": false
   },
   "outputs": [
    {
     "name": "stdout",
     "output_type": "stream",
     "text": [
      "c4\n",
      "a^4 + 16*a^3*b + 80*a^2*b^2 + 128*a*b^3 + 256*b^4\n",
      "c6\n",
      "(-1) * (a^2 + 8*a*b - 16*b^2) * (a^2 + 8*a*b + 8*b^2) * (a^2 + 8*a*b + 32*b^2)\n",
      "Disc\n",
      "a^2 * (a + 8*b)^2 * b^4 * (a + 4*b)^4\n"
     ]
    }
   ],
   "source": [
    "print(\"c4\")\n",
    "print(factor(E24(a,b).c4()))\n",
    "print(\"c6\")\n",
    "print(factor(E24(a,b).c6()))\n",
    "print(\"Disc\")\n",
    "print(factor(E24(a,b).discriminant()))"
   ]
  },
  {
   "cell_type": "markdown",
   "metadata": {
    "collapsed": false
   },
   "source": [
    "If $v_2(a)=1$ then we use the curve F1."
   ]
  },
  {
   "cell_type": "code",
   "execution_count": 13,
   "metadata": {
    "collapsed": false
   },
   "outputs": [
    {
     "name": "stdout",
     "output_type": "stream",
     "text": [
      "c4\n",
      "a^4 + 16*a^3*b + 80*a^2*b^2 + 128*a*b^3 + 256*b^4\n",
      "c6\n",
      "(-1) * (a^2 + 8*a*b - 16*b^2) * (a^2 + 8*a*b + 8*b^2) * (a^2 + 8*a*b + 32*b^2)\n",
      "Disc\n",
      "a^2 * (a + 8*b)^2 * b^4 * (a + 4*b)^4\n",
      "a1\n",
      "a\n",
      "a2\n",
      "(a + b) * (3*a - 4*b)\n",
      "a3\n",
      "(-1) * a * (-a^2 + a*b + 4*b^2)\n",
      "a4\n",
      "(-1) * (-a + 2*b) * (3*a + 4*b) * a^2\n",
      "a6\n",
      "(-1) * a^4 * (-a^2 + a*b + 4*b^2)\n"
     ]
    }
   ],
   "source": [
    "vals(F1)"
   ]
  },
  {
   "cell_type": "markdown",
   "metadata": {
    "collapsed": false
   },
   "source": [
    "<span style=\"color:blue\">\n",
    "By inspection we get that: if $v_2(a)=1$, then $(v_2(a_1), v_2(a_2), v_2(a_3),v_2(a_4),v_2(a_6), v_2(\\Delta))=(1,1,2,\\ge 4,5,8).$ Hence we get the claim in subcase 5a."
   ]
  },
  {
   "cell_type": "markdown",
   "metadata": {
    "collapsed": false
   },
   "source": [
    "<span style=\"color:blue\">\n",
    "If $v_2(a) =2$ then $v_2(a+4b) =3$. Then we verify below that $$\\text{F2}=\\text{E22}((a + 4b)^2/16,b^2,1).$$ Hence, the subcase 5b of Theorem 3.8 follows."
   ]
  },
  {
   "cell_type": "code",
   "execution_count": 12,
   "metadata": {
    "collapsed": false
   },
   "outputs": [
    {
     "data": {
      "text/plain": [
       "True"
      ]
     },
     "execution_count": 12,
     "metadata": {
     },
     "output_type": "execute_result"
    }
   ],
   "source": [
    "F2==E22((a + 4*b)^2/16,b^2,1)"
   ]
  },
  {
   "cell_type": "markdown",
   "metadata": {
    "collapsed": false
   },
   "source": [
    "<span style=\"color:blue\">\n",
    "If $v_2(a) \\ge3$ then $v_2(a+4b) =3$. Then we verify below that $$\\text{F2}=\\text{E22}(-a(a + 8b)/16,-(a + 4b)^2/16,1).$$ Hence, the subcase 5c of Theorem 3.8 follows."
   ]
  },
  {
   "cell_type": "code",
   "execution_count": 135,
   "metadata": {
    "collapsed": false
   },
   "outputs": [
    {
     "data": {
      "text/plain": [
       "True"
      ]
     },
     "execution_count": 135,
     "metadata": {
     },
     "output_type": "execute_result"
    }
   ],
   "source": [
    "A=-1/16 * a * (a + 8*b)\n",
    "B=-1/16* (a + 4*b)^2\n",
    "F3==E22(A,B,1)"
   ]
  },
  {
   "cell_type": "markdown",
   "metadata": {
    "collapsed": false
   },
   "source": [
    "**Case VI:** We consider $T=C_{2}\\times C_{6}$, this is **case 6 in the proof of Theorem 3.8**. We know that the curve $E_T$ has additive reduction at $3$ if $v_3(b)\\ge1$. In this case we only need to find $(v_3(c_4),v_3(c_6),v_3(\\Delta))$ since the Nèron type follows from Papadopolous. Consider $b=3k$ where $v_3(k)\\ge 0$."
   ]
  },
  {
   "cell_type": "code",
   "execution_count": 188,
   "metadata": {
    "collapsed": false
   },
   "outputs": [
    {
     "name": "stdout",
     "output_type": "stream",
     "text": [
      "c4\n",
      "(21*a^2 - 6*a*b + b^2) * (6861*a^6 - 2178*a^5*b - 825*a^4*b^2 + 180*a^3*b^3 + 75*a^2*b^4 - 18*a*b^5 + b^6)\n",
      "(9) * (7*a^2 - 6*a*k + 3*k^2) * (2287*a^6 - 2178*a^5*k - 2475*a^4*k^2 + 1620*a^3*k^3 + 2025*a^2*k^4 - 1458*a*k^5 + 243*k^6)\n",
      " c4/9 mod 3=\n",
      "a^6\n",
      " \n",
      "c6\n",
      "(-1) * (183*a^4 - 36*a^3*b - 30*a^2*b^2 + 12*a*b^3 - b^4) * (393*a^4 - 156*a^3*b + 30*a^2*b^2 - 12*a*b^3 + b^4) * (759*a^4 - 228*a^3*b - 30*a^2*b^2 + 12*a*b^3 - b^4)\n",
      "(-27) * (61*a^4 - 36*a^3*k - 90*a^2*k^2 + 108*a*k^3 - 27*k^4) * (131*a^4 - 156*a^3*k + 90*a^2*k^2 - 108*a*k^3 + 27*k^4) * (253*a^4 - 228*a^3*k - 90*a^2*k^2 + 108*a*k^3 - 27*k^4)\n",
      "('c6/37 mod 3 =', 2*a^12)\n",
      " \n",
      "Disc\n",
      "(64) * (-9*a + b)^2 * (-3*a + b)^2 * (3*a + b)^2 * (-5*a + b)^6 * (-a + b)^6 * a^6\n"
     ]
    }
   ],
   "source": [
    "print(\"c4\")\n",
    "print(factor(E26(a,b).c4()))\n",
    "print(factor(E26(a,3*k).c4()))\n",
    "print(\" c4/9 mod 3=\")\n",
    "print(PolyMod(2287*a^6 - 2178*a^5*k - 2475*a^4*k^2 + 1620*a^3*k^3 + 2025*a^2*k^4 - 1458*a*k^5 + 243*k^6,3))\n",
    "print(\" \")\n",
    "\n",
    "print(\"c6\")\n",
    "print(factor(E26(a,b).c6()))\n",
    "print(factor(E26(a,3*k).c6()))\n",
    "print('c6/37 mod 3 =', PolyMod((61*a^4 - 36*a^3*k - 90*a^2*k^2 + 108*a*k^3 - 27*k^4) * (131*a^4 - 156*a^3*k + 90*a^2*k^2 - 108*a*k^3 + 27*k^4) * (253*a^4 - 228*a^3*k - 90*a^2*k^2 + 108*a*k^3 - 27*k^4),3))\n",
    "print(\" \")\n",
    "\n",
    "print(\"Disc\")\n",
    "print(factor(E26(a,b).discriminant()))"
   ]
  },
  {
   "cell_type": "markdown",
   "metadata": {
    "collapsed": false
   },
   "source": [
    "<span style=\"color:blue\">\n",
    "By inspection, in this case we have \n",
    "If $v_3(b)=1$ then $$(v_3(c_4),v_3(c_6),v_3(\\Delta))=(2,3,2+2v_3(-3*a + b)(3*a + b)))=(2,3,2+2v_3(b^2-9a^2)).$$\n",
    "If $v_3(b)=2$ then $$(v_3(c_4),v_3(c_6),v_3(\\Delta))=(2,3,4+2v_3(b-9a)).$$\n",
    "If $v_3(b)\\ge 3$ then $$(v_3(c_4),v_3(c_6),v_3(\\Delta))=(2,3,8).$$\n",
    "Hence, the claim of Case 6 of Theorem 3.8 follows"
   ]
  },
  {
   "cell_type": "markdown",
   "metadata": {
    "collapsed": false
   },
   "source": [
    "**Case VII:** We consider $T=C_{6}$, this is **Case 1 in the proof of Theorem 3.8**. We know that the curve $E_T$ has additive reduction at $2$ or $3$ if $v_2(a+b)=1,2$ or $v_3(a)\\ge1$ respectively. We will consider three subcases."
   ]
  },
  {
   "cell_type": "code",
   "execution_count": 15,
   "metadata": {
    "collapsed": false
   },
   "outputs": [
    {
     "name": "stdout",
     "output_type": "stream",
     "text": [
      "c4\n",
      "(16) * (a - 3*k) * (a^3 - 3*a^2*k + 3*a*k^2 - 3*k^3)\n",
      " \n",
      "c6\n",
      "(-32) * (2*a^2 - 6*a*k + 3*k^2) * (a^4 - 6*a^3*k + 12*a^2*k^2 - 18*k^4)\n",
      " \n",
      "Disc\n",
      "(-16) * (4*a - 9*k) * a^2 * k^3 * (a - 2*k)^6\n"
     ]
    }
   ],
   "source": [
    "print(\"c4\")\n",
    "print(factor(E6(a,2*k-a).c4()))\n",
    "print(\" \")\n",
    "print(\"c6\")\n",
    "print(factor(E6(a,2*k-a).c6()))\n",
    "print(\" \")\n",
    "print(\"Disc\")\n",
    "print(factor(E6(a,2*k-a).discriminant()))"
   ]
  },
  {
   "cell_type": "markdown",
   "metadata": {
    "collapsed": false
   },
   "source": [
    "**Subcase 1a:** \n",
    "<span style=\"color:blue\">\n",
    " Suppose $v_2(a+b)=1,2$. Suppose $a+b=2k$ for $v_2(k)=0,1$. Then the computation above shows that \n",
    "If $v_2(a+b)=1$, then  $$(v_2(c_4),v_2(c_6),v_2(\\Delta))=(4+v_2(a-3k)+v_2(a^3 - 3a^2k + 3ak^2 - 3k^3),5,4)=(\\ge 6, 5,4).$$\n",
    "If $v_2(a+b)=2$, then  $$(v_2(c_4),v_2(c_6),v_2(\\Delta))=(4,6,8).$$ Hence, the claimed for Nèron type in subcase 1a of proof of Theorem 3.8 follows."
   ]
  },
  {
   "cell_type": "code",
   "execution_count": 180,
   "metadata": {
    "collapsed": false
   },
   "outputs": [
    {
     "name": "stdout",
     "output_type": "stream",
     "text": [
      "c4\n",
      "(a + 3*b) * (a^3 + 9*a^2*b + 3*a*b^2 + 3*b^3)\n",
      " \n",
      "c6\n",
      "(-1) * (a^2 + 6*a*b - 3*b^2) * (a^4 + 12*a^3*b + 30*a^2*b^2 + 36*a*b^3 + 9*b^4)\n",
      " \n",
      "Disc\n",
      "(a + 9*b) * a^2 * (a + b)^3 * b^6\n",
      " \n",
      "(c6(a,b)/27)^2+2-c4(a,b)/3 \n"
     ]
    },
    {
     "data": {
      "text/plain": [
       "b^12 + 3*b^11*k + 6*b^4 + 6*b^3*k + 2"
      ]
     },
     "execution_count": 180,
     "metadata": {
     },
     "output_type": "execute_result"
    }
   ],
   "source": [
    "print(\"c4\")\n",
    "print(factor(E6(a,b).c4()))\n",
    "print(\" \")\n",
    "print(\"c6\")\n",
    "print(factor(E6(a,b).c6()))\n",
    "print(\" \")\n",
    "print(\"Disc\")\n",
    "print(factor(E6(a,b).discriminant()))\n",
    "print(\" \")\n",
    "print(\"(c6(a,b)/27)^2+2-c4(a,b)/3 \")\n",
    "C4(a,b)=(a + 3*b) * (a^3 + 9*a^2*b + 3*a*b^2 + 3*b^3)\n",
    "C6(a,b)=(-1) * (a^2 + 6*a*b - 3*b^2) * (a^4 + 12*a^3*b + 30*a^2*b^2 + 36*a*b^3 + 9*b^4)\n",
    "AddC(a,b)=(C6(a,b)/27)^2+2-C4(a,b)/3\n",
    "PolyMod(factor(AddC(3*k,b)),9)"
   ]
  },
  {
   "cell_type": "markdown",
   "metadata": {
    "collapsed": false
   },
   "source": [
    "**Subcase 1b:**\n",
    "<span style=\"color:blue\">\n",
    "Suppose $v_3(a)=1$. Then by inspection from above cell we see that $(v_3(c_4),v_3(c_6),v_3(\\Delta))=(2,3,3)$. Suppose $a=3k$ with $v_3(k)=0$. Next, we check using the above computation that\n",
    "$$(c_6/27)^2+2-c_4/3\\equiv b^{12} + 3b^{11}k + 6b^4 + 6b^3k + 2 \\equiv 1+3bk + 6 + 6bk + 2 =9(bk+1) \\equiv  0 \\mod 9.$$\n",
    "Hence, we get the claimed local data as in subcase 1b in proof of Theorem 3.8.\n"
   ]
  },
  {
   "cell_type": "markdown",
   "metadata": {
    "collapsed": false
   },
   "source": [
    "**Subcase 1c:** Suppose $v_3(a)\\ge 2$. In this case we show that the Nèron type is ${\\rm I}_n^*$."
   ]
  },
  {
   "cell_type": "markdown",
   "metadata": {
    "collapsed": false
   },
   "source": [
    "When $v_3(a)=2$, we have $v_3(\\Delta)=4+v_3(a + 9b)$. In this case consider the following change in variables"
   ]
  },
  {
   "cell_type": "code",
   "execution_count": 23,
   "metadata": {
    "collapsed": false
   },
   "outputs": [
    {
     "name": "stdout",
     "output_type": "stream",
     "text": [
      "c4\n",
      "(a + 3*b) * (a^3 + 9*a^2*b + 3*a*b^2 + 3*b^3)\n",
      "c6\n",
      "(-1) * (a^2 + 6*a*b - 3*b^2) * (a^4 + 12*a^3*b + 30*a^2*b^2 + 36*a*b^3 + 9*b^4)\n",
      "Disc\n",
      "(a + 9*b) * a^2 * (a + b)^3 * b^6\n",
      "a1\n",
      "a + 3*b\n",
      "a2\n",
      "(-1/3) * (a + 3*b)^2\n",
      "a3\n",
      "(1/27) * (a + 9*b) * a^2\n",
      "a4\n",
      "(-1/27) * (a + 3*b) * (a + 9*b) * a^2\n",
      "a6\n",
      "(1/729) * (a + 9*b) * a^2 * (a + 3*b)^3\n"
     ]
    }
   ],
   "source": [
    "F1=E6(a,b).change_weierstrass_model(1,(1/9) * (-a + 3*b) * a,2*b,(2/27) * a * (a + 3*b)^2)\n",
    "vals(F1)"
   ]
  },
  {
   "cell_type": "markdown",
   "metadata": {
    "collapsed": false
   },
   "source": [
    "<span style=\"color:blue\">\n",
    "By inspection we see\n",
    "$$(v_3(c_4),v_3(c_6), v_3(\\Delta))=(2,3,v_3(a + 9b)+4).$$ \n",
    "So, in this case the Nèron type ${\\rm I}_n^*$ with $n= v_3(a + 9b)-2$ using Papadopoulos.\n",
    "When $v_3(a)=2$, \n",
    "$$(v_3(a_1), v_3(a_2), v_3(a_3),v_3(a_4),v_3(a_6))=(1,1,v_3(a + 9b)+1,v_3(a + 9b)+2, v_3(a + 9b)+1).$$ \n",
    "Moreover, by expanding the factors, we notice that\n",
    "$$a_{2,1}=-(a + 3b)^2/9=-1 \\mod 3$$\n",
    "$$a_{6,n+3}=\\frac{(a + 9b)(a + 3b)^3a^2}{3^{n+9}}\\equiv\\frac{(a + 9b)b}{3^{n+2}}\\mod 3$$\n",
    "For $n=0$, i.e., $v_3(a+9b)=2$, we have $a_{6,3}=((a + 9b)b)/3^{2} \\mod 3$.\n",
    "Now $((a + 9b)b)/3^{2}\\equiv 1+ab/9 \\equiv 2 \\mod 3$ since $ab/9 \\equiv 1 \\mod 3$. If $ab/9 \\equiv 2 \\mod 3$ then that will imply \n",
    "$v_3(a + 9b)=3$, which is a contradiction.\n",
    "In this case we check that $t^3+a_{2,1}t^2+a_{4,2}t+a_{6,3}=t^3-t^2+2$ splits in $\\mathbb{F}_3$. Hence the claimed Tamagawa followed. \n",
    "For $n=v_3(a+9b)-2\\ge 1$, we look at $t^2-a_{6,n+3}\\equiv t^2-\\frac{(a + 9b)b}{3^{n+2}} \\mod 3$. \n",
    "All the claimed local data **when $v_3(a)=2$ in subcase 1c of Theorem 3.8** follows from the above computation."
   ]
  },
  {
   "cell_type": "markdown",
   "metadata": {
    "collapsed": false
   },
   "source": [
    "When $v_3(a)\\ge 3$, we consider the following change in variables"
   ]
  },
  {
   "cell_type": "code",
   "execution_count": 25,
   "metadata": {
    "collapsed": false
   },
   "outputs": [
    {
     "name": "stdout",
     "output_type": "stream",
     "text": [
      "c4\n",
      "(a + 3*b) * (a^3 + 9*a^2*b + 3*a*b^2 + 3*b^3)\n",
      "c6\n",
      "(-1) * (a^2 + 6*a*b - 3*b^2) * (a^4 + 12*a^3*b + 30*a^2*b^2 + 36*a*b^3 + 9*b^4)\n",
      "Disc\n",
      "(a + 9*b) * a^2 * (a + b)^3 * b^6\n",
      "a1\n",
      "a - 3*b\n",
      "a2\n",
      "(3) * (a - b) * (a + b)\n",
      "a3\n",
      "(-1) * a * (-a^2 + 2*a*b + b^2)\n",
      "a4\n",
      "(-1) * a * (-3*a^3 + a^2*b + 4*a*b^2 + b^3)\n",
      "a6\n",
      "(-1) * a^4 * (-a^2 + a*b + b^2)\n"
     ]
    }
   ],
   "source": [
    "F2=E6(a,b).change_weierstrass_model(1,a^2,-b,0)\n",
    "vals(F2)"
   ]
  },
  {
   "cell_type": "markdown",
   "metadata": {
    "collapsed": false
   },
   "source": [
    "<span style=\"color:blue\">\n",
    "By inspection we see\n",
    "$$(v_3(c_4),v_3(c_6), v_3(\\Delta))=(2,3,2+2v_3(a)).$$ \n",
    "So, in this case we have the Nèron type ${\\rm I}_n^*$ with $n= 2v_3(a)-4$ using Papadopoulos.\n",
    "Then when $v_3(a)\\ge 3$, \n",
    "$$(v_3(a_1), v_3(a_2), v_3(a_3),v_3(a_4),v_3(a_6), v_3(\\Delta))=(1,1,v_3(a),v_3(a),4v_3(a),2+2v_3(a)).$$ \n",
    " Other the claimed local data when $v_3(a)\\ge 3$ in subcase 1c of Theorem 3.8 follows from the above computation."
   ]
  },
  {
   "cell_type": "code",
   "execution_count": 0,
   "metadata": {
    "collapsed": false
   },
   "outputs": [
   ],
   "source": [
   ]
  }
 ],
 "metadata": {
  "kernelspec": {
   "display_name": "SageMath (system-wide)",
   "language": "sagemath",
   "metadata": {
    "cocalc": {
     "description": "Open-source mathematical software system",
     "priority": -1,
     "url": "https://www.sagemath.org/"
    }
   },
   "name": "sagemath",
   "resource_dir": "/ext/jupyter/kernels/sagemath"
  },
  "language_info": {
   "codemirror_mode": {
    "name": "ipython",
    "version": 2
   },
   "file_extension": ".py",
   "mimetype": "text/x-python",
   "name": "python",
   "nbconvert_exporter": "python",
   "pygments_lexer": "ipython2",
   "version": "2.7.15"
  }
 },
 "nbformat": 4,
 "nbformat_minor": 4
}