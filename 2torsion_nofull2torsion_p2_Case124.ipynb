{
 "cells": [
  {
   "cell_type": "code",
   "execution_count": 1,
   "metadata": {
    "collapsed": false
   },
   "outputs": [
   ],
   "source": [
    "from sage.schemes.elliptic_curves.weierstrass_morphism import *\n",
    "S.<a,b,p,l,u,v,c,d,r,s,t,x,y,k,j>=QQ[]\n",
    "def E(a,b,d):\n",
    "\tA=a\n",
    "\tB=b^2*d\n",
    "\treturn EllipticCurve(S.fraction_field(),[0,2*A,0,A^2-B,0])\n",
    "def F(a,b,d):\n",
    "    return E(a,b,d).change_ring(QQ)\n",
    "def vp(n,p):\n",
    "\treturn log(1/Qp(p)(n).abs(),p)\n",
    "def PolyMod(f,n): ##Reduces a polynomial mod n\n",
    "    R = IntegerModRing(n)\n",
    "    S.<a,b,p,l,u,v,c,d,r,s,t,x,y>=R[]\n",
    "    return S(f)\n",
    "def PolyModFactor(f,p): ## p must be a prime since this uses the fact that F[x] is a UFD\n",
    "\tR=GF(p)   ##Finite field of p elements. A.k.a the ring Z/pZ\n",
    "\tS.<a,b,p,l,u,v,c,d,r,s,t,x,y>=R[];S\n",
    "\treturn factor(S(f))\n",
    "def Em1(a,b,d):\n",
    "\treturn E(a,b,d).change_weierstrass_model(2,0,2,0)\n",
    "def Fm1(a,b,d):\n",
    "    return Em1(a,b,d).change_ring(QQ)\n",
    "def Tateo(n,p):\n",
    "\tv=Integer((n+3)/2)\n",
    "\treturn ['a3',vp(p^v,2),'a6',vp(p^(2*v),2)]\n",
    "def Tatee(n,p):\n",
    "\tv=Integer((n+2)/2)\n",
    "\treturn ['a4',vp(p^(v+1),2),'a6',vp(p^(2*v+1),2)]"
   ]
  },
  {
   "cell_type": "markdown",
   "metadata": {
    "collapsed": false
   },
   "source": [
    "The curve E(a,b,d) corresponds to $E_{C_{2}}=E_{C_{2}}(a,b,d)$ in the paper. Consequently, in the analysis below, we assume that $a,b,d$ are integers with $b\\neq0, d\\neq1$, and both of $gcd(a,b)$ and $d$ are squarefree.\n",
    "\n",
    "Below, we verify the Main Theorem in the case of $2$-torsion without full $2$-torsion and the additional requirement that $E_{C_{2}}$ has additive reduction at $2$."
   ]
  },
  {
   "cell_type": "code",
   "execution_count": 2,
   "metadata": {
    "collapsed": false
   },
   "outputs": [
    {
     "name": "stdout",
     "output_type": "stream",
     "text": [
      "(16) * (3*b^2*d + a^2)\n",
      "(-64) * a * (9*b^2*d - a^2)\n",
      "(64) * d * b^2 * (b^2*d - a^2)^2\n"
     ]
    }
   ],
   "source": [
    "'c4'\n",
    "print(factor(E(a,b,d).c4()))\n",
    "'c6'\n",
    "print(factor(E(a,b,d).c6()))\n",
    "'disc'\n",
    "print(factor(E(a,b,d).discriminant()))"
   ]
  },
  {
   "cell_type": "markdown",
   "metadata": {
    "collapsed": false
   },
   "source": [
    "By the above, we have that the discriminant $\\Delta$ and invariants $c_4$ and $c_6$ of $E_{C_{2}}$ are as given below:\n",
    "\n",
    "$c_4=16 (3b^2d + a^2)$\n",
    "\n",
    "$c_6=-64 a (9b^2d - a^2)$\n",
    "\n",
    "$\\Delta=64 b^2 d(b^2d - a^2)^2$\n"
   ]
  },
  {
   "cell_type": "markdown",
   "metadata": {
    "collapsed": false
   },
   "source": [
    "**Case 1** - We start by considering the cases corresponding to Néron types II, III, and IV in the Theorem.\n",
    "--\n",
    "\n",
    "We start by making the following observations based on $c_4$, $c_6$, and $\\Delta$:\n",
    "\n",
    "If $v_2(ab)=v_2(b^2d-a^2)=0, v_2(d)=1$, then $(v_2(c_4),v_2(c_6),v_2(\\Delta))=(4,6,7)$.\n",
    "\n",
    "If $v_2(b)=v_2(b^2d-a^2)=1,v_2(a)>0, v_2(d)=1$, then $(v_2(c_4),v_2(c_6),v_2(\\Delta))=(5,\\geq8,9)$. Indeed, $3b^2d+a^2 \\equiv 2b^2d + 2b^2d + b^2d-a^2$ mod $4$ $= b^2d-a^2$ mod $4$ $=2$ mod$4$.\n",
    "\n",
    "If $v_2(ab)=v_2(b^2d-a^2)=1, d\\equiv3$ mod $4$, then $(v_2(c_4),v_2(c_6),v_2(\\Delta))=(5,7,8)$.\n",
    "\n",
    "Next, we consider the subcases found in the article. This requires us to consider three different Weierstrass models: $F_{T,j}$ where $j=1,2,3$. We define these models below and refer to them here as $Fj$:"
   ]
  },
  {
   "cell_type": "code",
   "execution_count": 0,
   "metadata": {
    "collapsed": false
   },
   "outputs": [
   ],
   "source": [
   ]
  },
  {
   "cell_type": "code",
   "execution_count": 7,
   "metadata": {
    "collapsed": false
   },
   "outputs": [
   ],
   "source": [
    "F1=E(a,b,d).change_weierstrass_model(2, 4, 2, 8)\n",
    "F2=E(a,b,d).change_weierstrass_model(1,b,b,a)\n",
    "F3=E(a,b,d).change_weierstrass_model(2,8,2,16)"
   ]
  },
  {
   "cell_type": "markdown",
   "metadata": {
    "collapsed": false
   },
   "source": [
    "**Subcase 1a.** Suppose $v_2(b^2d-a^2)=4$ with $v_2(a)=v_2(b)=1$. Note that $E_{C_{2}}$ is not a minimal model in this case. The invariants associated to a global minimal model of $E_{C_{2}}$ are:\n",
    "\n",
    "$c_4=(3b^2d + a^2)$\n",
    "\n",
    "$c_6=-a (9b^2d - a^2)$\n",
    "\n",
    "$\\Delta=\\frac{1}{64} b^2 d(b^2d - a^2)^2$"
   ]
  },
  {
   "cell_type": "code",
   "execution_count": 12,
   "metadata": {
    "collapsed": false
   },
   "outputs": [
    {
     "name": "stdout",
     "output_type": "stream",
     "text": [
      "c4\n",
      "3*b^2*d + a^2\n",
      "c6\n",
      "(-1) * a * (9*b^2*d - a^2)\n",
      "disc\n",
      "(1/64) * d * b^2 * (b^2*d - a^2)^2\n",
      "a3\n",
      "2\n",
      "a4\n",
      "(-1/16) * (b^2*d - a^2 - 16*a - 16)\n",
      "a6\n",
      "(-1/16) * (b^2*d - a^2 - 8*a)\n"
     ]
    }
   ],
   "source": [
    "K=F1\n",
    "print('c4')\n",
    "print(factor(K.c4()))\n",
    "print('c6')\n",
    "print(factor(K.c6()))\n",
    "print('disc')\n",
    "print(factor(K.discriminant()))\n",
    "print('a3')\n",
    "print(factor(K.a3()))\n",
    "print('a4')\n",
    "print(factor(K.a4()))\n",
    "print('a6')\n",
    "print(factor(K.a6()))"
   ]
  },
  {
   "cell_type": "markdown",
   "metadata": {
    "collapsed": false
   },
   "source": [
    "In particular, $v_2(a_3)=1$. By inspection, $v_2(a_4)\\geq1$. Now observe that if $b^2d-a^2\\equiv48$ mod $64$ with $a\\equiv 6$ mod $8$, then $$b^2d - a^2 - 16a - 16 \\equiv 48 -16a - 16 \\mod 64 = 48 - 32 - 16 \\mod 64 = 0 \\mod 64.$$\n",
    "Consequently, $v_2(a_4)\\geq2$ if $b^2d-a^2\\equiv48 \\mod 64$ with $a\\equiv 6\\mod 8$.\n",
    "Next, observe that $v_2(a_6)\\geq1$. If $b^2d-a^2-8a \\equiv 32 \\mod 64$, then  $v_2(a_6)=1$. For the cases (i) $b^2d-a^2 \\equiv 48 \\mod 64$ with $a\\equiv6\\mod 8$ and (ii) $b^2d-a^2 \\equiv 16 \\mod 64$ with $a\\equiv2\\mod 8$, we have that $v_2(a_6)\\geq2$.\n",
    "--"
   ]
  },
  {
   "cell_type": "markdown",
   "metadata": {
    "collapsed": false
   },
   "source": [
    "**Subcase 1b.** Suppose $v_2(ab)=v_2(b^2d-a^2)=0$ with $v_2(a)>0$. Then by inspection $$(v_2(c_4),v_2(c_6),v_2(\\Delta))=(4,\\geq7,6).$$ Next, we consider $F2$."
   ]
  },
  {
   "cell_type": "code",
   "execution_count": 10,
   "metadata": {
    "collapsed": false
   },
   "outputs": [
    {
     "name": "stdout",
     "output_type": "stream",
     "text": [
      "a3\n",
      "(2) * a\n",
      "a4\n",
      "(-1) * (b^2*d - a^2 - 2*a*b - 3*b^2)\n",
      "a6\n",
      "(-1) * (b^3*d - a^2*b - 2*a*b^2 - b^3 + a^2)\n"
     ]
    }
   ],
   "source": [
    "K=F2\n",
    "print('a3')\n",
    "print(factor(K.a3()))\n",
    "print('a4')\n",
    "print(factor(K.a4()))\n",
    "print('a6')\n",
    "print(factor(K.a6()))"
   ]
  },
  {
   "cell_type": "markdown",
   "metadata": {
    "collapsed": false
   },
   "source": [
    "By inspection, $v_2(a_3)\\geq2$ and $v_2(a_4)\\geq1$. Now observe that\n",
    "$a_6 \\equiv  -b^3d + b^3 $ mod $4$. This is $0$ mod $4$ if $d\\equiv 1 $ mod $4$ and it is $2$ mod $4$ if $d\\equiv 3 $ mod $4$.\n",
    "--"
   ]
  },
  {
   "cell_type": "markdown",
   "metadata": {
    "collapsed": false
   },
   "source": [
    "**Subcase 1c**. Suppose $v_2(b^2d-a^2)=5$ with $v_2(a)=v_2(b)=1$. Note that $E_{C_{2}}$ is not minimal in this case. The invariants associated to a global minimal model of $E_{C_{2}}$ are:\n",
    "\n",
    "$c_4=(3b^2d + a^2)$\n",
    "\n",
    "$c_6=-a (9b^2d - a^2)$\n",
    "\n",
    "$\\Delta=\\frac{1}{64} b^2 d(b^2d - a^2)^2$\n",
    "\n",
    "Then by inspection, $(v_2(c_4),v_2(c_6),v_2(\\Delta))=(4,\\geq7,6)$.\n",
    "--\n",
    "Moreover, F3 is a global minimal model for $E_{C_{2}}$ and we consider this curve below:"
   ]
  },
  {
   "cell_type": "code",
   "execution_count": 13,
   "metadata": {
    "collapsed": false
   },
   "outputs": [
    {
     "name": "stdout",
     "output_type": "stream",
     "text": [
      "c4\n",
      "3*b^2*d + a^2\n",
      "c6\n",
      "(-1) * a * (9*b^2*d - a^2)\n",
      "disc\n",
      "(1/64) * d * b^2 * (b^2*d - a^2)^2\n",
      "a3\n",
      "2^2\n",
      "a4\n",
      "(-1/16) * (b^2*d - a^2 - 32*a - 128)\n",
      "a6\n",
      "(-1/8) * (b^2*d - a^2 - 16*a - 32)\n"
     ]
    }
   ],
   "source": [
    "K=F3\n",
    "print('c4')\n",
    "print(factor(K.c4()))\n",
    "print('c6')\n",
    "print(factor(K.c6()))\n",
    "print('disc')\n",
    "print(factor(K.discriminant()))\n",
    "print('a3')\n",
    "print(factor(K.a3()))\n",
    "print('a4')\n",
    "print(factor(K.a4()))\n",
    "print('a6')\n",
    "print(factor(K.a6()))"
   ]
  },
  {
   "cell_type": "markdown",
   "metadata": {
    "collapsed": false
   },
   "source": [
    "**Case 2** - We now consider the cases corresponding to the Néron type $I_{0}^{*}$ in the Theorem. This requires us to consider three different Weierstrass models: $F_{T,j}$ where $j=4,5,6$. We define these models below and refer to them here as $Fj$:\n",
    "--"
   ]
  },
  {
   "cell_type": "code",
   "execution_count": 4,
   "metadata": {
    "collapsed": false
   },
   "outputs": [
   ],
   "source": [
    "F4=E(a,b,d).change_weierstrass_model(1, -a, 1, 2*d)\n",
    "F5=E(a,b,d).change_weierstrass_model(1,16*(b^2*d-a^2),2,8*(b^2*d-a^2))\n",
    "F6=E(a,b,d).change_weierstrass_model(2,(b^2*d-a^2)/8,2,(b^2*d-a^2)/4)"
   ]
  },
  {
   "cell_type": "markdown",
   "metadata": {
    "collapsed": false
   },
   "source": [
    "We now proceed by considering the three cases corresponding to $Fj$."
   ]
  },
  {
   "cell_type": "markdown",
   "metadata": {
    "collapsed": false
   },
   "source": [
    "**Subcase 2a.** Suppose $v_{2}(b)=1$ and either (i) $a\\equiv 3 \\mod4$ with $d\\equiv1,2 \\mod 4$ or (ii) $a\\equiv 1 \\mod4$ with $d\\equiv2,3 \\mod 4$. Next we consider the Weierstrass coefficients of $F4$:"
   ]
  },
  {
   "cell_type": "code",
   "execution_count": 7,
   "metadata": {
    "collapsed": false
   },
   "outputs": [
    {
     "name": "stdout",
     "output_type": "stream",
     "text": [
      "a1\n",
      "2\n",
      "a2\n",
      "(-1) * (a + 1)\n",
      "a3\n",
      "(4) * d\n",
      "a4\n",
      "(-1) * d * (b^2 + 4)\n",
      "a6\n",
      "(-1) * d * (-a*b^2 + 4*d)\n",
      "discriminant\n",
      "(64) * d * b^2 * (b^2*d - a^2)^2\n"
     ]
    }
   ],
   "source": [
    "K=F4\n",
    "print('a1')\n",
    "print(factor(K.a1()))\n",
    "print('a2')\n",
    "print(factor(K.a2()))\n",
    "print('a3')\n",
    "print(factor(K.a3()))\n",
    "print('a4')\n",
    "print(factor(K.a4()))\n",
    "print('a6')\n",
    "print(factor(K.a6()))\n",
    "print('discriminant')\n",
    "print(factor(K.discriminant()))"
   ]
  },
  {
   "cell_type": "markdown",
   "metadata": {
    "collapsed": false
   },
   "source": [
    "In particular, $v_2(a_1)=1, v_2(a_6)=3$.\n",
    "--\n",
    "$v_2(a_2)\\geq2$ if $a\\equiv 3 \\mod4$ and $v_2(a_2)=1$ if $a\\equiv 1 \\mod4$.\n",
    "--\n",
    "\n",
    "$v_2(a_3)=3$ if $d\\equiv 2 \\mod4$ and $v_2(a_3)=2$ if $d\\equiv 1,3 \\mod4$.\n",
    "--\n",
    "\n",
    "$v_2(a_4)=4$ if $d\\equiv 2 \\mod4$ and $v_2(a_4)=3$ if $d\\equiv 1,3 \\mod4$.\n",
    "--\n",
    "\n",
    "$v_2(\\Delta)=9$ if $d\\equiv 2 \\mod4$ and $v_2(\\Delta)=8$ if $d\\equiv 1,3 \\mod4$.\n",
    "--\n",
    "\n",
    "Consequently, $P(t)=t^3+a_{2,1}t^2+a_{4,2}t+a_{6,3}$ satisfies:\n",
    "--\n",
    "\n",
    "$P(t) \\equiv t^3 + 1 \\mod 2$ if $a\\equiv 3 \\mod4$ or $P(t) \\equiv t^3 + t^2 + 1 \\mod 2$ if $a\\equiv 1 \\mod4$, which concludes the verification of this subcase.\n",
    "--"
   ]
  },
  {
   "cell_type": "markdown",
   "metadata": {
    "collapsed": false
   },
   "source": [
    "**Subcase 2b** Suppose $v_2(b) = 0, v_2(b^2d-a^2)=2$. In particular, $a$ is odd and $d\\equiv1 \\mod8$. Next we consider the Weierstrass coefficients of $F5$:"
   ]
  },
  {
   "cell_type": "code",
   "execution_count": 8,
   "metadata": {
    "collapsed": false
   },
   "outputs": [
    {
     "name": "stdout",
     "output_type": "stream",
     "text": [
      "a1\n",
      "2^2\n",
      "a2\n",
      "(2) * (24*b^2*d - 24*a^2 + a - 2)\n",
      "a3\n",
      "(16) * (b^2*d - a^2)\n",
      "a4\n",
      "(b^2*d - a^2) * (768*b^2*d - 768*a^2 + 64*a - 33)\n",
      "a6\n",
      "(16) * (256*b^2*d - 256*a^2 + 32*a - 5) * (b^2*d - a^2)^2\n",
      "discriminant\n",
      "(64) * d * b^2 * (b^2*d - a^2)^2\n"
     ]
    }
   ],
   "source": [
    "K=F5\n",
    "print('a1')\n",
    "print(factor(K.a1()))\n",
    "print('a2')\n",
    "print(factor(K.a2()))\n",
    "print('a3')\n",
    "print(factor(K.a3()))\n",
    "print('a4')\n",
    "print(factor(K.a4()))\n",
    "print('a6')\n",
    "print(factor(K.a6()))\n",
    "print('discriminant')\n",
    "print(factor(K.discriminant()))"
   ]
  },
  {
   "cell_type": "markdown",
   "metadata": {
    "collapsed": false
   },
   "source": [
    "Observe that by the assumptions on $a,b,d$ imply that\n",
    "$$(v_2(a_1),v_2(a_2),v_2(a_3),v_2(a_4),v_2(a_6),v_2(\\Delta))=(2,1,6,2,8,10).$$\n",
    "Consequently,\n",
    "$$P(t)=t^3+a_{2,1}t^2+a_{4,2}t+a_{6,3} \\equiv t^3 + t^2 + t \\mod 2 = t(t^2+t+1) \\mod 2$$\n",
    "--"
   ]
  },
  {
   "cell_type": "markdown",
   "metadata": {
    "collapsed": false
   },
   "source": [
    "**Subcase 2c.** Suppose $v_2(b^2d-a^2)=6,a\\equiv 6 \\mod 8$. Then $v_2(b)=1$ and $d\\equiv 1  \\mod8$. Next, we consider the Weierstrass model $F6$ under these assumptions:"
   ]
  },
  {
   "cell_type": "code",
   "execution_count": 9,
   "metadata": {
    "collapsed": false
   },
   "outputs": [
    {
     "name": "stdout",
     "output_type": "stream",
     "text": [
      "a1\n",
      "2\n",
      "a2\n",
      "(1/32) * (3*b^2*d - 3*a^2 + 16*a - 32)\n",
      "a3\n",
      "(1/16) * (b^2*d - a^2)\n",
      "a4\n",
      "(1/1024) * (b^2*d - a^2) * (3*b^2*d - 3*a^2 + 32*a - 128)\n",
      "a6\n",
      "(1/32768) * (b^2*d - a^2 + 16*a - 96) * (b^2*d - a^2)^2\n",
      "discriminant\n",
      "(1/64) * d * b^2 * (b^2*d - a^2)^2\n"
     ]
    }
   ],
   "source": [
    "K=F6\n",
    "print('a1')\n",
    "print(factor(K.a1()))\n",
    "print('a2')\n",
    "print(factor(K.a2()))\n",
    "print('a3')\n",
    "print(factor(K.a3()))\n",
    "print('a4')\n",
    "print(factor(K.a4()))\n",
    "print('a6')\n",
    "print(factor(K.a6()))\n",
    "print('discriminant')\n",
    "print(factor(K.discriminant()))"
   ]
  },
  {
   "cell_type": "markdown",
   "metadata": {
    "collapsed": false
   },
   "source": [
    "By inspection,\n",
    "$$(v_2(a_1),v_2(a_3),v_2(\\Delta))=(1,2,8).$$\n",
    "Now observe that $a_2=\\frac{3(b^2d-a^2)}{32}+\\frac{a}{2} - 1 \\equiv 2 + 3 - 1  \\mod 4 = 0 \\mod 4.$ Thus $v_2(a_2)\\geq2$.\n",
    "--\n",
    "\n",
    "Observe that $a_4 = \\frac{b^2d - a^2}{64} (\\frac{3b^2d - 3a^2}{16} + 2a - 8)$. Since\n",
    "--\n",
    "\n",
    "$\\frac{3b^2d - 3a^2}{16} + 2a - 8 \\equiv 4 + 2\\cdot6 \\mod 8 = 0 \\mod 8$, we conclude that $v_2(a_4) \\geq3$.\n",
    "--\n",
    "Next, note that $a_6= \\frac{(b^2d - a^2)^2}{4096} (\\frac{b^2d - a^2}{8} + 2a - 12)$. Since\n",
    "--\n",
    "$\\frac{b^2d - a^2}{8} + 2a - 12 \\equiv 8 + 12 -12 \\mod 16 = 8 \\mod 16$, we get that $v_2(a_6)=3$.\n",
    "--\n",
    "Consequently,\n",
    "$$P(t)=t^3+a_{2,1}t^2+a_{4,2}t+a_{6,3} \\equiv t^3 + 1 \\mod 2 = (t+1)(t^2+t+1) \\mod 2.$$\n",
    "--"
   ]
  },
  {
   "cell_type": "code",
   "execution_count": 12,
   "metadata": {
    "collapsed": false
   },
   "outputs": [
    {
     "data": {
      "text/plain": [
       "(1/32768) * (b^2*d - a^2 + 16*a - 96) * (b^2*d - a^2)^2"
      ]
     },
     "execution_count": 12,
     "metadata": {
     },
     "output_type": "execute_result"
    }
   ],
   "source": [
    "factor(((b^2*d - a^2)/8 + 2*a - 12) * (b^2*d - a^2)^2/4096)"
   ]
  },
  {
   "cell_type": "markdown",
   "metadata": {
    "collapsed": false
   },
   "source": [
    "**Case 4.** We now consider the cases corresponding to Neron types $\\text{II}^*, \\text{III}^*, \\text{IV}^*$."
   ]
  },
  {
   "cell_type": "code",
   "execution_count": 4,
   "metadata": {
    "collapsed": false
   },
   "outputs": [
    {
     "name": "stdout",
     "output_type": "stream",
     "text": [
      "c4\n",
      "(16) * (3*b^2*d + a^2)\n",
      "c6\n",
      "(-64) * a * (9*b^2*d - a^2)\n",
      "disc\n",
      "(64) * d * b^2 * (b^2*d - a^2)^2\n"
     ]
    }
   ],
   "source": [
    "print('c4')\n",
    "print(factor(E(a,b,d).c4()))\n",
    "print('c6')\n",
    "print(factor(E(a,b,d).c6()))\n",
    "print('disc')\n",
    "print(factor(E(a,b,d).discriminant()))"
   ]
  },
  {
   "cell_type": "markdown",
   "metadata": {
    "collapsed": false
   },
   "source": [
    "We start by noting that\n",
    "$$(v_2(c_4),v_2(c_6),v_2(\\Delta) =\\left\\{ \\begin{array}{cl}(7,10,14) & \\text{if }v_2(b^2d-a^2)=3,v_2(a)=v_2(b)=1  \\\\ (7,\\geq11,15) & \\text{if } v_2(b)=v_2(d)=1,v_2(a)>1 .\\end{array}\\right. $$\n",
    "Indeed, if $v_2(b^2d-a^2)=3,v_2(a)=v_2(b)=1$, then $a^2 \\equiv b^2d-8 \\mod 16$. Thus\n",
    "$$\\frac{c_4}{16} = 3b^2d + a^2 \\equiv 4b^2d - 8 \\mod 16 = 8 \\mod 16$$\n",
    "$$\\frac{c_6}{-64a} = 9b^2d-a^2 \\equiv 8b^2d +8 \\mod 16 = 8 \\mod 16.$$\n",
    "By Papadopoulos, we conclude that the Neron type is $\\text{III}^*$ if $$v_2(b^2d-a^2)=3,v_2(a)=v_2(b)=1.$$\n",
    "If $v_2(b)=v_2(d)=1,v_2(a)>1$, then Papadopoulos implies that the Neron type is $\\text{III}^*$.\n",
    "--"
   ]
  },
  {
   "cell_type": "markdown",
   "metadata": {
    "collapsed": false
   },
   "source": [
    "We conclude by considering the remaining cases for Case 4 found in Theorem 3.2. We start by listing the Weierstrass models $F_{T,j}$ where $j=4,6,9,12$. Here, we will simply denote these models by $Fj$."
   ]
  },
  {
   "cell_type": "code",
   "execution_count": 5,
   "metadata": {
    "collapsed": false
   },
   "outputs": [
   ],
   "source": [
    "F4=E(a,b,d).change_weierstrass_model(1, -a, 1, 2*d)\n",
    "F6=E(a,b,d).change_weierstrass_model(2,(b^2*d-a^2)/8,2,(b^2*d-a^2)/4)\n",
    "F9=E(a,b,d).change_weierstrass_model(1,-a+(b^2*d*a)/2,-b*d-a,b)\n",
    "F12=E(a,b,d).change_weierstrass_model(1, a + 2, 3*a^2 + 12*a + 12, 4)"
   ]
  },
  {
   "cell_type": "markdown",
   "metadata": {
    "collapsed": false
   },
   "source": [
    "**Case 4a.** Suppose $v_2(b)=1, a,d\\equiv 3 \\mod 4$. This corresponds to the Weierstrass model $F4$. Below, are its Weierstrass coefficients and discriminant and we continue with an analysis of these quantities to establish the claimed values in (3.6). We also verify the valuations of $c_4$ and $c_6$ as given below (3.6)."
   ]
  },
  {
   "cell_type": "code",
   "execution_count": 6,
   "metadata": {
    "collapsed": false
   },
   "outputs": [
    {
     "name": "stdout",
     "output_type": "stream",
     "text": [
      "a1\n",
      "2\n",
      "a2\n",
      "(-1) * (a + 1)\n",
      "a3\n",
      "(4) * d\n",
      "a4\n",
      "(-1) * d * (b^2 + 4)\n",
      "a6\n",
      "(-1) * d * (-a*b^2 + 4*d)\n",
      "c4\n",
      "(16) * (3*b^2*d + a^2)\n",
      "c6\n",
      "(-64) * a * (9*b^2*d - a^2)\n",
      "disc\n",
      "(64) * d * b^2 * (b^2*d - a^2)^2\n"
     ]
    }
   ],
   "source": [
    "K=F4\n",
    "print('a1')\n",
    "print(factor(K.a1()))\n",
    "print('a2')\n",
    "print(factor(K.a2()))\n",
    "print('a3')\n",
    "print(factor(K.a3()))\n",
    "print('a4')\n",
    "print(factor(K.a4()))\n",
    "print('a6')\n",
    "print(factor(K.a6()))\n",
    "print('c4')\n",
    "print(factor(E(a,b,d).c4()))\n",
    "print('c6')\n",
    "print(factor(E(a,b,d).c6()))\n",
    "print('disc')\n",
    "print(factor(E(a,b,d).discriminant()))"
   ]
  },
  {
   "cell_type": "markdown",
   "metadata": {
    "collapsed": false
   },
   "source": [
    "Under the assumptions given, we have that\n",
    "$$(v_2(a_1),v_2(a_2),v_2(a_3),v_2(a_4),v_2(a_6),,v_2(c_4),v_2(c_6),v_2(\\Delta))=(1,\\geq2,2,3,\\geq 4, 4, 6, 8).$$\n",
    "Moreover,\n",
    "$$\\frac{a_6}{-4d} \\equiv -a + d \\mod 8.$$\n",
    "Note that $a,d \\equiv 3 \\mod 4$, we have that $\\frac{a_6}{-4d} \\equiv 4,0 \\mod 8$. In fact, $d-a \\equiv 0 \\mod 8$ is equivalent to $ad \\equiv 1 \\mod 8$. This leads us to the following:\n",
    "$$v_2(a_6) =\\left\\{ \\begin{array}{cl}\\geq5 & \\text{if }ad\\equiv 1 \\mod8  \\\\ 4 & \\text{if } ad\\equiv5\\mod8 .\\end{array}\\right. $$\n",
    "It follows that the Neron type is $\\text{IV}^*$. The claimed Tamagawa number now follows since\n",
    "$$t^2+a_{3,2}-a_{6,4} \\equiv t^2 + t + a_{6,4} \\mod 2.$$\n",
    "--"
   ]
  },
  {
   "cell_type": "markdown",
   "metadata": {
    "collapsed": false
   },
   "source": [
    "**Case 4b.** Suppose $v_2(b^2d-a^2)=7, a\\equiv 2 \\mod 8$. Note that this implies that $v_2(a)=v_2(b)=1$ and $d\\equiv 1 \\mod 16$. This corresponds to the Weierstrass model $F6$. Below, are its Weierstrass coefficients and discriminant and we continue with an analysis of these quantities to establish the claimed values in (3.6). We also verify the valuations of $c_4$ and $c_6$ as given below (3.6)."
   ]
  },
  {
   "cell_type": "code",
   "execution_count": 8,
   "metadata": {
    "collapsed": false
   },
   "outputs": [
    {
     "name": "stdout",
     "output_type": "stream",
     "text": [
      "a1\n",
      "2\n",
      "a2\n",
      "(1/32) * (3*b^2*d - 3*a^2 + 16*a - 32)\n",
      "a3\n",
      "(1/16) * (b^2*d - a^2)\n",
      "a4\n",
      "(1/1024) * (b^2*d - a^2) * (3*b^2*d - 3*a^2 + 32*a - 128)\n",
      "a6\n",
      "(1/32768) * (b^2*d - a^2 + 16*a - 96) * (b^2*d - a^2)^2\n",
      "c4\n",
      "3*b^2*d + a^2\n",
      "c6\n",
      "(-1) * a * (9*b^2*d - a^2)\n",
      "disc\n",
      "(1/64) * d * b^2 * (b^2*d - a^2)^2\n"
     ]
    }
   ],
   "source": [
    "K=F6\n",
    "print('a1')\n",
    "print(factor(K.a1()))\n",
    "print('a2')\n",
    "print(factor(K.a2()))\n",
    "print('a3')\n",
    "print(factor(K.a3()))\n",
    "print('a4')\n",
    "print(factor(K.a4()))\n",
    "print('a6')\n",
    "print(factor(K.a6()))\n",
    "print('c4')\n",
    "print(factor(K.c4()))\n",
    "print('c6')\n",
    "print(factor(K.c6()))\n",
    "print('disc')\n",
    "print(factor(K.discriminant()))"
   ]
  },
  {
   "cell_type": "markdown",
   "metadata": {
    "collapsed": false
   },
   "source": [
    "Under the assumptions given, we have that\n",
    "$$(v_2(a_1),v_2(a_3),v_2(\\Delta))=(1,3,10).$$\n",
    "Now observe that\n",
    "$$a_2 = \\frac{3(b^2d-a^2)}{32} + \\frac{a}{2} - 1 \\equiv 0 + 1 - 1 \\mod4 = 0 \\mod 4$$\n",
    "$$a_4 = \\frac{b^2d-a^2}{2^7} (\\frac{3(b^2d-a^2)}{8} + 4a - 16) \\quad \\Longrightarrow \\quad \\frac{2^7a_4}{b^2d-a^2} \\equiv 8 \\mod 16$$\n",
    "$$a_6 =\\frac{(b^2d-a^2)^2}{2^{14}} (\\frac{b^2d-a^2}{2} + 16a - 64) \\quad \\Longrightarrow \\quad \\frac{2^{14}a_6}{(b^2d-a^2)^2} \\equiv 16a \\mod 64 = 32 \\mod 64$$\n",
    "$$c_4 = b^2d-a^2 +2(b^2d+a^2) \\equiv 2(b^2d+a^2) \\mod 32 = 16 \\mod 32 \\text{ since } b^2d+a^2 \\equiv 4d+4 \\mod 16 = 8 \\mod 16$$\n",
    "$$\\frac{c_6}{-a} = 8b^2d+b^2d - a^2 \\equiv 8b^2d \\mod 64 = 32 \\mod 64.$$\n",
    "By the above, we conclude that\n",
    "$$(v_2(a_2),v_2(a_4),v_2(a_6),v_2(c_4),v_2(c_6))=(\\geq 2, 3, 5, 4, 6).$$\n",
    "--"
   ]
  },
  {
   "cell_type": "markdown",
   "metadata": {
    "collapsed": false
   },
   "source": [
    "**Case 4c.** Suppose $v_2(b)=2, v_2(ad)=0, a\\equiv 3 \\mod 4$. This corresponds to the Weierstrass model $F9$. Below, are its Weierstrass coefficients and discriminant and we continue with an analysis of these quantities to establish the claimed values in (3.6). We also verify the valuations of $c_4$ and $c_6$ as given below (3.6)."
   ]
  },
  {
   "cell_type": "code",
   "execution_count": 10,
   "metadata": {
    "collapsed": false
   },
   "outputs": [
    {
     "name": "stdout",
     "output_type": "stream",
     "text": [
      "a1\n",
      "(-2) * (b*d + a)\n",
      "a2\n",
      "(-1/2) * (-3*a*b^2*d + 2*b^2*d^2 + 4*a*b*d + 2*a^2 + 2*a)\n",
      "a3\n",
      "(2) * b\n",
      "a4\n",
      "(1/4) * b * (3*a^2*b^3*d^2 - 4*a^2*b*d + 4*b*d + 8*a)\n",
      "a6\n",
      "(1/8) * b^2 * (a^3*b^4*d^3 - 2*a^3*b^2*d^2 - 4*a*b^2*d^2 + 8*a*d - 8)\n",
      "c4\n",
      "(16) * (3*b^2*d + a^2)\n",
      "c6\n",
      "(-64) * a * (9*b^2*d - a^2)\n",
      "disc\n",
      "(64) * d * b^2 * (b^2*d - a^2)^2\n"
     ]
    }
   ],
   "source": [
    "K=F9\n",
    "print('a1')\n",
    "print(factor(K.a1()))\n",
    "print('a2')\n",
    "print(factor(K.a2()))\n",
    "print('a3')\n",
    "print(factor(K.a3()))\n",
    "print('a4')\n",
    "print(factor(K.a4()))\n",
    "print('a6')\n",
    "print(factor(K.a6()))\n",
    "print('c4')\n",
    "print(factor(K.c4()))\n",
    "print('c6')\n",
    "print(factor(K.c6()))\n",
    "print('disc')\n",
    "print(factor(K.discriminant()))"
   ]
  },
  {
   "cell_type": "markdown",
   "metadata": {
    "collapsed": false
   },
   "source": [
    "Under the assumptions given, we have that\n",
    "\n",
    "$$(v_2(a_1),v_2(a_3),v_2(c_4),v_2(c_6),v_2(\\Delta))=(1,3,4,6,10).$$\n",
    "\n",
    "Now observe that\n",
    "$$a_2 =\\frac{3ab^2d}{2} - b^2d^2 - 2abd - a^2 - a \\equiv 0 + 0 + 0 - 1 - 3 \\mod 4 = 0 \\mod 4$$\n",
    "$$\\frac{a_4}{b} = \\frac{3a^2b^3d^2}{4} - a^2bd + bd + 2a \\equiv 0 + 0 + 0 + 2 \\mod 4 = 2 \\mod 4$$\n",
    "$$\\frac{a_6}{b^2} = \\frac{a^3b^4d^3}{8} - \\frac{a^3b^2d^2}{4} - \\frac{ab^2d^2}{2} + ad - 1 \\equiv 0 +0 + 0 + 3d - 1 \\mod 4 = 0\\text{ or }2 \\mod 4.$$\n",
    "Consequently,\n",
    "$$(v_2(a_2),v_2(a_4),v_2(a_6))=(\\geq2, 3, \\geq 5).$$"
   ]
  },
  {
   "cell_type": "markdown",
   "metadata": {
    "collapsed": false
   },
   "source": [
    "**Case 4d.** Suppose $v_2(b)=2,v_2(a)=0,v_2(d)=1, a\\equiv 3 \\mod 4$. This corresponds to the Weierstrass model $F12$. Below, are its Weierstrass coefficients and discriminant and we continue with an analysis of these quantities to establish the claimed values in (3.6). We also verify the valuations of $c_4$ and $c_6$ as given below (3.6)."
   ]
  },
  {
   "cell_type": "code",
   "execution_count": 11,
   "metadata": {
    "collapsed": false
   },
   "outputs": [
    {
     "name": "stdout",
     "output_type": "stream",
     "text": [
      "a1\n",
      "(6) * (a + 2)^2\n",
      "a2\n",
      "(-1) * (9*a^4 + 72*a^3 + 216*a^2 + 283*a + 138)\n",
      "a3\n",
      "2^3\n",
      "a4\n",
      "(-1) * (b^2*d + 16*a^2 + 76*a + 84)\n",
      "a6\n",
      "(-1) * (a*b^2*d - 4*a^3 + 2*b^2*d - 16*a^2 - 20*a + 8)\n",
      "c4\n",
      "(16) * (3*b^2*d + a^2)\n",
      "c6\n",
      "(-64) * a * (9*b^2*d - a^2)\n",
      "disc\n",
      "(64) * d * b^2 * (b^2*d - a^2)^2\n"
     ]
    }
   ],
   "source": [
    "K=F12\n",
    "print('a1')\n",
    "print(factor(K.a1()))\n",
    "print('a2')\n",
    "print(factor(K.a2()))\n",
    "print('a3')\n",
    "print(factor(K.a3()))\n",
    "print('a4')\n",
    "print(factor(K.a4()))\n",
    "print('a6')\n",
    "print(factor(K.a6()))\n",
    "print('c4')\n",
    "print(factor(K.c4()))\n",
    "print('c6')\n",
    "print(factor(K.c6()))\n",
    "print('disc')\n",
    "print(factor(K.discriminant()))"
   ]
  },
  {
   "cell_type": "markdown",
   "metadata": {
    "collapsed": false
   },
   "source": [
    "Under the assumptions given, we have that\n",
    "\n",
    "$$(v_2(a_1),v_2(a_3),v_2(c_4),v_2(c_6),v_2(\\Delta))=(1,3,4,6,11).$$\n",
    "\n",
    "Now observe that\n",
    "$$a_2 \\equiv 3a^4 + a + 2 \\mod 4 = 3 + 3 + 2 \\mod 4 = 0 \\mod 4$$\n",
    "$$a_4 \\equiv 15b^2d + 4a +12 \\mod 8 = 0 + 12 + 12 \\mod 16 = 8 \\mod 16 \\text{ since } 4a\\equiv 12 \\mod 16$$\n",
    "$$a_6 \\equiv 4a^3 + 16a^2 +20a +24 \\mod32 = a(4a^2+20) +8 \\mod32 =24a +8 \\mod 32 = 16 \\mod 32.$$\n",
    "\n",
    "Thus,\n",
    "$$(v_2(a_2),v_2(a_4),v_2(a_6))=(\\geq2, 3, 4).$$"
   ]
  },
  {
   "cell_type": "code",
   "execution_count": 0,
   "metadata": {
    "collapsed": false
   },
   "outputs": [
   ],
   "source": [
   ]
  }
 ],
 "metadata": {
  "kernelspec": {
   "display_name": "SageMath 9.1",
   "language": "sagemath",
   "metadata": {
    "cocalc": {
     "description": "Open-source mathematical software system",
     "priority": 10,
     "url": "https://www.sagemath.org/"
    }
   },
   "name": "sage-9.1",
   "resource_dir": "/ext/jupyter/kernels/sage-9.1"
  },
  "language_info": {
   "codemirror_mode": {
    "name": "ipython",
    "version": 3
   },
   "file_extension": ".py",
   "mimetype": "text/x-python",
   "name": "python",
   "nbconvert_exporter": "python",
   "pygments_lexer": "ipython3",
   "version": "3.7.3"
  }
 },
 "nbformat": 4,
 "nbformat_minor": 4
}