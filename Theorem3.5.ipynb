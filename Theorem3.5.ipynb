{
 "cells": [
  {
   "cell_type": "code",
   "execution_count": 4,
   "metadata": {
    "collapsed": false
   },
   "outputs": [
   ],
   "source": [
    "from sage.schemes.elliptic_curves.weierstrass_morphism import *\n",
    "S.<a,b,p,l,u,v,c,d,r,s,t,k,x,y,e>=QQ[]"
   ]
  },
  {
   "cell_type": "code",
   "execution_count": 5,
   "metadata": {
    "collapsed": false
   },
   "outputs": [
   ],
   "source": [
    "def Eorig(c,d,e,b):\n",
    "    A=c^3*d^2*e\n",
    "    return EllipticCurve(S.fraction_field(),[A,0,A^2*b,0,0])\n",
    "def F(c,d,e,b):\n",
    "    return Eorig(c,d,e,b).change_ring(QQ)\n",
    "def vp(n,p):\n",
    "    try:\n",
    "        log(1/Qp(p)(n).abs(),p)\n",
    "    except ZeroDivisionError:\n",
    "            return 'inf'\n",
    "    else:\n",
    "        return log(1/Qp(p)(n).abs(),p)\n",
    "def PolyMod(f,n): ##Reduces a polynomial mod n\n",
    "    R = IntegerModRing(n)\n",
    "    S.<a,b,p,l,u,v,c,d,r,s,t,x,y,e>=R[]\n",
    "    return S(f)\n",
    "def vals(G):\n",
    "\tprint(\"c4\")\n",
    "\tprint(factor(G.c4()))\n",
    "\tprint(\"c6\")\n",
    "\tprint(factor(G.c6()))\n",
    "\tprint(\"Disc\")\n",
    "\tprint(factor(G.discriminant()))\n",
    "\tprint('a1')\n",
    "\tprint(factor(G.a1()))\n",
    "\tprint('a2')\n",
    "\tprint(factor(G.a2()))\n",
    "\tprint('a3')\n",
    "\tprint(factor(G.a3()))\n",
    "\tprint('a4')\n",
    "\tprint(factor(G.a4()))\n",
    "\tprint('a6')\n",
    "\tprint(factor(G.a6()))"
   ]
  },
  {
   "cell_type": "markdown",
   "metadata": {
    "collapsed": false
   },
   "source": [
    "The curve E(a,b,d) corresponds to $E_{C_{3}}=E_{C_{3}}(a,b,d)$ in the paper where $a=c^{3}d^{2}e$ where $d$ and $e$ are positive relatively prime squarefree integers.\n",
    "\n",
    "Below, we verify Theorem 3.5. We use the Weierstrass model F1, F2 which is given below:"
   ]
  },
  {
   "cell_type": "code",
   "execution_count": 39,
   "metadata": {
    "collapsed": false
   },
   "outputs": [
   ],
   "source": [
    "F1=Eorig(c,d,e,b).change_weierstrass_model(c^2*d,(c^2*d)^2*p^2,0,0)\n",
    "F2=Eorig(c,d,e,b).change_weierstrass_model(c^2*d,-c^6*d^4*e^2/9,-c^3*d^2*e,c^9*d^6*e^3/27)"
   ]
  },
  {
   "cell_type": "markdown",
   "metadata": {
    "collapsed": false
   },
   "source": [
    "**Case 1.** We consider the cases when Nèron type II or III. This is **Case 1 in the proof of Theorem 3.5.**\n",
    "\n",
    "**Case 1a.** $v_3(a-27b) = 4$.  Note that this implies that $v_3(a) = 3$, $v_3(c)=1$ and $v_3(d)=v_3(e)=0$."
   ]
  },
  {
   "cell_type": "code",
   "execution_count": 10,
   "metadata": {
    "collapsed": false
   },
   "outputs": [
    {
     "name": "stdout",
     "output_type": "stream",
     "text": [
      "c * d^2 * e^3 * (c^3*d^2*e - 24*b)\n",
      "(-1) * d^2 * e^4 * (c^6*d^4*e^2 - 36*b*c^3*d^2*e + 216*b^2)\n",
      "b^3 * d^4 * e^8 * (c^3*d^2*e - 27*b)\n"
     ]
    }
   ],
   "source": [
    "'c4'\n",
    "print(factor(E(c,d,e,b).c4()))\n",
    "'c6'\n",
    "print(factor(E(c,d,e,b).c6()))\n",
    "'disc'\n",
    "print(factor(E(c,d,e,b).discriminant()))"
   ]
  },
  {
   "cell_type": "markdown",
   "metadata": {
    "collapsed": false
   },
   "source": [
    "<span style=\"color:blue\"> In this case, by inspection we get $(v_3(c_4), v_3(c_6), v_3(\\Delta))=(1 + v_3(c^3d^2e - 24b),3,4)=(2,3,4)$. Hence, by Papadopoulos, we get the  Nèron type II and the other local data in Case 1 of Theorem 3.5 when $v_3(a-27b) = 4$."
   ]
  },
  {
   "cell_type": "markdown",
   "metadata": {
    "collapsed": false
   },
   "source": [
    "**Case 1b.** $v_3(a) \\equiv 0 \\mod 3$ and $v_3(a-27b) = 3$.  Note that this implies that $v_3(c) \\ge 1$ and $v_3(d)=v_3(e)=0$."
   ]
  },
  {
   "cell_type": "code",
   "execution_count": 28,
   "metadata": {
    "collapsed": false
   },
   "outputs": [
    {
     "name": "stdout",
     "output_type": "stream",
     "text": [
      "c * d^2 * e^3 * (c^3*d^2*e - 24*b)\n",
      "(-1) * d^2 * e^4 * (c^6*d^4*e^2 - 36*b*c^3*d^2*e + 216*b^2)\n",
      "b^3 * d^4 * e^8 * (c^3*d^2*e - 27*b)\n",
      "(1/729) * (c^12*d^12*e^12 - 72*b*c^9*d^10*e^11 + 1728*b^2*c^6*d^8*e^10 - 15552*b^3*c^3*d^6*e^9 + 46656*b^4*d^4*e^8 - 243*c^4*d^4*e^4 + 5832*b*c*d^2*e^3 + 1458)\n",
      "b^4*d^4*e^8 + 8*b*c*d^2*e^3 + 2\n"
     ]
    }
   ],
   "source": [
    "'c4'\n",
    "print(factor(E(c,d,e,b).c4()))\n",
    "'c6'\n",
    "print(factor(E(c,d,e,b).c6()))\n",
    "'disc'\n",
    "print(factor(E(c,d,e,b).discriminant()))\n",
    "\n",
    "print(factor((E(c,d,e,b).c6()/27)^2 - E(c,d,e,b).c4()/3 + 2))\n",
    "print(PolyMod(64*b^4*d^4*e^8 + 8*b*c*d^2*e^3 + 2,9))"
   ]
  },
  {
   "cell_type": "markdown",
   "metadata": {
    "collapsed": false
   },
   "source": [
    "<span style=\"color:blue\"> In this case, by inspection we get\n",
    "$$(v_3(c_4), v_3(c_6), v_3(\\Delta))=(v_3(c) + 1,3,3)=(\\ge2,3,3).$$\n",
    "Hence by Papadopoulos we get the Nèron type II or III. Next, we verify the supplementary condition:\n",
    "$$(c_6/27)^2 - c_4/3 + 2=(1/729)(c^{12}d^{12}e^{12} - 72bc^9d^{10}e^{11} + 1728b^2c^6d^8e^{10} - 15552b^3c^3d^6e^9 + 46656b^4d^4e^8 - 243c^4d^4e^4 + 5832bcd^2e^3 + 1458).$$\n",
    "This gives the following modulo $9$:\n",
    "$$(c_6/27)^2 - c_4/3 + 2 \\equiv 0-0+0-0 +64b^4d^4e^8 - 0 + 8bcd^2e^3 + 2 \\equiv bd^2e^3(b^3d^2e^5-c)+2 \\mod 9.$$\n",
    "The other local data in Case 1 of Theorem 3.5 when $v_3(a) \\equiv 0 \\mod 3$ and $v_3(a-27b) = 3$."
   ]
  },
  {
   "cell_type": "markdown",
   "metadata": {
    "collapsed": false
   },
   "source": [
    "**Case 2.** Case when E_T has Neron type IV and $\\rm{IV}^*$. This is **Case 2 in the proof of Theorem 3.5.**\n",
    "\n",
    "**Subcase 2a.** For any prime $p\\neq 3$ with $v_p(a) \\equiv  2 \\mod 3$. Then $v_p(c)>=0, v_p(d)=1$, and $v_p(e)=0$. We consider the Weierstrass model F1"
   ]
  },
  {
   "cell_type": "code",
   "execution_count": 58,
   "metadata": {
    "collapsed": false
   },
   "outputs": [
    {
     "name": "stdout",
     "output_type": "stream",
     "text": [
      "c4\n",
      "(c^3*d^2*e - 24*b)*c*d^2*e^3\n",
      "c6\n",
      "-(c^6*d^4*e^2 - 36*b*c^3*d^2*e + 216*b^2)*d^2*e^4\n",
      "Disc\n",
      "(c^3*d^2*e - 27*b)*b^3*d^4*e^8\n",
      "a1\n",
      "c*d*e\n",
      "a2\n",
      "3*p^2\n",
      "a3\n",
      "(c*p^2 + b*e)*d*e\n",
      "a4\n",
      "3*p^4\n",
      "a6\n",
      "p^6\n"
     ]
    }
   ],
   "source": [
    "K=F1\n",
    "vals(K)"
   ]
  },
  {
   "cell_type": "markdown",
   "metadata": {
    "collapsed": false
   },
   "source": [
    "<span style=\"color:blue\"> By inspection, for the above conditions we get\n",
    "$$(v_p(a_1),v_p(a_2),v_p(a_3),v_p(a_4),v_p(a_6),v_p(\\Delta))=(1+v_p(c),2+v_p(3),1,4+v_p(3),6,4 + v_p(a-27b))=(\\ge1,\\ge2,1,\\ge4,6,4 + v_p(a-27b)).$$\n",
    "Also, we have $v_p(b_6)=2$ and $v_p(b_8)\\ge 3$. So, the Nèron type is IV at $p$.\n",
    "The other local data in Subcase 2a of Theorem 3.5 now follows from above computation.\n",
    "</span>"
   ]
  },
  {
   "cell_type": "markdown",
   "metadata": {
    "collapsed": false
   },
   "source": [
    "**Subcase 2b.** For any prime $p\\neq 3$ with $v_p(a) \\equiv 1 \\mod 3$. Then $v_p(c)>=0, v_p(d)=0$, and $v_p(e)=1$.  We consider the Weierstrass model F1"
   ]
  },
  {
   "cell_type": "code",
   "execution_count": 59,
   "metadata": {
    "collapsed": false
   },
   "outputs": [
    {
     "name": "stdout",
     "output_type": "stream",
     "text": [
      "c4\n",
      "(c^3*d^2*e - 24*b)*c*d^2*e^3\n",
      "c6\n",
      "-(c^6*d^4*e^2 - 36*b*c^3*d^2*e + 216*b^2)*d^2*e^4\n",
      "Disc\n",
      "(c^3*d^2*e - 27*b)*b^3*d^4*e^8\n",
      "a1\n",
      "c*d*e\n",
      "a2\n",
      "3*p^2\n",
      "a3\n",
      "(c*p^2 + b*e)*d*e\n",
      "a4\n",
      "3*p^4\n",
      "a6\n",
      "p^6\n",
      "b6\n",
      "c^2*d^2*e^2*p^4 + 2*b*c*d^2*e^3*p^2 + b^2*d^2*e^4 + 4*p^6\n",
      "b8\n",
      "(c^2*d^2*e^2*p^4 + 3*b*c*d^2*e^3*p^2 + 3*b^2*d^2*e^4 + 3*p^6)*p^2\n"
     ]
    }
   ],
   "source": [
    "K=F1\n",
    "vals(K)\n",
    "print('b6')\n",
    "print(factor(K.b6()))\n",
    "print('b8')\n",
    "print(factor(K.b8()))"
   ]
  },
  {
   "cell_type": "markdown",
   "metadata": {
    "collapsed": false
   },
   "source": [
    "<span style=\"color:blue\"> By inspection, for the above conditions we get\n",
    "$$(v_p(a_1),v_p(a_2),v_p(a_3),v_p(a_4),v_p(a_6),v_p(\\Delta))=(1+v_p(c),2+v_p(3),2,4+v_p(3),6,8 + v_p(a-27b))=(\\ge1, \\ge 2,2, \\ge 4,6,8 + v_p(a-27b)).$$\n",
    "Consequently,\n",
    "$$P(t)=t^3+a_{2,1}t^2+a_{4,2}t+a_{6,3} \\equiv t^3 \\mod p$$\n",
    "and \n",
    "$$t^2+a_{3,2}t-a_{6,4} \\equiv t(t+a_{3,2}) \\mod p.$$\n",
    "So, by Tate's algorithm the Nèron type is $\\rm{IV}^*$ at $p$.\n",
    "The other local data in Subcase 2b of Theorem 3.5 now follows from above computation."
   ]
  },
  {
   "cell_type": "markdown",
   "metadata": {
    "collapsed": false
   },
   "source": [
    "**Subcase 2c.** $p=3$ and $v_3(a-27b) = 5$. Note that this implies $v_3(a) = 3$ and thus $v_3(c) = 1, v_3(d)=v_3(e)=0$. We consider the Weierstrass model F2."
   ]
  },
  {
   "cell_type": "code",
   "execution_count": 61,
   "metadata": {
    "collapsed": false
   },
   "outputs": [
    {
     "name": "stdout",
     "output_type": "stream",
     "text": [
      "c4\n",
      "(c^3*d^2*e - 24*b)*c*d^2*e^3\n",
      "c6\n",
      "-(c^6*d^4*e^2 - 36*b*c^3*d^2*e + 216*b^2)*d^2*e^4\n",
      "Disc\n",
      "(c^3*d^2*e - 27*b)*b^3*d^4*e^8\n",
      "a1\n",
      "-c*d*e\n",
      "a2\n",
      "-1/3*c^2*d^2*e^2\n",
      "a3\n",
      "-1/27*(c^3*d^2*e - 27*b)*d*e^2\n",
      "a4\n",
      "-1/27*(c^3*d^2*e - 27*b)*c*d^2*e^3\n",
      "a6\n",
      "1/729*(c^3*d^2*e - 27*b)*c^3*d^4*e^5\n",
      "b6\n",
      "1/729*(5*c^3*d^2*e - 27*b)*(c^3*d^2*e - 27*b)*d^2*e^4\n",
      "b8\n",
      "-1/2187*(2*c^3*d^2*e - 27*b)*(c^3*d^2*e - 27*b)*c^2*d^4*e^6\n"
     ]
    }
   ],
   "source": [
    "K=F2\n",
    "vals(K)\n",
    "print('b6')\n",
    "print(factor(K.b6()))\n",
    "print('b8')\n",
    "print(factor(K.b8()))"
   ]
  },
  {
   "cell_type": "markdown",
   "metadata": {
    "collapsed": false
   },
   "source": [
    "<span style=\"color:blue\"> \n",
    "By inspection, for the above conditions we get\n",
    "$$(v_3(a_1),v_3(a_2),v_3(a_3),v_3(a_4),v_3(a_6),v_3(\\Delta))=(1,1,2,3,2,5).$$\n",
    "Also, we have $v_3(b_6)=2$ and $v_3(b_8)\\ge 3$. So, the Nèron type is IV at $3$.\n",
    "For Tamagawa number not that\n",
    "$$t^2+a_{3,1}t-a_{6,2} \\equiv t^2 - a_{6,2} = t^2-a(a - 27b)/3^8 \\mod 3$$\n",
    "splits if $a(a - 27b)/3^8\\equiv 1 \\mod 3$. So, the local data in Subcase 2c of Theorem 3.5 now follows from above computation."
   ]
  },
  {
   "cell_type": "markdown",
   "metadata": {
    "collapsed": false
   },
   "source": [
    "**Case 3.** Suppose $v_3(a-27b)\\ge 6$ In particular, $v_3(c) = 1$ and $v_3(d)=v_3(e)=0$. In this case also we consider the Weierstrass model F2. "
   ]
  },
  {
   "cell_type": "code",
   "execution_count": 62,
   "metadata": {
    "collapsed": false
   },
   "outputs": [
    {
     "name": "stdout",
     "output_type": "stream",
     "text": [
      "c4\n",
      "(c^3*d^2*e - 24*b)*c*d^2*e^3\n",
      "c6\n",
      "-(c^6*d^4*e^2 - 36*b*c^3*d^2*e + 216*b^2)*d^2*e^4\n",
      "Disc\n",
      "(c^3*d^2*e - 27*b)*b^3*d^4*e^8\n",
      "a1\n",
      "-c*d*e\n",
      "a2\n",
      "-1/3*c^2*d^2*e^2\n",
      "a3\n",
      "-1/27*(c^3*d^2*e - 27*b)*d*e^2\n",
      "a4\n",
      "-1/27*(c^3*d^2*e - 27*b)*c*d^2*e^3\n",
      "a6\n",
      "1/729*(c^3*d^2*e - 27*b)*c^3*d^4*e^5\n"
     ]
    }
   ],
   "source": [
    "K=F2\n",
    "vals(K)"
   ]
  },
  {
   "cell_type": "markdown",
   "metadata": {
    "collapsed": false
   },
   "source": [
    "<span style=\"color:blue\"> \n",
    "By inspection, for the above conditions we get\n",
    "$$(v_3(c_4),v_3(c_6),v_3(\\Delta))=(2,3,v_3(a-27b)).$$\n",
    "In this case we have the Nèron type $\\rm{I}_n^*$ with $n=v_3(a-27b)-6$.\n",
    "Also, $$(v_3(a_1),v_3(a_2),v_3(a_3),v_3(a_4),v_3(a_6))=(1,1,v_3(a-27b)-3,v_3(a-27b)-2,v_3(a-27b)-3)=(1,1,n+3,n+4,n+3).$$\n",
    "When $n=0$, we note that $$P(t)=t^3+a_{2,1}t^2+a_{4,2}t+a_{6,3} \\equiv t^3-t^2+a(a - 27b)/3^9\\mod 3$$\n",
    "splits if $a(a - 27b)/3^9\\equiv 2 \\mod 3$.\n",
    "When $n\\ge 1$, we note that\n",
    "$$t^2+a_{3,\\frac{n+3}{2}}t-a_{6,n+3} \\equiv t^2-a(a - 27b)3^{-(n+9)} \\mod 3 \\text{ when } n \\text{  is odd},$$\n",
    "$$a_{2,1}t^2+a_{4,\\frac{n+4}{2}}t-a_{6,n+3} \\equiv -t^2+a(a - 27b)3^{-(n+9)} \\mod 3 \\text{ when } n \\text{  is even},$$\n",
    "splits if $a(a - 27b)/3^8\\equiv 1 \\mod 3$. So, the local data in Subcase 3 of Theorem 3.5 now follows from above computation and Lemma 2.1."
   ]
  },
  {
   "cell_type": "code",
   "execution_count": 0,
   "metadata": {
    "collapsed": false
   },
   "outputs": [
   ],
   "source": [
   ]
  }
 ],
 "metadata": {
  "kernelspec": {
   "display_name": "SageMath (system-wide)",
   "language": "sagemath",
   "metadata": {
    "cocalc": {
     "description": "Open-source mathematical software system",
     "priority": -1,
     "url": "https://www.sagemath.org/"
    }
   },
   "name": "sagemath",
   "resource_dir": "/ext/jupyter/kernels/sagemath"
  },
  "language_info": {
   "codemirror_mode": {
    "name": "ipython",
    "version": 2
   },
   "file_extension": ".py",
   "mimetype": "text/x-python",
   "name": "python",
   "nbconvert_exporter": "python",
   "pygments_lexer": "ipython2",
   "version": "2.7.15"
  }
 },
 "nbformat": 4,
 "nbformat_minor": 4
}